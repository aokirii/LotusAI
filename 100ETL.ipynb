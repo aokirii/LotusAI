{
 "cells": [
  {
   "metadata": {
    "collapsed": true,
    "ExecuteTime": {
     "end_time": "2025-09-24T13:29:09.375751Z",
     "start_time": "2025-09-24T13:29:09.371481Z"
    }
   },
   "cell_type": "code",
   "source": [
    "import pandas as pd\n",
    "%load_ext sql\n",
    "%sql sqlite:///sqlite-sakila.db\n",
    "veriler = r\"sqlite-sakila.db\""
   ],
   "id": "initial_id",
   "outputs": [
    {
     "name": "stdout",
     "output_type": "stream",
     "text": [
      "The sql extension is already loaded. To reload it, use:\n",
      "  %reload_ext sql\n"
     ]
    }
   ],
   "execution_count": 49
  },
  {
   "metadata": {
    "ExecuteTime": {
     "end_time": "2025-09-24T13:29:09.398024Z",
     "start_time": "2025-09-24T13:29:09.394826Z"
    }
   },
   "cell_type": "code",
   "source": [
    "import sqlite3\n",
    "\n",
    "conn = sqlite3.connect(veriler)\n",
    "\n",
    "cursor = conn.cursor()\n",
    "\n",
    "cursor.execute(\"SELECT name FROM sqlite_master WHERE type='table';\")\n",
    "tables = cursor.fetchall()\n",
    "\n",
    "for table in tables:\n",
    "    print(table[0])"
   ],
   "id": "b874ceef38ab7c9f",
   "outputs": [
    {
     "name": "stdout",
     "output_type": "stream",
     "text": [
      "actor\n",
      "country\n",
      "city\n",
      "address\n",
      "language\n",
      "category\n",
      "customer\n",
      "film\n",
      "film_actor\n",
      "film_category\n",
      "film_text\n",
      "inventory\n",
      "staff\n",
      "store\n",
      "payment\n",
      "rental\n"
     ]
    }
   ],
   "execution_count": 50
  },
  {
   "metadata": {},
   "cell_type": "markdown",
   "source": [
    "-----------------------------------\n",
    "1. TÜM VERİLERİ GÖSTER\n",
    "-----------------------------------"
   ],
   "id": "35512c6d484299c1"
  },
  {
   "metadata": {
    "ExecuteTime": {
     "end_time": "2025-09-24T13:29:09.413879Z",
     "start_time": "2025-09-24T13:29:09.409702Z"
    }
   },
   "cell_type": "code",
   "source": [
    "conn = sqlite3.connect(veriler)\n",
    "\n",
    "df = pd.read_sql_query(\"SELECT * FROM rental LIMIT 10;\", conn)\n",
    "\n",
    "print(df.head())"
   ],
   "id": "7def711aa5420898",
   "outputs": [
    {
     "name": "stdout",
     "output_type": "stream",
     "text": [
      "   rental_id              rental_date  inventory_id  customer_id  \\\n",
      "0          1  2005-05-24 22:53:30.000           367          130   \n",
      "1          2  2005-05-24 22:54:33.000          1525          459   \n",
      "2          3  2005-05-24 23:03:39.000          1711          408   \n",
      "3          4  2005-05-24 23:04:41.000          2452          333   \n",
      "4          5  2005-05-24 23:05:21.000          2079          222   \n",
      "\n",
      "               return_date  staff_id          last_update  \n",
      "0  2005-05-26 22:04:30.000         1  2021-03-06 15:53:41  \n",
      "1  2005-05-28 19:40:33.000         1  2021-03-06 15:53:41  \n",
      "2  2005-06-01 22:12:39.000         1  2021-03-06 15:53:41  \n",
      "3  2005-06-03 01:43:41.000         2  2021-03-06 15:53:41  \n",
      "4  2005-06-02 04:33:21.000         1  2021-03-06 15:53:41  \n"
     ]
    }
   ],
   "execution_count": 51
  },
  {
   "metadata": {},
   "cell_type": "markdown",
   "source": [
    "-----------------------------------\n",
    "2. HER FİLMDEKİ OYUNCULARI LİSTELE\n",
    "-----------------------------------"
   ],
   "id": "f6d2943aa3d0fb18"
  },
  {
   "metadata": {
    "ExecuteTime": {
     "end_time": "2025-09-24T13:29:09.435160Z",
     "start_time": "2025-09-24T13:29:09.423126Z"
    }
   },
   "cell_type": "code",
   "source": [
    "df = {}\n",
    "\n",
    "for table_name in [\"film\", \"actor\", \"film_actor\"]:\n",
    "    query = f\"SELECT * FROM {table_name}\"\n",
    "    cursor = conn.execute(query)\n",
    "    cols = [col[0] for col in cursor.description]\n",
    "    df[table_name] = pd.DataFrame(cursor.fetchall(), columns=cols)\n",
    "\n",
    "listOfActor = (\n",
    "    df[\"film\"].merge(df[\"film_actor\"], on=\"film_id\", how=\"inner\").merge(df[\"actor\"], on=\"actor_id\", how=\"inner\")\n",
    ")\n",
    "\n",
    "sonuc = listOfActor[[\"title\", \"first_name\", \"last_name\"]]\n",
    "\n",
    "print(sonuc)"
   ],
   "id": "797b55dbe928f006",
   "outputs": [
    {
     "name": "stdout",
     "output_type": "stream",
     "text": [
      "                  title first_name  last_name\n",
      "0      ACADEMY DINOSAUR   PENELOPE    GUINESS\n",
      "1      ACADEMY DINOSAUR  CHRISTIAN      GABLE\n",
      "2      ACADEMY DINOSAUR    LUCILLE      TRACY\n",
      "3      ACADEMY DINOSAUR     SANDRA       PECK\n",
      "4      ACADEMY DINOSAUR     JOHNNY       CAGE\n",
      "...                 ...        ...        ...\n",
      "5457  ZOOLANDER FICTION     WHOOPI       HURT\n",
      "5458  ZOOLANDER FICTION       JADA      RYDER\n",
      "5459          ZORRO ARK        IAN      TANDY\n",
      "5460          ZORRO ARK       NICK  DEGENERES\n",
      "5461          ZORRO ARK       LISA     MONROE\n",
      "\n",
      "[5462 rows x 3 columns]\n"
     ]
    }
   ],
   "execution_count": 52
  },
  {
   "metadata": {},
   "cell_type": "markdown",
   "source": [
    "-----------------------------------\n",
    "3. HER FİLMDE KAÇ OYUNCU OYNADI\n",
    "-----------------------------------"
   ],
   "id": "ab0a3463573a8454"
  },
  {
   "metadata": {
    "ExecuteTime": {
     "end_time": "2025-09-24T13:29:09.456031Z",
     "start_time": "2025-09-24T13:29:09.444833Z"
    }
   },
   "cell_type": "code",
   "source": [
    "df = {}\n",
    "\n",
    "for table_name in [\"film\", \"actor\", \"film_actor\"]:\n",
    "    query = f\"SELECT * FROM {table_name}\"\n",
    "    cursor = conn.execute(query)\n",
    "    cols = [col[0] for col in cursor.description]\n",
    "    df[table_name] = pd.DataFrame(cursor.fetchall(), columns=cols)\n",
    "\n",
    "listOfActor = (\n",
    "    df[\"film\"].merge(df[\"film_actor\"], on=\"film_id\", how=\"inner\").merge(df[\"actor\"], on=\"actor_id\", how=\"inner\")\n",
    ")\n",
    "\n",
    "Actor = listOfActor.groupby(\"title\").size().reset_index(name=\"actor_count\")\n",
    "\n",
    "sonuc = Actor\n",
    "\n",
    "print(sonuc)"
   ],
   "id": "3b0366de54c6c8ed",
   "outputs": [
    {
     "name": "stdout",
     "output_type": "stream",
     "text": [
      "                 title  actor_count\n",
      "0     ACADEMY DINOSAUR           10\n",
      "1       ACE GOLDFINGER            4\n",
      "2     ADAPTATION HOLES            5\n",
      "3     AFFAIR PREJUDICE            5\n",
      "4          AFRICAN EGG            5\n",
      "..                 ...          ...\n",
      "992     YOUNG LANGUAGE            5\n",
      "993         YOUTH KICK            5\n",
      "994       ZHIVAGO CORE            6\n",
      "995  ZOOLANDER FICTION            5\n",
      "996          ZORRO ARK            3\n",
      "\n",
      "[997 rows x 2 columns]\n"
     ]
    }
   ],
   "execution_count": 53
  },
  {
   "metadata": {},
   "cell_type": "markdown",
   "source": [
    "-----------------------------------\n",
    "4. HER OYUNCU KAÇ FİLMDE OYNADI?\n",
    "-----------------------------------"
   ],
   "id": "3d418a90bb49c9ec"
  },
  {
   "metadata": {
    "ExecuteTime": {
     "end_time": "2025-09-24T13:29:09.477851Z",
     "start_time": "2025-09-24T13:29:09.465432Z"
    }
   },
   "cell_type": "code",
   "source": [
    "df = {}\n",
    "\n",
    "for table_name in [\"film\", \"actor\", \"film_actor\"]:\n",
    "    query = f\"SELECT * FROM {table_name}\"\n",
    "    cursor = conn.execute(query)\n",
    "    cols = [col[0] for col in cursor.description]\n",
    "    df[table_name] = pd.DataFrame(cursor.fetchall(), columns=cols)\n",
    "\n",
    "actor_movie = (\n",
    "    df[\"actor\"].merge(df[\"film_actor\"], on = \"actor_id\", how=\"inner\").merge(df[\"film\"], on = \"film_id\", how=\"inner\")\n",
    ")\n",
    "\n",
    "TotalCount = actor_movie.groupby([\"first_name\", \"last_name\"]).size().reset_index(name = \"movie_count\")\n",
    "\n",
    "sonuc = TotalCount\n",
    "\n",
    "print(sonuc)"
   ],
   "id": "df821af4cddf945e",
   "outputs": [
    {
     "name": "stdout",
     "output_type": "stream",
     "text": [
      "    first_name  last_name  movie_count\n",
      "0         ADAM      GRANT           18\n",
      "1         ADAM     HOPPER           22\n",
      "2           AL    GARLAND           26\n",
      "3         ALAN   DREYFUSS           27\n",
      "4       ALBERT  JOHANSSON           33\n",
      "..         ...        ...          ...\n",
      "194       WILL     WILSON           31\n",
      "195    WILLIAM    HACKMAN           27\n",
      "196      WOODY    HOFFMAN           31\n",
      "197      WOODY      JOLIE           31\n",
      "198       ZERO       CAGE           25\n",
      "\n",
      "[199 rows x 3 columns]\n"
     ]
    }
   ],
   "execution_count": 54
  },
  {
   "metadata": {},
   "cell_type": "markdown",
   "source": [
    "-----------------------------------\n",
    "5. ENVANTERDE OLMAYAN FİLMLER VAR MI VE VARSA KAÇ TANE?\n",
    "-----------------------------------"
   ],
   "id": "f26bd59631733b1d"
  },
  {
   "metadata": {
    "ExecuteTime": {
     "end_time": "2025-09-24T13:31:14.126666Z",
     "start_time": "2025-09-24T13:31:14.109590Z"
    }
   },
   "cell_type": "code",
   "source": [
    "df = {}\n",
    "\n",
    "for table_name in [\"film\", \"inventory\"]:\n",
    "    query = f\"SELECT * FROM {table_name}\"\n",
    "    cursor = conn.execute(query)\n",
    "    cols = [col[0] for col in cursor.description]\n",
    "    df[table_name] = pd.DataFrame(cursor.fetchall(), columns=cols)\n",
    "\n",
    "movie_review = (\n",
    "    df['film'][~df['film']['film_id'].isin(df['inventory']['film_id'])].shape[0]\n",
    ")\n",
    "\n",
    "sonuc = pd.DataFrame({\"movie_review\": [movie_review]})\n",
    "\n",
    "print(sonuc)"
   ],
   "id": "525a24408906f771",
   "outputs": [
    {
     "name": "stdout",
     "output_type": "stream",
     "text": [
      "   movie_review\n",
      "0            42\n"
     ]
    }
   ],
   "execution_count": 58
  },
  {
   "metadata": {},
   "cell_type": "markdown",
   "source": [
    "-----------------------------------\n",
    "6. KİRALANABİLİR OLAN HER FİLMİN KAÇ KEZ KİRALANDIĞINI VE TOPLAM GELİRLERİNİ GETİRİN\n",
    "-----------------------------------"
   ],
   "id": "63f83f5d1eb10e35"
  },
  {
   "metadata": {
    "ExecuteTime": {
     "end_time": "2025-09-24T13:43:37.061434Z",
     "start_time": "2025-09-24T13:43:36.987112Z"
    }
   },
   "cell_type": "code",
   "source": [
    "df = {}\n",
    "for table_name in [\"film\", \"inventory\", \"rental\", \"payment\"]:\n",
    "    query = f\"SELECT * FROM {table_name}\"\n",
    "    cursor = conn.execute(query)\n",
    "    cols = [col[0] for col in cursor.description]\n",
    "    df[table_name] = pd.DataFrame(cursor.fetchall(), columns=cols)\n",
    "\n",
    "rent = (\n",
    "    df[\"film\"]\n",
    "      .merge(df[\"inventory\"], on=\"film_id\", how=\"left\", suffixes=(\"\", \"_inv\"))\n",
    "      .merge(df[\"rental\"], on=\"inventory_id\", how=\"left\", suffixes=(\"\", \"_rental\"))\n",
    "      .merge(df[\"payment\"], on=\"rental_id\", how=\"left\", suffixes=(\"\", \"_payment\"))\n",
    "      .groupby(\"title\", as_index=False)\n",
    "      .agg(\n",
    "          kiralama=(\"rental_id\", \"count\"),\n",
    "          total_payment=(\"amount\", \"sum\")\n",
    "      )\n",
    "      .sort_values([\"kiralama\", \"total_payment\"], ascending=[False, False])\n",
    "      .reset_index(drop=True)\n",
    ")\n",
    "\n",
    "print(rent.head())"
   ],
   "id": "828bda2b2c9f92ff",
   "outputs": [
    {
     "name": "stdout",
     "output_type": "stream",
     "text": [
      "                 title  kiralama  total_payment\n",
      "0   BUCKET BROTHERHOOD        34         180.66\n",
      "1     ROCKETEER MOTHER        33         116.67\n",
      "2        SCALAWAG DUCK        32         172.68\n",
      "3  RIDGEMONT SUBMARINE        32         130.68\n",
      "4       FORWARD TEMPLE        32         128.68\n"
     ]
    }
   ],
   "execution_count": 72
  },
  {
   "metadata": {},
   "cell_type": "markdown",
   "source": [
    "-----------------------------------\n",
    "7. ENVANTERDE OLMAYAN FİLMLERİN KİRA ORANLARINI GETİRİN\n",
    "-----------------------------------"
   ],
   "id": "c9b3207be356e464"
  },
  {
   "metadata": {
    "ExecuteTime": {
     "end_time": "2025-09-24T13:44:52.331159Z",
     "start_time": "2025-09-24T13:44:52.306480Z"
    }
   },
   "cell_type": "code",
   "source": [
    "df = {}\n",
    "\n",
    "for table_name in [\"film\", \"inventory\"]:\n",
    "    query = f\"SELECT * FROM {table_name}\"\n",
    "    cursor = conn.execute(query)\n",
    "    cols = [col[0] for col in cursor.description]\n",
    "    df[table_name] = pd.DataFrame(cursor.fetchall(), columns=cols)\n",
    "\n",
    "\n",
    "rent_rate = df[\"film\"][~df[\"film\"][\"film_id\"].isin(df[\"inventory\"][\"film_id\"])][[\"title\", \"rental_rate\"]]\n",
    "\n",
    "rent_rate.columns = [\"fimler\", \"kiralama_oranları\"]\n",
    "\n",
    "print(rent_rate)"
   ],
   "id": "3fae527b43c582a8",
   "outputs": [
    {
     "name": "stdout",
     "output_type": "stream",
     "text": [
      "                     fimler  kiralama_oranları\n",
      "13           ALICE FANTASIA               0.99\n",
      "32              APOLLO TEEN               2.99\n",
      "35           ARGONAUTS TOWN               0.99\n",
      "37            ARK RIDGEMONT               0.99\n",
      "40     ARSENIC INDEPENDENCE               0.99\n",
      "86        BOONDOCK BALLROOM               0.99\n",
      "107           BUTCH PANTHER               0.99\n",
      "127           CATCH AMISTAD               0.99\n",
      "143     CHINATOWN GLADIATOR               4.99\n",
      "147          CHOCOLATE DUCK               2.99\n",
      "170    COMMANDMENTS EXPRESS               4.99\n",
      "191        CROSSING DIVORCE               4.99\n",
      "194         CROWDS TELEMARK               4.99\n",
      "197        CRYSTAL BREAKING               2.99\n",
      "216              DAZED PUNK               4.99\n",
      "220  DELIVERANCE MULHOLLAND               0.99\n",
      "317       FIREHOUSE VIETNAM               0.99\n",
      "324           FLOATS GARDEN               2.99\n",
      "331   FRANKENSTEIN STRANGER               0.99\n",
      "358      GLADIATOR WESTWARD               4.99\n",
      "385               GUMP DATE               4.99\n",
      "403           HATE HANDICAP               0.99\n",
      "418             HOCUS FRIDA               2.99\n",
      "494        KENTUCKIAN GIANT               2.99\n",
      "496        KILL BROTHERHOOD               0.99\n",
      "606             MUPPET MILE               4.99\n",
      "641          ORDER BETRAYED               2.99\n",
      "668           PEARL DESTINY               2.99\n",
      "670         PERDITION FARGO               4.99\n",
      "700           PSYCHO SHRUNK               2.99\n",
      "711       RAIDERS ANTITRUST               0.99\n",
      "712           RAINBOW SHOCK               4.99\n",
      "741           ROOF CHAMPION               0.99\n",
      "800           SISTER FREDDY               4.99\n",
      "801             SKY MIRACLE               2.99\n",
      "859        SUICIDES SILENCE               4.99\n",
      "873            TADPOLE PARK               2.99\n",
      "908        TREASURE COMMAND               0.99\n",
      "942       VILLAIN DESPERATE               4.99\n",
      "949            VOLUME HOUSE               4.99\n",
      "953               WAKE JAWS               4.99\n",
      "954            WALLS ARTIST               4.99\n"
     ]
    }
   ],
   "execution_count": 73
  },
  {
   "metadata": {},
   "cell_type": "markdown",
   "source": [
    "-----------------------------------\n",
    "8. BİRDEN FAZLA DVD'Yİ İADE ETMEYEN KAÇ MÜŞTERİ VAR?\n",
    "-----------------------------------"
   ],
   "id": "e0bbe61423656d28"
  },
  {
   "metadata": {
    "ExecuteTime": {
     "end_time": "2025-09-24T13:54:07.726010Z",
     "start_time": "2025-09-24T13:54:07.687515Z"
    }
   },
   "cell_type": "code",
   "source": [
    "df = {}\n",
    "\n",
    "for table_name in [\"rental\"]:\n",
    "    query = f\"SELECT * FROM {table_name}\"\n",
    "    cursor = conn.execute(query)\n",
    "    cols = [col[0] for col in cursor.description]\n",
    "    df[table_name] = pd.DataFrame(cursor.fetchall(), columns=cols)\n",
    "\n",
    "customer_count = (df[\"rental\"].query(\"return_date.isnull()\", engine=\"python\").customer_id.nunique()\n",
    ")\n",
    "\n",
    "unreturn_customer_count = pd.DataFrame({\"customer_count\": [customer_count]})\n",
    "\n",
    "print(unreturn_customer_count.head())"
   ],
   "id": "5df9ee0495cd46fe",
   "outputs": [
    {
     "name": "stdout",
     "output_type": "stream",
     "text": [
      "   customer_count\n",
      "0             159\n"
     ]
    }
   ],
   "execution_count": 77
  },
  {
   "metadata": {},
   "cell_type": "markdown",
   "source": [
    "-----------------------------------\n",
    "9. HER MÜŞTERİ KAÇ FİLM KİRALADI?\n",
    "-----------------------------------"
   ],
   "id": "324f0f6af404b600"
  },
  {
   "metadata": {
    "ExecuteTime": {
     "end_time": "2025-09-24T13:50:35.762128Z",
     "start_time": "2025-09-24T13:50:35.718680Z"
    }
   },
   "cell_type": "code",
   "outputs": [
    {
     "name": "stdout",
     "output_type": "stream",
     "text": [
      "  first_name last_name  rental_count\n",
      "0    ELEANOR      HUNT            46\n",
      "1       KARL      SEAL            45\n",
      "2     MARCIA      DEAN            42\n",
      "3      CLARA      SHAW            42\n",
      "4      TAMMY   SANDERS            41\n"
     ]
    }
   ],
   "execution_count": 76,
   "source": [
    "df = {}\n",
    "\n",
    "for table_name in [\"customer\", \"rental\"]:\n",
    "    query = f\"SELECT * FROM {table_name}\"\n",
    "    cursor = conn.execute(query)\n",
    "    cols = [col[0] for col in cursor.description]\n",
    "    df[table_name] = pd.DataFrame(cursor.fetchall(), columns=cols)\n",
    "\n",
    "rentals_per_customer = (\n",
    "    df[\"customer\"]\n",
    "      .merge(df[\"rental\"], on=\"customer_id\", how=\"left\")\n",
    "      .groupby([\"first_name\", \"last_name\"], as_index=False)\n",
    "      .agg(rental_count=(\"rental_id\", \"count\"))\n",
    "      .sort_values(\"rental_count\", ascending=False)\n",
    "    .reset_index(drop=True)\n",
    ")\n",
    "\n",
    "print(rentals_per_customer.head())"
   ],
   "id": "fb7ac440169dd4cd"
  },
  {
   "metadata": {},
   "cell_type": "markdown",
   "source": [
    "-----------------------------------\n",
    "10. TÜRLERİNE GÖRE EN ÇOK KİRALANAN FİLMLER VE BUNLARA NE KADAR ÖDENDİ?\n",
    "-----------------------------------"
   ],
   "id": "e63dee3d76bd3abf"
  },
  {
   "metadata": {
    "ExecuteTime": {
     "end_time": "2025-09-24T13:57:41.168277Z",
     "start_time": "2025-09-24T13:57:41.127477Z"
    }
   },
   "cell_type": "code",
   "source": [
    "df = {}\n",
    "\n",
    "for table_name in [\"customer\", \"rental\"]:\n",
    "    query = f\"SELECT * FROM {table_name}\"\n",
    "    cursor = conn.execute(query)\n",
    "    cols = [col[0] for col in cursor.description]\n",
    "    df[table_name] = pd.DataFrame(cursor.fetchall(), columns=cols)\n",
    "\n",
    "rent_count = (df[\"customer\"]\n",
    "    .merge(df[\"rental\"], on=\"customer_id\", how=\"left\")\n",
    "    .groupby([\"first_name\", \"last_name\"], as_index=False)\n",
    "    .agg(rent_count=(\"rental_id\", \"count\"))\n",
    "    .reset_index(drop=True)\n",
    ")\n",
    "\n",
    "print(rent_count.head())"
   ],
   "id": "47bbfb41889b8208",
   "outputs": [
    {
     "name": "stdout",
     "output_type": "stream",
     "text": [
      "  first_name last_name  rent_count\n",
      "0      AARON     SELBY          24\n",
      "1       ADAM     GOOCH          22\n",
      "2     ADRIAN     CLARY          19\n",
      "3      AGNES    BISHOP          23\n",
      "4       ALAN      KAHN          26\n"
     ]
    }
   ],
   "execution_count": 79
  },
  {
   "metadata": {},
   "cell_type": "markdown",
   "source": [
    "-----------------------------------\n",
    "11. TÜR VE TARİHE GÖRE KİRALAMA SAYISI VE GELİR\n",
    "-----------------------------------"
   ],
   "id": "a832ea1833453050"
  },
  {
   "metadata": {
    "ExecuteTime": {
     "end_time": "2025-09-24T14:00:24.340224Z",
     "start_time": "2025-09-24T14:00:24.228052Z"
    }
   },
   "cell_type": "code",
   "source": [
    "df = {}\n",
    "\n",
    "for table_name in [\"film\",\"film_category\", \"category\",\"inventory\", \"rental\", \"payment\"]:\n",
    "    query = f\"SELECT * FROM {table_name}\"\n",
    "    cursor = conn.execute(query)\n",
    "    cols = [col[0] for col in cursor.description]\n",
    "    df[table_name] = pd.DataFrame(cursor.fetchall(), columns=cols)\n",
    "\n",
    "category_date_rent = (df[\"category\"]\n",
    "    .merge(df[\"film_category\"], on=\"category_id\", suffixes=(\"\", \"_cat\")) \\\n",
    "    .merge(df[\"film\"], on=\"film_id\", suffixes=(\"\", \"_film\")) \\\n",
    "    .merge(df[\"inventory\"], on=\"film_id\", suffixes=(\"\", \"_inv\")) \\\n",
    "    .merge(df[\"rental\"], on=\"inventory_id\", suffixes=(\"\", \"_rental\")) \\\n",
    "    .merge(df[\"payment\"], on=\"rental_id\", suffixes=(\"\", \"_payment\")) \\\n",
    "    .assign(rental_date=lambda x: pd.to_datetime(x[\"rental_date\"])) \\\n",
    "    .groupby([\"name\", \"rental_date\"]).agg(\n",
    "\n",
    "        kiralanma_sayilari=(\"rental_id\", \"count\"),\n",
    "        toplam_gelirleri=(\"amount\", \"sum\")\n",
    "\n",
    "    ).reset_index().sort_values(by=\"rental_date\")\n",
    ")\n",
    "\n",
    "print(category_date_rent.head())"
   ],
   "id": "d2fe1d69d1184f96",
   "outputs": [
    {
     "name": "stdout",
     "output_type": "stream",
     "text": [
      "           name         rental_date  kiralanma_sayilari  toplam_gelirleri\n",
      "7142     Family 2005-05-24 22:53:30                   1              2.99\n",
      "11039     Music 2005-05-24 22:54:33                   1              2.99\n",
      "2241   Children 2005-05-24 23:03:39                   1              3.99\n",
      "10205    Horror 2005-05-24 23:04:41                   1              4.99\n",
      "2242   Children 2005-05-24 23:05:21                   1              6.99\n"
     ]
    }
   ],
   "execution_count": 80
  },
  {
   "metadata": {},
   "cell_type": "markdown",
   "source": [
    "-----------------------------------\n",
    "12. KİRALANABİLİR FİLMLER İÇİN TÜRLERİNE GÖRE HER FİLMİN KAÇ KEZ KİRALANDIĞI\n",
    "-----------------------------------"
   ],
   "id": "ed445fb671e70684"
  },
  {
   "metadata": {
    "ExecuteTime": {
     "end_time": "2025-09-24T14:10:36.595100Z",
     "start_time": "2025-09-24T14:10:36.543442Z"
    }
   },
   "cell_type": "code",
   "source": [
    "df = {}\n",
    "\n",
    "for table_name in [\"film\",\"film_category\", \"category\",\"inventory\", \"rental\"]:\n",
    "    query = f\"SELECT * FROM {table_name}\"\n",
    "    cursor = conn.execute(query)\n",
    "    cols = [col[0] for col in cursor.description]\n",
    "    df[table_name] = pd.DataFrame(cursor.fetchall(), columns=cols)\n",
    "\n",
    "movie_rent = (df[\"category\"]\n",
    "    .merge(df[\"film_category\"], on=\"category_id\", suffixes=(\"\", \"_cat\"))\n",
    "    .merge(df[\"film\"], on=\"film_id\", suffixes=(\"\", \"_film\"))\n",
    "    .merge(df[\"inventory\"], on=\"film_id\", suffixes=(\"\", \"_inv\"))\n",
    "    .merge(df[\"rental\"], on=\"inventory_id\", suffixes=(\"\", \"_rental\"))\n",
    "    .groupby([\"name\", \"title\"])\n",
    "    .agg(rental_count=(\"rental_id\", \"count\"))\n",
    "    .reset_index()\n",
    ")\n",
    "\n",
    "print(movie_rent.head())"
   ],
   "id": "4f09c292ad5acaf4",
   "outputs": [
    {
     "name": "stdout",
     "output_type": "stream",
     "text": [
      "     name                title  rental_count\n",
      "0  Action         AMADEUS HOLY            21\n",
      "1  Action      AMERICAN CIRCUS            22\n",
      "2  Action   ANTITRUST TOMATOES            10\n",
      "3  Action  BAREFOOT MANCHURIAN            18\n",
      "4  Action         BERETS AGENT            21\n"
     ]
    }
   ],
   "execution_count": 94
  },
  {
   "metadata": {},
   "cell_type": "markdown",
   "source": [
    "-----------------------------------\n",
    "13. EN ÇOK RAFTA BEKLEYEN FİLMLER\n",
    "-----------------------------------_"
   ],
   "id": "7db5fa10d8487809"
  },
  {
   "metadata": {
    "ExecuteTime": {
     "end_time": "2025-09-24T14:13:13.625639Z",
     "start_time": "2025-09-24T14:13:13.571644Z"
    }
   },
   "cell_type": "code",
   "source": [
    "df = {}\n",
    "\n",
    "for table_name in [\"film\", \"inventory\", \"rental\"]:\n",
    "    cur = conn.execute(f\"SELECT * FROM {table_name}\")\n",
    "    cols = [c[0] for c in cur.description]\n",
    "    df[table_name] = pd.DataFrame(cur.fetchall(), columns=cols)\n",
    "\n",
    "df[\"rental\"][\"rental_date\"] = pd.to_datetime(df[\"rental\"][\"rental_date\"], errors=\"coerce\")\n",
    "df[\"rental\"][\"return_date\"] = pd.to_datetime(df[\"rental\"][\"return_date\"], errors=\"coerce\")\n",
    "\n",
    "active = df[\"rental\"][df[\"rental\"][\"return_date\"].isna()].copy()\n",
    "\n",
    "now = pd.Timestamp.now()\n",
    "active[\"days_on_shelf\"] = (now - active[\"rental_date\"]).dt.days\n",
    "\n",
    "on_shelf = (\n",
    "    df[\"film\"]\n",
    "      .merge(df[\"inventory\"], on=\"film_id\", how=\"inner\")\n",
    "      .merge(active, on=\"inventory_id\", how=\"inner\")\n",
    "      [[\"title\", \"days_on_shelf\"]]\n",
    "      .sort_values(\"days_on_shelf\", ascending=False)\n",
    "      .reset_index()\n",
    ")\n",
    "\n",
    "print(on_shelf.head())"
   ],
   "id": "381c8bd0fec8a81",
   "outputs": [
    {
     "name": "stdout",
     "output_type": "stream",
     "text": [
      "   index                title  days_on_shelf\n",
      "0      0     ACADEMY DINOSAUR           7339\n",
      "1    115      MUMMY CREATURES           7162\n",
      "2    117         NONE SPIKING           7162\n",
      "3    118  OPERATION OPERATION           7162\n",
      "4    119    OPPOSITE NECKLACE           7162\n"
     ]
    }
   ],
   "execution_count": 97
  },
  {
   "metadata": {},
   "cell_type": "markdown",
   "source": [
    "-----------------------------------\n",
    "14. GEÇ, ERKEN VE ZAMANINDA İADE EDİLEN KİRALANMIŞ FİLMLER\n",
    "-----------------------------------"
   ],
   "id": "74384a61875e320"
  },
  {
   "metadata": {
    "ExecuteTime": {
     "end_time": "2025-09-24T14:19:41.393585Z",
     "start_time": "2025-09-24T14:19:41.351531Z"
    }
   },
   "cell_type": "code",
   "source": [
    "# dataframe listesi oluşturma\n",
    "df = {}\n",
    "\n",
    "# Tek cursor kullanarak daha temiz okuma\n",
    "query = \"SELECT * FROM rental\"\n",
    "cur = conn.execute(query)\n",
    "cols = [c[0] for c in cur.description]\n",
    "df[\"rental\"] = pd.DataFrame(cur.fetchall(), columns=cols)\n",
    "\n",
    "rental_data = df[\"rental\"].copy()\n",
    "\n",
    "rental_data[\"rental_date\"] = pd.to_datetime(rental_data[\"rental_date\"], errors=\"coerce\")\n",
    "rental_data[\"return_date\"] = pd.to_datetime(rental_data[\"return_date\"], errors=\"coerce\")\n",
    "\n",
    "rental_data[\"due_date\"] = rental_data[\"rental_date\"] + pd.Timedelta(days=7)\n",
    "\n",
    "valid = rental_data[\"return_date\"].notna()\n",
    "\n",
    "late_return = (valid & (rental_data[\"return_date\"] > rental_data[\"due_date\"])).sum()\n",
    "early_return = (valid & (rental_data[\"return_date\"] < rental_data[\"due_date\"])).sum()\n",
    "ontime_return = (valid & (rental_data[\"return_date\"] == rental_data[\"due_date\"])).sum()\n",
    "\n",
    "print(f\"Gecikmeli iade: {late_return}\")\n",
    "print(f\"Erken iade: {early_return}\")\n",
    "print(f\"Zamanında iade: {ontime_return}\")\n"
   ],
   "id": "ca48f4a7a3858c8d",
   "outputs": [
    {
     "name": "stdout",
     "output_type": "stream",
     "text": [
      "Gecikmeli iade: 4494\n",
      "Erken iade: 11364\n",
      "Zamanında iade: 3\n"
     ]
    }
   ],
   "execution_count": 101
  },
  {
   "metadata": {},
   "cell_type": "markdown",
   "source": [
    "-----------------------------------\n",
    "15. HANGİ MÜŞTERİ EN ÇOK DVD KİRALAMIŞ?\n",
    "-----------------------------------"
   ],
   "id": "2237b0b692979bb2"
  },
  {
   "metadata": {
    "ExecuteTime": {
     "end_time": "2025-09-24T14:23:43.113209Z",
     "start_time": "2025-09-24T14:23:43.072700Z"
    }
   },
   "cell_type": "code",
   "source": [
    "df = {}\n",
    "\n",
    "for table_name in [\"customer\", \"rental\", \"inventory\"]:\n",
    "    query = f\"SELECT * FROM {table_name}\"\n",
    "    cursor = conn.execute(query)\n",
    "    cols = [col[0] for col in cursor.description]\n",
    "    df[table_name] = pd.DataFrame(cursor.fetchall(), columns=cols)\n",
    "\n",
    "max_dvd_rent = (df[\"customer\"]\n",
    "    .merge(df[\"rental\"], on=\"customer_id\", how=\"left\")\n",
    "    .merge(df[\"inventory\"], on=\"inventory_id\")\n",
    "    .groupby([\"first_name\", \"last_name\"], as_index=False)\n",
    "    .agg(rental_count=(\"rental_id\", \"count\"))\n",
    "    .reset_index(drop=True)\n",
    "    .sort_values(by=\"rental_count\", ascending=False)\n",
    ")\n",
    "\n",
    "print(max_dvd_rent.head(1))"
   ],
   "id": "2577ff197348af4d",
   "outputs": [
    {
     "name": "stdout",
     "output_type": "stream",
     "text": [
      "    first_name last_name  rental_count\n",
      "175    ELEANOR      HUNT            46\n"
     ]
    }
   ],
   "execution_count": 105
  },
  {
   "metadata": {},
   "cell_type": "markdown",
   "source": [
    "-----------------------------------\n",
    "16. EN POPÜLER FİLM KATEGORİSİ NEDİR?\n",
    "-----------------------------------"
   ],
   "id": "a8ae0bc1840026c3"
  },
  {
   "metadata": {
    "ExecuteTime": {
     "end_time": "2025-09-24T14:30:47.260485Z",
     "start_time": "2025-09-24T14:30:47.194627Z"
    }
   },
   "cell_type": "code",
   "source": [
    "df = {}\n",
    "\n",
    "for table_name in [\"category\", \"film_category\", \"film\",\"inventory\", \"rental\"]:\n",
    "    query = f\"SELECT * FROM {table_name}\"\n",
    "    cursor = conn.execute(query)\n",
    "    cols = [col[0] for col in cursor.description]\n",
    "    df[table_name] = pd.DataFrame(cursor.fetchall(), columns=cols)\n",
    "\n",
    "populer_kategori = (df[\"category\"]\n",
    "    .merge(df[\"film_category\"], on=\"category_id\", how =\"left\", suffixes=(\"_category\", \"_film_category\"))\n",
    "    .merge(df[\"film\"], on=\"film_id\", how =\"left\", suffixes=(\"_film_category\", \"_film\"))\n",
    "    .merge(df[\"inventory\"], on=\"film_id\", how =\"left\", suffixes=(\"_film\", \"_inventory\"))\n",
    "    .merge(df[\"rental\"], on=\"inventory_id\", how =\"left\", suffixes=(\"_inventory\", \"_rental\"))\n",
    "    .groupby(\"name\")\n",
    "    .agg(rent_count=(\"rental_id\", \"count\"))\n",
    "    .reset_index()\n",
    "    .sort_values(by=\"rent_count\", ascending=False)\n",
    ")\n",
    "\n",
    "print(populer_kategori.head(1))"
   ],
   "id": "4e2ccf9c26296f29",
   "outputs": [
    {
     "name": "stdout",
     "output_type": "stream",
     "text": [
      "      name  rent_count\n",
      "14  Sports        1179\n"
     ]
    }
   ],
   "execution_count": 115
  },
  {
   "metadata": {},
   "cell_type": "markdown",
   "source": [
    "-----------------------------------\n",
    "17. HANGİ ÇALIŞAN EN ÇOK KİRALAMA İŞLEMİ GERÇEKLEŞTİRMİŞTİR?\n",
    "-----------------------------------"
   ],
   "id": "4d5ea1203737a65f"
  },
  {
   "metadata": {
    "ExecuteTime": {
     "end_time": "2025-09-24T14:33:22.204677Z",
     "start_time": "2025-09-24T14:33:22.169958Z"
    }
   },
   "cell_type": "code",
   "source": [
    "df = {}\n",
    "\n",
    "for table_name in [\"staff\", \"rental\"]:\n",
    "    query = f\"SELECT * FROM {table_name}\"\n",
    "    cursor = conn.execute(query)\n",
    "    cols = [col[0] for col in cursor.description]\n",
    "    df[table_name] = pd.DataFrame(cursor.fetchall(), columns=cols)\n",
    "\n",
    "max_rent = (df[\"staff\"]\n",
    "    .merge(df[\"rental\"], on=\"staff_id\", how =\"left\")\n",
    "    .groupby([\"first_name\", \"last_name\"])\n",
    "    .agg(rent_count=(\"rental_id\", \"count\"))\n",
    "    .reset_index()\n",
    "    .sort_values(by=\"rent_count\", ascending=False)\n",
    ")\n",
    "\n",
    "print(max_rent.head(1))"
   ],
   "id": "b9d804ce3155a9e2",
   "outputs": [
    {
     "name": "stdout",
     "output_type": "stream",
     "text": [
      "  first_name last_name  rent_count\n",
      "1       Mike   Hillyer        8040\n"
     ]
    }
   ],
   "execution_count": 121
  },
  {
   "metadata": {},
   "cell_type": "markdown",
   "source": [
    "-----------------------------------\n",
    "18. EN ÇOK GELİRİ HANGİ FİLM GETİRMİŞ ?\n",
    "-----------------------------------"
   ],
   "id": "98e1895bdd06e09b"
  },
  {
   "metadata": {
    "ExecuteTime": {
     "end_time": "2025-09-24T14:53:51.639494Z",
     "start_time": "2025-09-24T14:53:51.553358Z"
    }
   },
   "cell_type": "code",
   "source": [
    "df = {}\n",
    "\n",
    "for table_name in [\"film\", \"inventory\", \"rental\", \"payment\"]:\n",
    "    cur = conn.execute(f\"SELECT * FROM {table_name}\")\n",
    "    cols = [c[0] for c in cur.description]\n",
    "    df[table_name] = pd.DataFrame(cur.fetchall(), columns=cols)\n",
    "\n",
    "top_film = (df[\"film\"]\n",
    "      .merge(df[\"inventory\"], on=\"film_id\", how=\"inner\", suffixes=(\"\", \"_inv\"))\n",
    "      .merge(df[\"rental\"], on=\"inventory_id\", how=\"inner\", suffixes=(\"\", \"_rent\"))\n",
    "      .merge(df[\"payment\"], on=\"rental_id\", how=\"inner\", suffixes=(\"\", \"_pay\"))\n",
    "      .groupby(\"title\", as_index=False)\n",
    "      .agg(total_revenue=(\"amount\", \"sum\"))\n",
    "      .sort_values(\"total_revenue\", ascending=False)\n",
    ")\n",
    "\n",
    "print(top_film.head(1))"
   ],
   "id": "ef5411de1259318b",
   "outputs": [
    {
     "name": "stdout",
     "output_type": "stream",
     "text": [
      "                title  total_revenue\n",
      "841  TELEGRAPH VOYAGE         231.73\n"
     ]
    }
   ],
   "execution_count": 124
  },
  {
   "metadata": {},
   "cell_type": "markdown",
   "source": [
    "-----------------------------------\n",
    "19. HER MÜŞTERİ İÇİN TOPLAM HARCAMA MİKTARINI BULUN\n",
    "-----------------------------------"
   ],
   "id": "df1f773fbc8cd562"
  },
  {
   "metadata": {
    "ExecuteTime": {
     "end_time": "2025-09-24T15:00:08.463960Z",
     "start_time": "2025-09-24T15:00:08.406764Z"
    }
   },
   "cell_type": "code",
   "source": [
    "df = {}\n",
    "\n",
    "for table_name in [\"rental\", \"payment\", \"customer\"]:\n",
    "    cur = conn.execute(f\"SELECT * FROM {table_name}\")\n",
    "    cols = [c[0] for c in cur.description]\n",
    "    df[table_name] = pd.DataFrame(cur.fetchall(), columns=cols)\n",
    "\n",
    "spend_per_customer = (\n",
    "    df[\"customer\"]\n",
    "      .merge(df[\"rental\"],  on=\"customer_id\")     # customer -> rental\n",
    "      .merge(df[\"payment\"], on=\"rental_id\")     # rental   -> payment\n",
    "      .groupby([\"first_name\", \"last_name\"], as_index=False)\n",
    "      .agg(total_spent=(\"amount\", \"sum\"))\n",
    "      .fillna({\"total_spent\": 0})\n",
    "      .sort_values(\"total_spent\", ascending=False)\n",
    "      .reset_index(drop=True)\n",
    ")\n",
    "\n",
    "print(spend_per_customer.head(10))"
   ],
   "id": "45beb72f483c87c7",
   "outputs": [
    {
     "name": "stdout",
     "output_type": "stream",
     "text": [
      "  first_name last_name  total_spent\n",
      "0       KARL      SEAL       221.55\n",
      "1    ELEANOR      HUNT       216.54\n",
      "2      CLARA      SHAW       195.58\n",
      "3     RHONDA   KENNEDY       194.61\n",
      "4     MARION    SNYDER       194.61\n",
      "5      TOMMY   COLLAZO       186.62\n",
      "6     WESLEY      BULL       177.60\n",
      "7        TIM      CARY       175.61\n",
      "8     MARCIA      DEAN       175.58\n",
      "9        ANA   BRADLEY       174.66\n"
     ]
    }
   ],
   "execution_count": 132
  },
  {
   "metadata": {},
   "cell_type": "markdown",
   "source": [
    "-----------------------------------\n",
    "20. HER KATEGORİDEKİ TOPLAM KİRALAMA SAYISINI VE GELİRLERİ BULUN\n",
    "-----------------------------------"
   ],
   "id": "b870dac360074504"
  },
  {
   "metadata": {
    "ExecuteTime": {
     "end_time": "2025-09-24T15:02:30.657728Z",
     "start_time": "2025-09-24T15:02:30.598706Z"
    }
   },
   "cell_type": "code",
   "source": [
    "df = {}\n",
    "\n",
    "for table_name in [\"category\", \"film_category\", \"film\", \"inventory\", \"rental\", \"payment\"]:\n",
    "    cur = conn.execute(f\"SELECT * FROM {table_name}\")\n",
    "    cols = [c[0] for c in cur.description]\n",
    "    df[table_name] = pd.DataFrame(cur.fetchall(), columns=cols)\n",
    "\n",
    "category_stats = (\n",
    "    df[\"category\"]\n",
    "      .merge(df[\"film_category\"], on=\"category_id\", suffixes=(\"_category\", \"_film_category\"))\n",
    "      .merge(df[\"film\"],         on=\"film_id\",      suffixes=(\"_film_category\", \"_film\"))\n",
    "      .merge(df[\"inventory\"],    on=\"film_id\",      suffixes=(\"_film\", \"_inventory\"))\n",
    "      .merge(df[\"rental\"],       on=\"inventory_id\", suffixes=(\"_inventory\", \"_rental\"))\n",
    "      .merge(df[\"payment\"],      on=\"rental_id\",    suffixes=(\"_rental\", \"_pay\"))\n",
    "      .groupby([\"category_id\", \"name\"], as_index=False)\n",
    "      .agg(\n",
    "          rental_count=(\"rental_id\", \"count\"),\n",
    "          total_revenue=(\"amount\", \"sum\")\n",
    "      )\n",
    "      .sort_values([\"rental_count\", \"total_revenue\"], ascending=False)\n",
    "      .reset_index(drop=True)\n",
    ")\n",
    "\n",
    "print(category_stats.head(10))"
   ],
   "id": "162017ccfc805431",
   "outputs": [
    {
     "name": "stdout",
     "output_type": "stream",
     "text": [
      "   category_id         name  rental_count  total_revenue\n",
      "0           15       Sports          1179        5314.21\n",
      "1            2    Animation          1166        4656.30\n",
      "2            1       Action          1112        4375.85\n",
      "3           14       Sci-Fi          1101        4756.98\n",
      "4            8       Family          1096        4226.07\n",
      "5            7        Drama          1060        4587.39\n",
      "6            6  Documentary          1050        4217.52\n",
      "7            9      Foreign          1033        4270.67\n",
      "8           10        Games           969        4281.33\n",
      "9            3     Children           945        3655.55\n"
     ]
    }
   ],
   "execution_count": 137
  },
  {
   "metadata": {},
   "cell_type": "markdown",
   "source": [
    "-----------------------------------\n",
    "21. EN UZUN SÜRE KİRADA KALMIŞ FİLMLER\n",
    "-----------------------------------"
   ],
   "id": "abdce99d5a74fccd"
  },
  {
   "metadata": {
    "ExecuteTime": {
     "end_time": "2025-09-24T15:07:09.347258Z",
     "start_time": "2025-09-24T15:07:09.293515Z"
    }
   },
   "cell_type": "code",
   "source": [
    "df = {}\n",
    "\n",
    "for table_name in [\"film\", \"inventory\", \"rental\"]:\n",
    "    cur = conn.execute(f\"SELECT * FROM {table_name}\")\n",
    "    cols = [c[0] for c in cur.description]\n",
    "    df[table_name] = pd.DataFrame(cur.fetchall(), columns=cols)\n",
    "\n",
    "# Kiralanma süresi tablosu\n",
    "film_rental = (\n",
    "    df[\"film\"]\n",
    "      .merge(df[\"inventory\"], on=\"film_id\", how=\"inner\", suffixes=(\"\", \"_inv\"))\n",
    "      .merge(df[\"rental\"], on=\"inventory_id\", how=\"inner\", suffixes=(\"\", \"_rent\"))\n",
    ")\n",
    "\n",
    "# Sadece iade edilmişler\n",
    "film_rental = film_rental[film_rental[\"return_date\"].notnull()].copy()\n",
    "\n",
    "# Tarih dönüşümü ve kiralama süresi (gün)\n",
    "film_rental[\"rental_date\"] = pd.to_datetime(film_rental[\"rental_date\"], errors=\"coerce\")\n",
    "film_rental[\"return_date\"] = pd.to_datetime(film_rental[\"return_date\"], errors=\"coerce\")\n",
    "film_rental[\"rental_duration_days\"] = (\n",
    "    (film_rental[\"return_date\"] - film_rental[\"rental_date\"]).dt.total_seconds() / 86400\n",
    ")\n",
    "\n",
    "# Her film için maksimum kiralama süresi\n",
    "film_rental_summary = (\n",
    "    film_rental.groupby(\"title\", as_index=False)\n",
    "               .agg(max_rental_duration_days=(\"rental_duration_days\", \"max\"))\n",
    "               .sort_values(\"max_rental_duration_days\", ascending=False)\n",
    "               .head(10)\n",
    ")\n",
    "\n",
    "print(film_rental_summary)"
   ],
   "id": "5436d4292a525fd6",
   "outputs": [
    {
     "name": "stdout",
     "output_type": "stream",
     "text": [
      "                  title  max_rental_duration_days\n",
      "400  HOLOCAUST HIGHBALL                  9.249306\n",
      "393     HIGHBALL POTTER                  9.249306\n",
      "160   CONEHEADS SMOOCHY                  9.248611\n",
      "625          PANIC CLUB                  9.248611\n",
      "535          MASK PEACH                  9.248611\n",
      "868        TRAMP OTHERS                  9.248611\n",
      "602   NOTORIOUS REUNION                  9.247222\n",
      "38         ATTACKS HATE                  9.247222\n",
      "863         TRACY CIDER                  9.246528\n",
      "461        JERSEY SASSY                  9.246528\n"
     ]
    }
   ],
   "execution_count": 143
  },
  {
   "metadata": {},
   "cell_type": "markdown",
   "source": [
    "-----------------------------------\n",
    "22. EN AZ KİRALANAN 5 FİLM HANGİLERİDİR?\n",
    "-----------------------------------"
   ],
   "id": "da281f74cd173b45"
  },
  {
   "metadata": {
    "ExecuteTime": {
     "end_time": "2025-09-24T15:08:23.198102Z",
     "start_time": "2025-09-24T15:08:23.141838Z"
    }
   },
   "cell_type": "code",
   "source": [
    "df = {}\n",
    "\n",
    "for table_name in [\"film\", \"inventory\", \"rental\"]:\n",
    "    cur = conn.execute(f\"SELECT * FROM {table_name}\")\n",
    "    cols = [c[0] for c in cur.description]\n",
    "    df[table_name] = pd.DataFrame(cur.fetchall(), columns=cols)\n",
    "\n",
    "# En az kiralanan 5 film (kiralanmayanlar dahil)\n",
    "least_rented = (\n",
    "    df[\"film\"]\n",
    "      .merge(df[\"inventory\"], on=\"film_id\", how=\"left\",  suffixes=(\"\", \"_inv\"))\n",
    "      .merge(df[\"rental\"],   on=\"inventory_id\", how=\"left\", suffixes=(\"\", \"_rent\"))\n",
    "      .groupby(\"title\", as_index=False)\n",
    "      .agg(rental_count=(\"rental_id\", \"count\"))\n",
    "      .fillna({\"rental_count\": 0})\n",
    "      .sort_values(\"rental_count\", ascending=True, kind=\"stable\")\n",
    "      .head(5)\n",
    "      .reset_index(drop=True)\n",
    ")\n",
    "\n",
    "print(least_rented)"
   ],
   "id": "5e966f16565f18d9",
   "outputs": [
    {
     "name": "stdout",
     "output_type": "stream",
     "text": [
      "                  title  rental_count\n",
      "0        ALICE FANTASIA             0\n",
      "1           APOLLO TEEN             0\n",
      "2        ARGONAUTS TOWN             0\n",
      "3         ARK RIDGEMONT             0\n",
      "4  ARSENIC INDEPENDENCE             0\n"
     ]
    }
   ],
   "execution_count": 144
  },
  {
   "metadata": {},
   "cell_type": "markdown",
   "source": [
    "-----------------------------------\n",
    "24. EN FAZLA KAZANÇ SAĞLAYAN 5 MÜŞTERİYİ BULUN\n",
    "-----------------------------------"
   ],
   "id": "1d27a6c9dca76f9e"
  },
  {
   "metadata": {
    "ExecuteTime": {
     "end_time": "2025-09-24T15:10:15.286737Z",
     "start_time": "2025-09-24T15:10:15.223630Z"
    }
   },
   "cell_type": "code",
   "source": [
    "df = {}\n",
    "\n",
    "for table_name in [\"customer\", \"rental\", \"payment\"]:\n",
    "    cur = conn.execute(f\"SELECT * FROM {table_name}\")\n",
    "    cols = [c[0] for c in cur.description]\n",
    "    df[table_name] = pd.DataFrame(cur.fetchall(), columns=cols)\n",
    "\n",
    "max_earners = (\n",
    "    df[\"customer\"]\n",
    "      .merge(df[\"rental\"],  on=\"customer_id\", how=\"left\", suffixes=(\"\", \"_rent\"))\n",
    "      .merge(df[\"payment\"], on=\"rental_id\",   how=\"left\", suffixes=(\"\", \"_pay\"))\n",
    "      .groupby([\"customer_id\", \"first_name\", \"last_name\"], as_index=False)\n",
    "      .agg(total_spent=(\"amount\", \"sum\"))\n",
    "      .fillna({\"total_spent\": 0})\n",
    "      .sort_values(\"total_spent\", ascending=False)\n",
    "      .head(5)\n",
    "      .reset_index(drop=True)\n",
    ")\n",
    "\n",
    "print(max_earners)"
   ],
   "id": "25baba52a030b3a6",
   "outputs": [
    {
     "name": "stdout",
     "output_type": "stream",
     "text": [
      "   customer_id first_name last_name  total_spent\n",
      "0          526       KARL      SEAL       221.55\n",
      "1          148    ELEANOR      HUNT       216.54\n",
      "2          144      CLARA      SHAW       195.58\n",
      "3          137     RHONDA   KENNEDY       194.61\n",
      "4          178     MARION    SNYDER       194.61\n"
     ]
    }
   ],
   "execution_count": 145
  },
  {
   "metadata": {},
   "cell_type": "markdown",
   "source": [
    "-----------------------------------\n",
    "25. HER FİLMİN ORTALAMA KİRALANMA SÜRESİNİ BULUN\n",
    "-----------------------------------"
   ],
   "id": "3530f53f669474a3"
  },
  {
   "metadata": {
    "ExecuteTime": {
     "end_time": "2025-09-24T15:16:03.611914Z",
     "start_time": "2025-09-24T15:16:03.534558Z"
    }
   },
   "cell_type": "code",
   "source": [
    "df = {}\n",
    "for table_name in [\"film\", \"inventory\", \"rental\"]:\n",
    "    cur = conn.execute(f\"SELECT * FROM {table_name}\")\n",
    "    cols = [c[0] for c in cur.description]\n",
    "    df[table_name] = pd.DataFrame(cur.fetchall(), columns=cols)\n",
    "\n",
    "merged_df = (\n",
    "    df[\"film\"]\n",
    "      .merge(df[\"inventory\"], on=\"film_id\", how=\"inner\", suffixes=(\"\", \"_inv\"))\n",
    "      .merge(df[\"rental\"],   on=\"inventory_id\", how=\"inner\", suffixes=(\"\", \"_rent\"))\n",
    "      .copy()\n",
    ")\n",
    "\n",
    "merged_df = merged_df[merged_df[\"return_date\"].notna()].copy()\n",
    "\n",
    "merged_df[\"rental_date\"] = pd.to_datetime(merged_df[\"rental_date\"], errors=\"coerce\")\n",
    "merged_df[\"return_date\"] = pd.to_datetime(merged_df[\"return_date\"], errors=\"coerce\")\n",
    "\n",
    "merged_df[\"rental_duration_days\"] = (\n",
    "    (merged_df[\"return_date\"] - merged_df[\"rental_date\"]).dt.total_seconds() / 86400\n",
    ")\n",
    "\n",
    "avg_rental_duration = (\n",
    "    merged_df.groupby(\"title\", as_index=False)\n",
    "             .agg(avg_rental_duration=(\"rental_duration_days\", \"mean\"))\n",
    "             .sort_values(\"avg_rental_duration\", ascending=False)\n",
    "             .reset_index(drop=True)\n",
    ")\n",
    "\n",
    "print(avg_rental_duration.head())"
   ],
   "id": "a6819209c8a9e274",
   "outputs": [
    {
     "name": "stdout",
     "output_type": "stream",
     "text": [
      "            title  avg_rental_duration\n",
      "0     FLIGHT LIES             7.270775\n",
      "1  IMPACT ALADDIN             7.200617\n",
      "2     AFRICAN EGG             7.106629\n",
      "3  HARDLY ROBBERS             6.948437\n",
      "4    MADRE GABLES             6.811806\n"
     ]
    }
   ],
   "execution_count": 151
  },
  {
   "metadata": {},
   "cell_type": "markdown",
   "source": [
    "-----------------------------------\n",
    "26. HER TÜRDE EN POPÜLER FİLMİ BULUN\n",
    "-----------------------------------"
   ],
   "id": "ff43d249589b567"
  },
  {
   "metadata": {
    "ExecuteTime": {
     "end_time": "2025-09-24T15:14:51.443549Z",
     "start_time": "2025-09-24T15:14:51.392038Z"
    }
   },
   "cell_type": "code",
   "source": [
    "df = {}\n",
    "\n",
    "for table_name in [\"category\", \"film_category\", \"film\", \"inventory\", \"rental\"]:\n",
    "    cur = conn.execute(f\"SELECT * FROM {table_name}\")\n",
    "    cols = [c[0] for c in cur.description]\n",
    "    df[table_name] = pd.DataFrame(cur.fetchall(), columns=cols)\n",
    "\n",
    "merged = (\n",
    "    df[\"category\"]\n",
    "      .merge(df[\"film_category\"], on=\"category_id\", how=\"inner\", suffixes=(\"\", \"_fc\"))\n",
    "      .merge(df[\"film\"],          on=\"film_id\",     how=\"inner\", suffixes=(\"\", \"_film\"))\n",
    "      .merge(df[\"inventory\"],     on=\"film_id\",     how=\"inner\", suffixes=(\"\", \"_inv\"))\n",
    "      .merge(df[\"rental\"],        on=\"inventory_id\",how=\"inner\", suffixes=(\"\", \"_rent\"))\n",
    ")\n",
    "\n",
    "popular_film = (\n",
    "    merged.groupby([\"name\", \"title\"], as_index=False)\n",
    "          .agg(rental_count=(\"rental_id\", \"count\"))\n",
    "          .rename(columns={\"name\": \"genre\"})\n",
    ")\n",
    "\n",
    "top_per_genre = (\n",
    "    popular_film.loc[popular_film.groupby(\"genre\")[\"rental_count\"].idxmax()]\n",
    "                .reset_index(drop=True)\n",
    ")\n",
    "\n",
    "print(top_per_genre)"
   ],
   "id": "85dd1ab2680cfc5d",
   "outputs": [
    {
     "name": "stdout",
     "output_type": "stream",
     "text": [
      "          genre                title  rental_count\n",
      "0        Action  RUGRATS SHAKESPEARE            30\n",
      "1     Animation       JUGGLER HARDLY            32\n",
      "2      Children         ROBBERS JOON            31\n",
      "3      Classics       TIMBERLAND SKY            31\n",
      "4        Comedy            ZORRO ARK            31\n",
      "5   Documentary            WIFE TURN            31\n",
      "6         Drama         HOBBIT ALIEN            31\n",
      "7        Family        APACHE DIVINE            31\n",
      "8       Foreign     ROCKETEER MOTHER            33\n",
      "9         Games       FORWARD TEMPLE            32\n",
      "10       Horror         PULP BEVERLY            30\n",
      "11        Music        SCALAWAG DUCK            32\n",
      "12          New  RIDGEMONT SUBMARINE            32\n",
      "13       Sci-Fi    GOODFELLAS SALUTE            31\n",
      "14       Sports  GLEAMING JAWBREAKER            29\n",
      "15       Travel   BUCKET BROTHERHOOD            34\n"
     ]
    }
   ],
   "execution_count": 150
  },
  {
   "metadata": {},
   "cell_type": "markdown",
   "source": [
    "-----------------------------------\n",
    "27. HER TÜRDE EN FAZLA GELİR SAĞLAYAN FİLMİ BULUN\n",
    "-----------------------------------"
   ],
   "id": "97c12e54627a249a"
  },
  {
   "metadata": {
    "ExecuteTime": {
     "end_time": "2025-09-24T15:41:13.089325Z",
     "start_time": "2025-09-24T15:41:13.009436Z"
    }
   },
   "cell_type": "code",
   "source": [
    "df = {}\n",
    "\n",
    "for table_name in [\"category\", \"film_category\", \"film\", \"inventory\", \"rental\", \"payment\"]:\n",
    "    cur = conn.execute(f\"SELECT * FROM {table_name}\")\n",
    "    cols = [c[0] for c in cur.description]\n",
    "    df[table_name] = pd.DataFrame(cur.fetchall(), columns=cols)\n",
    "\n",
    "merged = (\n",
    "    df[\"category\"]\n",
    "      .merge(df[\"film_category\"], on=\"category_id\", how=\"left\",  suffixes=(\"\", \"_fc\"))\n",
    "      .merge(df[\"film\"],          on=\"film_id\",     how=\"left\",  suffixes=(\"\", \"_film\"))\n",
    "      .merge(df[\"inventory\"],     on=\"film_id\",     how=\"left\",  suffixes=(\"\", \"_inv\"))\n",
    "      .merge(df[\"rental\"],        on=\"inventory_id\",how=\"left\",  suffixes=(\"\", \"_rent\"))\n",
    "      .merge(df[\"payment\"],       on=\"rental_id\",   how=\"left\",  suffixes=(\"\", \"_pay\"))\n",
    ")\n",
    "\n",
    "merged[\"amount\"] = merged[\"amount\"].fillna(0)\n",
    "revenue_by_film = (\n",
    "    merged.groupby([\"name\", \"title\"], as_index=False)\n",
    "          .agg(total_revenue=(\"amount\", \"sum\"))\n",
    "          .rename(columns={\"name\": \"genre\"})\n",
    ")\n",
    "\n",
    "top_grossing_per_genre = (\n",
    "    revenue_by_film.loc[revenue_by_film.groupby(\"genre\")[\"total_revenue\"].idxmax()]\n",
    "                   .reset_index(drop=True)\n",
    ")\n",
    "\n",
    "print(top_grossing_per_genre)"
   ],
   "id": "34ad0dc55eb40974",
   "outputs": [
    {
     "name": "stdout",
     "output_type": "stream",
     "text": [
      "          genre                title  total_revenue\n",
      "0        Action     FOOL MOCKINGBIRD         175.77\n",
      "1     Animation         DOGMA FAMILY         178.70\n",
      "2      Children  BACKLASH UNDEFEATED         158.81\n",
      "3      Classics          STEEL SANTA         141.77\n",
      "4        Comedy            ZORRO ARK         214.69\n",
      "5   Documentary            WIFE TURN         223.69\n",
      "6         Drama         TORQUE BOUND         198.72\n",
      "7        Family     RANGE MOONWALKER         179.73\n",
      "8       Foreign       INNOCENT USUAL         191.74\n",
      "9         Games       MASSACRE USUAL         179.70\n",
      "10       Horror           LOLA AGENT         159.76\n",
      "11        Music     TELEGRAPH VOYAGE         231.73\n",
      "12          New          MAIDEN HOME         163.76\n",
      "13       Sci-Fi    GOODFELLAS SALUTE         209.69\n",
      "14       Sports       SATURDAY LAMBS         204.72\n",
      "15       Travel   BUCKET BROTHERHOOD         180.66\n"
     ]
    }
   ],
   "execution_count": 152
  },
  {
   "metadata": {},
   "cell_type": "markdown",
   "source": [
    "-----------------------------------\n",
    "28. EN ÇOK DVD İADE ETMEYEN MÜŞTERİYİ BULUN\n",
    "-----------------------------------"
   ],
   "id": "4cbaed4e083bd1cb"
  },
  {
   "metadata": {
    "ExecuteTime": {
     "end_time": "2025-09-24T15:43:03.817443Z",
     "start_time": "2025-09-24T15:43:03.783454Z"
    }
   },
   "cell_type": "code",
   "source": [
    "df = {}\n",
    "\n",
    "for table_name in [\"customer\", \"rental\"]:\n",
    "    cur = conn.execute(f\"SELECT * FROM {table_name}\")\n",
    "    cols = [c[0] for c in cur.description]\n",
    "    df[table_name] = pd.DataFrame(cur.fetchall(), columns=cols)\n",
    "\n",
    "df[\"rental\"][\"return_date\"] = pd.to_datetime(df[\"rental\"][\"return_date\"], errors=\"coerce\")\n",
    "\n",
    "merged = (\n",
    "    df[\"customer\"]\n",
    "      .merge(df[\"rental\"], on=\"customer_id\", how=\"left\", suffixes=(\"\", \"_rent\"))\n",
    ")\n",
    "\n",
    "merged[\"is_returned\"] = merged[\"return_date\"].notna()\n",
    "\n",
    "min_returners = (\n",
    "    merged.groupby([\"first_name\", \"last_name\"], as_index=False)\n",
    "          .agg(returned_count=(\"is_returned\", \"sum\"))   # True'lar toplanır\n",
    "          .sort_values(\"returned_count\", ascending=True)\n",
    "          .head(1)\n",
    "          .reset_index(drop=True)\n",
    ")\n",
    "\n",
    "print(min_returners)"
   ],
   "id": "4446682212d1d2d6",
   "outputs": [
    {
     "name": "stdout",
     "output_type": "stream",
     "text": [
      "  first_name last_name  returned_count\n",
      "0      BRIAN     WYMAN              12\n"
     ]
    }
   ],
   "execution_count": 154
  },
  {
   "metadata": {},
   "cell_type": "markdown",
   "source": [
    "-----------------------------------\n",
    "29. EN FAZLA KİRALAMA YAPAN 5 ÇALIŞANI BULUN\n",
    "-----------------------------------"
   ],
   "id": "8b6ac74a94e3633d"
  },
  {
   "metadata": {
    "ExecuteTime": {
     "end_time": "2025-09-24T15:44:57.130205Z",
     "start_time": "2025-09-24T15:44:57.101693Z"
    }
   },
   "cell_type": "code",
   "source": [
    "df = {}\n",
    "\n",
    "for table_name in [\"staff\", \"rental\"]:\n",
    "    cur = conn.execute(f\"SELECT * FROM {table_name}\")\n",
    "    cols = [c[0] for c in cur.description]\n",
    "    df[table_name] = pd.DataFrame(cur.fetchall(), columns=cols)\n",
    "\n",
    "max_rentals = (\n",
    "    df[\"staff\"]\n",
    "      .merge(df[\"rental\"], on=\"staff_id\", how=\"left\", suffixes=(\"\", \"_rent\"))\n",
    "      .groupby([\"staff_id\", \"first_name\", \"last_name\"], as_index=False)\n",
    "      .agg(total_rentals=(\"rental_id\", \"count\"))\n",
    "      .sort_values(\"total_rentals\", ascending=False)\n",
    "      .head(5)\n",
    "      .reset_index(drop=True)\n",
    ")\n",
    "\n",
    "print(max_rentals)\n",
    "\n",
    "# en fazla 5 isteniyor ama 5 adet maksimum kiralama yapan yok, 2 adet olduğundan dolayı böyle bir çıktı veriyor."
   ],
   "id": "10d07aea3ca08fc6",
   "outputs": [
    {
     "name": "stdout",
     "output_type": "stream",
     "text": [
      "   staff_id first_name last_name  total_rentals\n",
      "0         1       Mike   Hillyer           8040\n",
      "1         2        Jon  Stephens           8004\n"
     ]
    }
   ],
   "execution_count": 158
  },
  {
   "metadata": {},
   "cell_type": "markdown",
   "source": [
    "-----------------------------------\n",
    "30. EN FAZLA KİRALAMA YAPAN 5 MÜŞTERİ HANGİ ŞUBEDEN KİRALAMA YAPMIŞ?\n",
    "-----------------------------------"
   ],
   "id": "635021b67f305e94"
  },
  {
   "metadata": {
    "ExecuteTime": {
     "end_time": "2025-09-24T15:46:00.206092Z",
     "start_time": "2025-09-24T15:46:00.197881Z"
    }
   },
   "cell_type": "code",
   "source": [
    "query = \"PRAGMA table_info(store);\"\n",
    "columns = pd.read_sql_query(query, conn)\n",
    "\n",
    "print(columns)"
   ],
   "id": "58184a1b77f60053",
   "outputs": [
    {
     "name": "stdout",
     "output_type": "stream",
     "text": [
      "   cid              name       type  notnull dflt_value  pk\n",
      "0    0          store_id        INT        1       None   1\n",
      "1    1  manager_staff_id   SMALLINT        1       None   0\n",
      "2    2        address_id        INT        1       None   0\n",
      "3    3       last_update  TIMESTAMP        1       None   0\n"
     ]
    }
   ],
   "execution_count": 159
  },
  {
   "metadata": {
    "ExecuteTime": {
     "end_time": "2025-09-24T15:46:54.142158Z",
     "start_time": "2025-09-24T15:46:54.100910Z"
    }
   },
   "cell_type": "code",
   "source": [
    "df = {}\n",
    "\n",
    "for table_name in [\"customer\", \"rental\", \"store\", \"address\"]:\n",
    "    cur = conn.execute(f\"SELECT * FROM {table_name}\")\n",
    "    cols = [c[0] for c in cur.description]\n",
    "    df[table_name] = pd.DataFrame(cur.fetchall(), columns=cols)\n",
    "\n",
    "top_renters = (\n",
    "    df[\"customer\"]\n",
    "      .merge(df[\"rental\"], on=\"customer_id\", how=\"left\", suffixes=(\"\", \"_rent\"))\n",
    "      .merge(df[\"store\"],   on=\"store_id\",   how=\"left\", suffixes=(\"\", \"_store\"))\n",
    "      .groupby([\"first_name\", \"last_name\", \"store_id\"], as_index=False)\n",
    "      .agg(total_rentals=(\"rental_id\", \"count\"))\n",
    "      .sort_values(\"total_rentals\", ascending=False)\n",
    "      .head(5)\n",
    "      .reset_index(drop=True)\n",
    ")\n",
    "\n",
    "print(top_renters)"
   ],
   "id": "d9ebcad68fd44189",
   "outputs": [
    {
     "name": "stdout",
     "output_type": "stream",
     "text": [
      "  first_name last_name  store_id  total_rentals\n",
      "0    ELEANOR      HUNT         1             46\n",
      "1       KARL      SEAL         2             45\n",
      "2     MARCIA      DEAN         1             42\n",
      "3      CLARA      SHAW         1             42\n",
      "4      TAMMY   SANDERS         2             41\n"
     ]
    }
   ],
   "execution_count": 161
  },
  {
   "metadata": {},
   "cell_type": "markdown",
   "source": [
    "-----------------------------------\n",
    "31. HER TÜRDE EN AZ KİRALANAN FİLMİ BULUN\n",
    "-----------------------------------"
   ],
   "id": "e48a855d4aa4858b"
  },
  {
   "metadata": {
    "ExecuteTime": {
     "end_time": "2025-09-24T15:53:34.619314Z",
     "start_time": "2025-09-24T15:53:34.578284Z"
    }
   },
   "cell_type": "code",
   "source": [
    "df = {}\n",
    "for table_name in [\"category\", \"film_category\", \"film\", \"inventory\", \"rental\"]:\n",
    "    cur = conn.execute(f\"SELECT * FROM {table_name}\")\n",
    "    cols = [c[0] for c in cur.description]\n",
    "    df[table_name] = pd.DataFrame(cur.fetchall(), columns=cols)\n",
    "\n",
    "merged = (\n",
    "    df[\"category\"]\n",
    "      .merge(df[\"film_category\"], on=\"category_id\", how=\"left\", suffixes=(\"\", \"_fc\"))\n",
    "      .merge(df[\"film\"],          on=\"film_id\",     how=\"left\", suffixes=(\"\", \"_film\"))\n",
    "      .merge(df[\"inventory\"],     on=\"film_id\",     how=\"left\", suffixes=(\"\", \"_inv\"))\n",
    "      .merge(df[\"rental\"],        on=\"inventory_id\",how=\"left\", suffixes=(\"\", \"_rent\"))\n",
    ")\n",
    "\n",
    "popular = (\n",
    "    merged.groupby([\"name\", \"title\"], as_index=False)\n",
    "          .agg(rental_count=(\"rental_id\", \"count\"))\n",
    ")\n",
    "\n",
    "least_rented = (\n",
    "    popular.sort_values(\"rental_count\", ascending=True, kind=\"stable\")\n",
    "           .head(5)\n",
    "           .rename(columns={\n",
    "               \"name\": \"Category\",\n",
    "               \"title\": \"Name\",\n",
    "               \"rental_count\": \"Rental Count\",\n",
    "           })\n",
    ")\n",
    "\n",
    "print(\"Her Türde En Az Kiralanan Filmler:\")\n",
    "print(least_rented.to_string(index=False))"
   ],
   "id": "ea34c6ed5028bfda",
   "outputs": [
    {
     "name": "stdout",
     "output_type": "stream",
     "text": [
      "Her Türde En Az Kiralanan Filmler:\n",
      " Category              Name  Rental Count\n",
      "   Action     ARK RIDGEMONT             0\n",
      "   Action FIREHOUSE VIETNAM             0\n",
      "   Action       SKY MIRACLE             0\n",
      "Animation    ARGONAUTS TOWN             0\n",
      "Animation     FLOATS GARDEN             0\n"
     ]
    }
   ],
   "execution_count": 171
  },
  {
   "metadata": {},
   "cell_type": "markdown",
   "source": [
    "-----------------------------------\n",
    "32. EN ÇOK KİRALAMA YAPAN 5 MÜŞTERİ HANGİ ŞEHİRDE?\n",
    "-----------------------------------"
   ],
   "id": "e1c1c19c7a06d457"
  },
  {
   "metadata": {
    "ExecuteTime": {
     "end_time": "2025-09-24T15:54:55.455106Z",
     "start_time": "2025-09-24T15:54:55.397442Z"
    }
   },
   "cell_type": "code",
   "source": [
    "df = {}\n",
    "\n",
    "for table_name in [\"customer\", \"address\", \"city\", \"rental\"]:\n",
    "    cur = conn.execute(f\"SELECT * FROM {table_name}\")\n",
    "    cols = [c[0] for c in cur.description]\n",
    "    df[table_name] = pd.DataFrame(cur.fetchall(), columns=cols)\n",
    "\n",
    "top_customers = (\n",
    "    df[\"customer\"]\n",
    "      .merge(df[\"address\"], on=\"address_id\", how=\"left\", suffixes=(\"\", \"_addr\"))\n",
    "      .merge(df[\"city\"],    on=\"city_id\",    how=\"left\", suffixes=(\"\", \"_city\"))\n",
    "      .merge(df[\"rental\"],  on=\"customer_id\",how=\"left\", suffixes=(\"\", \"_rent\"))\n",
    "      .groupby([\"city\", \"first_name\", \"last_name\"], as_index=False)\n",
    "      .agg(total_rentals=(\"rental_id\", \"count\"))\n",
    "      .sort_values(\"total_rentals\", ascending=False)\n",
    "      .head(5)\n",
    "      .reset_index(drop=True)\n",
    "      .rename(columns={\n",
    "          \"city\": \"city\",\n",
    "          \"first_name\": \"first_name\",\n",
    "          \"last_name\": \"last_name\",\n",
    "          \"total_rentals\": \"total_rentals\"\n",
    "      })\n",
    ")\n",
    "\n",
    "print(\"Top 5 Customers by Rentals:\")\n",
    "print(top_customers.to_string(index=False))"
   ],
   "id": "5756392efd525713",
   "outputs": [
    {
     "name": "stdout",
     "output_type": "stream",
     "text": [
      "Top 5 Customers by Rentals:\n",
      "       city first_name last_name  total_rentals\n",
      "Saint-Denis    ELEANOR      HUNT             46\n",
      " Cape Coral       KARL      SEAL             45\n",
      "  Molodetno      CLARA      SHAW             42\n",
      "      Tanza     MARCIA      DEAN             42\n",
      "   Changhwa      TAMMY   SANDERS             41\n"
     ]
    }
   ],
   "execution_count": 172
  },
  {
   "metadata": {},
   "cell_type": "markdown",
   "source": [
    "-----------------------------------\n",
    "33. EN ÇOK KAZANÇ SAĞLAYAN 5 MÜŞTERİYİ HANGİ ŞEHİRDE BULUN\n",
    "-----------------------------------"
   ],
   "id": "e01b0a660d452384"
  },
  {
   "metadata": {
    "ExecuteTime": {
     "end_time": "2025-09-24T15:55:48.439007Z",
     "start_time": "2025-09-24T15:55:48.363241Z"
    }
   },
   "cell_type": "code",
   "source": [
    "df = {}\n",
    "\n",
    "for table_name in [\"customer\", \"address\", \"city\", \"rental\", \"payment\"]:\n",
    "    cur = conn.execute(f\"SELECT * FROM {table_name}\")\n",
    "    cols = [c[0] for c in cur.description]\n",
    "    df[table_name] = pd.DataFrame(cur.fetchall(), columns=cols)\n",
    "\n",
    "top_spenders = (\n",
    "    df[\"customer\"]\n",
    "      .merge(df[\"address\"], on=\"address_id\", how=\"left\", suffixes=(\"\", \"_addr\"))\n",
    "      .merge(df[\"city\"],    on=\"city_id\",    how=\"left\", suffixes=(\"\", \"_city\"))\n",
    "      .merge(df[\"rental\"],  on=\"customer_id\",how=\"left\", suffixes=(\"\", \"_rent\"))\n",
    "      .merge(df[\"payment\"], on=\"rental_id\",  how=\"left\", suffixes=(\"\", \"_pay\"))\n",
    "      .groupby([\"city\", \"first_name\", \"last_name\"], as_index=False)\n",
    "      .agg(total_spent=(\"amount\", \"sum\"))\n",
    "      .fillna({\"total_spent\": 0})\n",
    "      .sort_values(\"total_spent\", ascending=False)\n",
    "      .head(5)\n",
    "      .reset_index(drop=True)\n",
    ")\n",
    "\n",
    "print(\"Top 5 customers by total spending (with city):\")\n",
    "print(top_spenders[[\"city\", \"first_name\", \"last_name\", \"total_spent\"]].to_string(index=False))"
   ],
   "id": "6052e1c05ac1ee3f",
   "outputs": [
    {
     "name": "stdout",
     "output_type": "stream",
     "text": [
      "Top 5 customers by total spending (with city):\n",
      "               city first_name last_name  total_spent\n",
      "         Cape Coral       KARL      SEAL       221.55\n",
      "        Saint-Denis    ELEANOR      HUNT       216.54\n",
      "          Molodetno      CLARA      SHAW       195.58\n",
      "          Apeldoorn     RHONDA   KENNEDY       194.61\n",
      "Santa Brbara dOeste     MARION    SNYDER       194.61\n"
     ]
    }
   ],
   "execution_count": 173
  },
  {
   "metadata": {},
   "cell_type": "markdown",
   "source": [
    "-----------------------------------\n",
    "34. EN ÇOK KİRALANAN 5 FİLM HANGİ ŞEHİRDE BULUN\n",
    "-----------------------------------"
   ],
   "id": "84e526e17b355c52"
  },
  {
   "metadata": {
    "ExecuteTime": {
     "end_time": "2025-09-24T15:56:28.643274Z",
     "start_time": "2025-09-24T15:56:28.578807Z"
    }
   },
   "cell_type": "code",
   "source": [
    "df = {}\n",
    "\n",
    "for table_name in [\"city\", \"address\", \"customer\", \"rental\", \"inventory\", \"film\"]:\n",
    "    cur = conn.execute(f\"SELECT * FROM {table_name}\")\n",
    "    cols = [c[0] for c in cur.description]\n",
    "    df[table_name] = pd.DataFrame(cur.fetchall(), columns=cols)\n",
    "\n",
    "max_rented_cities = (\n",
    "    df[\"city\"]\n",
    "      .merge(df[\"address\"],  on=\"city_id\",      how=\"left\",  suffixes=(\"\", \"_addr\"))\n",
    "      .merge(df[\"customer\"], on=\"address_id\",   how=\"left\",  suffixes=(\"\", \"_cust\"))\n",
    "      .merge(df[\"rental\"],   on=\"customer_id\",  how=\"left\",  suffixes=(\"\", \"_rent\"))\n",
    "      .merge(df[\"inventory\"],on=\"inventory_id\", how=\"left\",  suffixes=(\"\", \"_inv\"))\n",
    "      .merge(df[\"film\"],     on=\"film_id\",      how=\"left\",  suffixes=(\"\", \"_film\"))\n",
    "      .groupby([\"city\", \"title\"], as_index=False)\n",
    "      .agg(rental_count=(\"rental_id\", \"count\"))\n",
    "      .sort_values(\"rental_count\", ascending=False)\n",
    "      .head(7)\n",
    "      .reset_index(drop=True)\n",
    ")\n",
    "\n",
    "print(max_rented_cities)"
   ],
   "id": "def7177d5e094b7",
   "outputs": [
    {
     "name": "stdout",
     "output_type": "stream",
     "text": [
      "       city                title  rental_count\n",
      "0   Trshavn    FLATLINERS KILLER             3\n",
      "1  Sorocaba      CADDYSHACK JEDI             3\n",
      "2    Kurgan     DETECTIVE VISION             3\n",
      "3      Lima      DISCIPLE MOTHER             3\n",
      "4   Caracas     AFFAIR PREJUDICE             2\n",
      "5    Bhopal      GENTLEMEN STAGE             2\n",
      "6    Bhopal  CANDIDATE PERDITION             2\n"
     ]
    }
   ],
   "execution_count": 174
  },
  {
   "metadata": {},
   "cell_type": "markdown",
   "source": [
    "-----------------------------------\n",
    "35. EN AZ KİRALANAN 5 FİLM HANGİ ŞEHİRDE BULUN\n",
    "-----------------------------------"
   ],
   "id": "9a130f6731dfb39f"
  },
  {
   "metadata": {
    "ExecuteTime": {
     "end_time": "2025-09-24T15:57:23.036163Z",
     "start_time": "2025-09-24T15:57:22.970814Z"
    }
   },
   "cell_type": "code",
   "source": [
    "df = {}\n",
    "\n",
    "for table_name in [\"city\", \"address\", \"customer\", \"rental\", \"inventory\", \"film\"]:\n",
    "    cur = conn.execute(f\"SELECT * FROM {table_name}\")\n",
    "    cols = [c[0] for c in cur.description]\n",
    "    df[table_name] = pd.DataFrame(cur.fetchall(), columns=cols)\n",
    "\n",
    "min_rented_cities = (\n",
    "    df[\"city\"]\n",
    "      .merge(df[\"address\"],  on=\"city_id\",      how=\"left\", suffixes=(\"\", \"_addr\"))\n",
    "      .merge(df[\"customer\"], on=\"address_id\",   how=\"left\", suffixes=(\"\", \"_cust\"))\n",
    "      .merge(df[\"rental\"],   on=\"customer_id\",  how=\"left\", suffixes=(\"\", \"_rent\"))\n",
    "      .merge(df[\"inventory\"],on=\"inventory_id\", how=\"left\", suffixes=(\"\", \"_inv\"))\n",
    "      .merge(df[\"film\"],     on=\"film_id\",      how=\"left\", suffixes=(\"\", \"_film\"))\n",
    "      .groupby([\"city\", \"title\"], as_index=False)\n",
    "      .agg(kiralama_sayisi=(\"rental_id\", \"count\"))\n",
    "      .sort_values(\"kiralama_sayisi\", ascending=True, kind=\"stable\")\n",
    "      .head(5)\n",
    "      .rename(columns={\n",
    "          \"city\": \"şehri\",\n",
    "          \"title\": \"filmin_adı\",\n",
    "          \"kiralama_sayisi\": \"kiralanma_sayısı\"  # çıktı etiketini isteğine göre Türkçe yaptım\n",
    "      })\n",
    "      .reset_index(drop=True)\n",
    ")\n",
    "\n",
    "print(min_kiralananlarin_sehirleri.to_string(index=False))"
   ],
   "id": "63e2cc85235369ae",
   "outputs": [
    {
     "name": "stdout",
     "output_type": "stream",
     "text": [
      "             şehri           filmin_adı  kiralanma_sayısı\n",
      "A Corua (La Corua)         BLADE POLISH                 1\n",
      "A Corua (La Corua)        CAPER MOTIONS                 1\n",
      "A Corua (La Corua) CHICKEN HELLFIGHTERS                 1\n",
      "A Corua (La Corua)  CHRISTMAS MOONSHINE                 1\n",
      "A Corua (La Corua)         CIDER DESIRE                 1\n"
     ]
    }
   ],
   "execution_count": 175
  },
  {
   "metadata": {},
   "cell_type": "markdown",
   "source": [
    "-----------------------------------\n",
    "36. EN ÇOK KAZANÇ SAĞLAYAN 5 FİLM HANGİ ŞEHİRDE BULUN\n",
    "-----------------------------------"
   ],
   "id": "3f8196653c71ab25"
  },
  {
   "metadata": {},
   "cell_type": "code",
   "outputs": [],
   "execution_count": null,
   "source": [
    "df = {}\n",
    "\n",
    "for table_name in [\"city\", \"address\", \"customer\", \"rental\", \"inventory\", \"film\", \"payment\"]:\n",
    "    cur = conn.execute(f\"SELECT * FROM {table_name}\")\n",
    "    cols = [c[0] for c in cur.description]\n",
    "    df[table_name] = pd.DataFrame(cur.fetchall(), columns=cols)\n",
    "\n",
    "max_revenue_films_by_city = (\n",
    "    df[\"city\"]\n",
    "      .merge(df[\"address\"],  on=\"city_id\",      how=\"inner\", suffixes=(\"\", \"_addr\"))\n",
    "      .merge(df[\"customer\"], on=\"address_id\",   how=\"inner\", suffixes=(\"\", \"_cust\"))\n",
    "      .merge(df[\"rental\"],   on=\"customer_id\",  how=\"inner\", suffixes=(\"\", \"_rent\"))\n",
    "      .merge(df[\"inventory\"],on=\"inventory_id\", how=\"inner\", suffixes=(\"\", \"_inv\"))\n",
    "      .merge(df[\"film\"],     on=\"film_id\",      how=\"inner\", suffixes=(\"\", \"_film\"))\n",
    "      .merge(df[\"payment\"],  on=\"rental_id\",    how=\"inner\", suffixes=(\"\", \"_pay\"))\n",
    "      .groupby([\"city\", \"title\"], as_index=False)\n",
    "      .agg(total_revenue=(\"amount\", \"sum\"))\n",
    "      .sort_values(\"total_revenue\", ascending=False)\n",
    "      .head(5)\n",
    "      .reset_index(drop=True)\n",
    ")\n",
    "\n",
    "print(max_kazancli_filmlerin_sehri)"
   ],
   "id": "a0e016e5fd43cd89"
  },
  {
   "metadata": {},
   "cell_type": "markdown",
   "source": [
    "-----------------------------------\n",
    "37. EN AZ KAZANÇ SAĞLAYAN 5 FİLM HANGİ ŞEHİRDE BULUN\n",
    "-----------------------------------"
   ],
   "id": "ef5d9964e215ed7b"
  },
  {
   "metadata": {
    "ExecuteTime": {
     "end_time": "2025-09-24T15:59:17.869410Z",
     "start_time": "2025-09-24T15:59:17.777971Z"
    }
   },
   "cell_type": "code",
   "source": [
    "df = {}\n",
    "\n",
    "for table_name in [\"city\", \"address\", \"customer\", \"rental\", \"inventory\", \"film\", \"payment\"]:\n",
    "    cur = conn.execute(f\"SELECT * FROM {table_name}\")\n",
    "    cols = [c[0] for c in cur.description]\n",
    "    df[table_name] = pd.DataFrame(cur.fetchall(), columns=cols)\n",
    "\n",
    "film_revenue_by_city = (\n",
    "    df[\"city\"]\n",
    "      .merge(df[\"address\"],   on=\"city_id\",      how=\"left\",  suffixes=(\"\", \"_addr\"))\n",
    "      .merge(df[\"customer\"],  on=\"address_id\",   how=\"left\",  suffixes=(\"\", \"_cust\"))\n",
    "      .merge(df[\"rental\"],    on=\"customer_id\",  how=\"left\",  suffixes=(\"\", \"_rent\"))\n",
    "      .merge(df[\"inventory\"], on=\"inventory_id\", how=\"left\",  suffixes=(\"\", \"_inv\"))\n",
    "      .merge(df[\"film\"],      on=\"film_id\",      how=\"left\",  suffixes=(\"\", \"_film\"))\n",
    "      .merge(df[\"payment\"],   on=\"rental_id\",    how=\"left\",  suffixes=(\"\", \"_pay\"))\n",
    ")\n",
    "\n",
    "film_revenue_by_city[\"amount\"] = film_revenue_by_city[\"amount\"].fillna(0)\n",
    "\n",
    "least_revenue_films_by_city = (\n",
    "    film_revenue_by_city\n",
    "      .groupby([\"city\", \"title\"], as_index=False)\n",
    "      .agg(total_revenue=(\"amount\", \"sum\"))\n",
    "      .sort_values(\"total_revenue\", ascending=True)\n",
    "      .head(5)\n",
    "      .reset_index(drop=True)\n",
    ")\n",
    "\n",
    "print(least_revenue_films_by_city.to_string(index=False))"
   ],
   "id": "defa1ade10efc15f",
   "outputs": [
    {
     "name": "stdout",
     "output_type": "stream",
     "text": [
      "               city             title  total_revenue\n",
      "          Balurghat CURTAIN VIDEOTAPE            0.0\n",
      "Aparecida de Goinia      WOMEN DORADO            0.0\n",
      "              Merlo      BLADE POLISH            0.0\n",
      "         Nagareyama    LAWLESS VISION            0.0\n",
      "            Salinas    PRINCESS GIANT            0.0\n"
     ]
    }
   ],
   "execution_count": 176
  },
  {
   "metadata": {},
   "cell_type": "markdown",
   "source": [
    "-----------------------------------\n",
    "38. EN FAZLA KİRALAMA YAPAN MÜŞTERİ HANGİ FİLMLERİ KİRALAMIŞ?\n",
    "-----------------------------------"
   ],
   "id": "5a8cf981d67ea77c"
  },
  {
   "metadata": {
    "ExecuteTime": {
     "end_time": "2025-09-24T16:00:54.369730Z",
     "start_time": "2025-09-24T16:00:54.314579Z"
    }
   },
   "cell_type": "code",
   "source": [
    "df = {}\n",
    "\n",
    "for table_name in [\"customer\", \"rental\", \"inventory\", \"film\"]:\n",
    "    cur = conn.execute(f\"SELECT * FROM {table_name}\")\n",
    "    cols = [c[0] for c in cur.description]\n",
    "    df[table_name] = pd.DataFrame(cur.fetchall(), columns=cols)\n",
    "\n",
    "top_renters = (\n",
    "    df[\"customer\"]\n",
    "      .merge(df[\"rental\"], on=\"customer_id\", how=\"inner\", suffixes=(\"\", \"_rent\"))\n",
    "      .groupby([\"customer_id\", \"first_name\", \"last_name\"], as_index=False)\n",
    "      .agg(total_rentals=(\"rental_id\", \"count\"))\n",
    "      .sort_values(\"total_rentals\", ascending=False)\n",
    "      .head(3)\n",
    ")\n",
    "\n",
    "top_renters_movies = (\n",
    "    df[\"rental\"]\n",
    "      .merge(top_renters[[\"customer_id\"]], on=\"customer_id\", how=\"inner\")\n",
    "      .merge(df[\"inventory\"], on=\"inventory_id\", how=\"inner\", suffixes=(\"\", \"_inv\"))\n",
    "      .merge(df[\"film\"], on=\"film_id\", how=\"inner\", suffixes=(\"\", \"_film\"))\n",
    "      .merge(df[\"customer\"][[\"customer_id\", \"first_name\", \"last_name\"]],\n",
    "             on=\"customer_id\", how=\"inner\")\n",
    "      .groupby([\"first_name\", \"last_name\", \"title\"], as_index=False)\n",
    "      .agg(rental_count=(\"rental_id\", \"count\"))\n",
    ")\n",
    "\n",
    "top_renters_movies = (\n",
    "    top_renters_movies\n",
    "      .sort_values([\"first_name\", \"last_name\", \"rental_count\"], ascending=[True, True, False])\n",
    "      .groupby([\"first_name\", \"last_name\"], as_index=False)\n",
    "      .head(3)\n",
    "      .reset_index(drop=True)\n",
    ")\n",
    "\n",
    "print(\"Top renters (top 3) by total rentals:\")\n",
    "print(top_renters.to_string(index=False))\n",
    "\n",
    "print(\"\\nFilms rented by those top customers (top 3 per customer):\")\n",
    "print(top_renters_movies.to_string(index=False))"
   ],
   "id": "744fa498b7c3daa6",
   "outputs": [
    {
     "name": "stdout",
     "output_type": "stream",
     "text": [
      "Top renters (top 3) by total rentals:\n",
      " customer_id first_name last_name  total_rentals\n",
      "         148    ELEANOR      HUNT             46\n",
      "         526       KARL      SEAL             45\n",
      "         144      CLARA      SHAW             42\n",
      "\n",
      "Films rented by those top customers (top 3 per customer):\n",
      "first_name last_name                title  rental_count\n",
      "     CLARA      SHAW      AIRPORT POLLOCK             1\n",
      "     CLARA      SHAW ANACONDA CONFESSIONS             1\n",
      "     CLARA      SHAW         ARIZONA BANG             1\n",
      "   ELEANOR      HUNT     AFFAIR PREJUDICE             1\n",
      "   ELEANOR      HUNT      AMERICAN CIRCUS             1\n",
      "   ELEANOR      HUNT         ARIZONA BANG             1\n",
      "      KARL      SEAL       WEDDING APOLLO             2\n",
      "      KARL      SEAL        BETRAYED REAR             1\n",
      "      KARL      SEAL     BIKINI BORROWERS             1\n"
     ]
    }
   ],
   "execution_count": 177
  },
  {
   "metadata": {},
   "cell_type": "markdown",
   "source": [
    "-----------------------------------\n",
    "40. EN ÇOK KAZANÇ SAĞLAYAN MÜŞTERİ HANGİ FİLMLERİ KİRALAMIŞ?\n",
    "-----------------------------------"
   ],
   "id": "2a0f58b503f7a6e7"
  },
  {
   "metadata": {
    "ExecuteTime": {
     "end_time": "2025-09-24T16:03:25.751310Z",
     "start_time": "2025-09-24T16:03:25.673780Z"
    }
   },
   "cell_type": "code",
   "source": [
    "df = {}\n",
    "for table_name in [\"customer\", \"rental\", \"inventory\", \"film\", \"payment\"]:\n",
    "    cur = conn.execute(f\"SELECT * FROM {table_name}\")\n",
    "    cols = [c[0] for c in cur.description]\n",
    "    df[table_name] = pd.DataFrame(cur.fetchall(), columns=cols)\n",
    "\n",
    "top_spender_id = (\n",
    "    df[\"customer\"]\n",
    "      .merge(df[\"rental\"],  on=\"customer_id\", how=\"inner\", suffixes=(\"\", \"_rent\"))\n",
    "      .merge(df[\"payment\"], on=\"rental_id\",   how=\"inner\", suffixes=(\"\", \"_pay\"))\n",
    "      .groupby(\"customer_id\", as_index=False)\n",
    "      .agg(total_income=(\"amount\", \"sum\"))\n",
    "      .sort_values(\"total_income\", ascending=False)\n",
    "      .head(1)[\"customer_id\"]\n",
    "      .values[0]\n",
    ")\n",
    "\n",
    "cust_row = df[\"customer\"].loc[df[\"customer\"][\"customer_id\"] == top_spender_id, [\"first_name\", \"last_name\"]]\n",
    "customer_name = f'{cust_row.iloc[0][\"first_name\"]} {cust_row.iloc[0][\"last_name\"]}' if not cust_row.empty else f\"ID {top_spender_id}\"\n",
    "\n",
    "top_spender_movies = (\n",
    "    df[\"customer\"].query(\"customer_id == @top_spender_id\")\n",
    "      .merge(df[\"rental\"],    on=\"customer_id\",  how=\"inner\", suffixes=(\"\", \"_rent\"))\n",
    "      .merge(df[\"inventory\"], on=\"inventory_id\", how=\"inner\", suffixes=(\"\", \"_inv\"))\n",
    "      .merge(df[\"film\"],      on=\"film_id\",      how=\"inner\", suffixes=(\"\", \"_film\"))\n",
    "      .merge(df[\"payment\"],   on=\"rental_id\",    how=\"inner\", suffixes=(\"\", \"_pay\"))\n",
    "      .groupby(\"title\", as_index=False)\n",
    "      .agg(total_spent=(\"amount\", \"sum\"))\n",
    "      .sort_values(\"total_spent\", ascending=False)\n",
    "      .head(5)\n",
    "      .reset_index(drop=True)\n",
    ")\n",
    "\n",
    "print(f\"Top spender's rented films (customer: {customer_name}, id={top_spender_id}):\")\n",
    "print(top_spender_movies.to_string(index=False))"
   ],
   "id": "4651702fe5bc3f19",
   "outputs": [
    {
     "name": "stdout",
     "output_type": "stream",
     "text": [
      "Top spender's rented films (customer: KARL SEAL, id=526):\n",
      "           title  total_spent\n",
      "FOOL MOCKINGBIRD        10.99\n",
      "  STING PERSONAL         9.99\n",
      " TERMINATOR CLUB         8.99\n",
      "  PICKUP DRIVING         8.99\n",
      "     HIGH ENCINO         7.99\n"
     ]
    }
   ],
   "execution_count": 179
  },
  {
   "metadata": {},
   "cell_type": "markdown",
   "source": [
    "-----------------------------------\n",
    "41. EN AZ KAZANÇ SAĞLAYAN MÜŞTERİ HANGİ FİLMLERİ KİRALAMIŞ?\n",
    "-----------------------------------"
   ],
   "id": "c755cdf98dc4a6b5"
  },
  {
   "metadata": {
    "ExecuteTime": {
     "end_time": "2025-09-24T16:04:11.460635Z",
     "start_time": "2025-09-24T16:04:11.392898Z"
    }
   },
   "cell_type": "code",
   "source": [
    "df = {}\n",
    "for table_name in [\"customer\", \"rental\", \"inventory\", \"film\", \"payment\"]:\n",
    "    cur = conn.execute(f\"SELECT * FROM {table_name}\")\n",
    "    cols = [c[0] for c in cur.description]\n",
    "    df[table_name] = pd.DataFrame(cur.fetchall(), columns=cols)\n",
    "\n",
    "lowest_spender_id = (\n",
    "    df[\"customer\"]\n",
    "      .merge(df[\"rental\"],  on=\"customer_id\", how=\"inner\", suffixes=(\"\", \"_rent\"))\n",
    "      .merge(df[\"payment\"], on=\"rental_id\",   how=\"inner\", suffixes=(\"\", \"_pay\"))\n",
    "      .groupby(\"customer_id\", as_index=False)\n",
    "      .agg(total_income=(\"amount\", \"sum\"))\n",
    "      .sort_values(\"total_income\", ascending=True)\n",
    "      .head(1)[\"customer_id\"]\n",
    "      .values[0]\n",
    ")\n",
    "\n",
    "lowest_spender_movies = (\n",
    "    df[\"customer\"].query(\"customer_id == @lowest_spender_id\")\n",
    "      .merge(df[\"rental\"],    on=\"customer_id\",  how=\"inner\", suffixes=(\"\", \"_rent\"))\n",
    "      .merge(df[\"inventory\"], on=\"inventory_id\", how=\"inner\", suffixes=(\"\", \"_inv\"))\n",
    "      .merge(df[\"film\"],      on=\"film_id\",      how=\"inner\", suffixes=(\"\", \"_film\"))\n",
    "      .merge(df[\"payment\"],   on=\"rental_id\",    how=\"inner\", suffixes=(\"\", \"_pay\"))\n",
    "      .groupby(\"title\", as_index=False)\n",
    "      .agg(total_spent=(\"amount\", \"sum\"))\n",
    "      .sort_values(\"total_spent\", ascending=True)\n",
    "      .head(7)\n",
    "      .reset_index(drop=True)\n",
    ")\n",
    "\n",
    "print(\"Movies rented by the lowest-spending customer (top 7 by lowest total spent):\")\n",
    "print(lowest_spender_movies.to_string(index=False))"
   ],
   "id": "369509c83df972d4",
   "outputs": [
    {
     "name": "stdout",
     "output_type": "stream",
     "text": [
      "Movies rented by the lowest-spending customer (top 7 by lowest total spent):\n",
      "                 title  total_spent\n",
      "       ARMAGEDDON LOST         0.99\n",
      "      CAMELOT VACATION         0.99\n",
      "      EMPIRE MALKOVICH         0.99\n",
      "       ILLUSION AMELIE         0.99\n",
      "RESURRECTION SILVERADO         0.99\n",
      "           TEXAS WATCH         0.99\n",
      "            JADE BUNCH         2.99\n"
     ]
    }
   ],
   "execution_count": 180
  },
  {
   "metadata": {},
   "cell_type": "markdown",
   "source": [
    "-----------------------------------\n",
    "42. EN AZ KAZANÇ SĞALAYAN MÜŞTERİ HANGİ TÜRDE EN FAZLA FİLM KİRALAMIŞ?\n",
    "-----------------------------------"
   ],
   "id": "709bf0fbab5ad0b1"
  },
  {
   "metadata": {
    "ExecuteTime": {
     "end_time": "2025-09-24T16:05:20.685111Z",
     "start_time": "2025-09-24T16:05:20.621168Z"
    }
   },
   "cell_type": "code",
   "source": [
    "df = {}\n",
    "\n",
    "for table_name in [\"customer\", \"rental\", \"inventory\", \"film\", \"film_category\", \"category\", \"payment\"]:\n",
    "    cur = conn.execute(f\"SELECT * FROM {table_name}\")\n",
    "    cols = [c[0] for c in cur.description]\n",
    "    df[table_name] = pd.DataFrame(cur.fetchall(), columns=cols)\n",
    "\n",
    "lowest_spender_id = (\n",
    "    df[\"customer\"]\n",
    "      .merge(df[\"rental\"],  on=\"customer_id\", how=\"inner\", suffixes=(\"\", \"_rent\"))\n",
    "      .merge(df[\"payment\"], on=\"rental_id\",   how=\"inner\", suffixes=(\"\", \"_pay\"))\n",
    "      .groupby(\"customer_id\", as_index=False)\n",
    "      .agg(total_income=(\"amount\", \"sum\"))\n",
    "      .sort_values(\"total_income\", ascending=True)\n",
    "      .head(1)[\"customer_id\"]\n",
    "      .values[0]\n",
    ")\n",
    "\n",
    "lowest_spender_top_genre = (\n",
    "    df[\"customer\"].query(\"customer_id == @lowest_spender_id\")\n",
    "      .merge(df[\"rental\"],        on=\"customer_id\",  how=\"inner\", suffixes=(\"\", \"_rent\"))\n",
    "      .merge(df[\"inventory\"],     on=\"inventory_id\", how=\"inner\", suffixes=(\"\", \"_inv\"))\n",
    "      .merge(df[\"film\"],          on=\"film_id\",      how=\"inner\", suffixes=(\"\", \"_film\"))\n",
    "      .merge(df[\"film_category\"], on=\"film_id\",      how=\"inner\", suffixes=(\"\", \"_fc\"))\n",
    "      .merge(df[\"category\"],      on=\"category_id\",  how=\"inner\", suffixes=(\"\", \"_cat\"))\n",
    "      .groupby(\"name\", as_index=False)\n",
    "      .agg(rental_count=(\"rental_id\", \"count\"))\n",
    "      .rename(columns={\"name\": \"genre\"})\n",
    "      .sort_values(\"rental_count\", ascending=False)\n",
    "      .head(1)\n",
    "      .reset_index(drop=True)\n",
    ")\n",
    "\n",
    "print(\"Lowest-spending customer's most-rented genre:\")\n",
    "print(lowest_spender_top_genre.to_string(index=False))"
   ],
   "id": "f5a5c12eea00f972",
   "outputs": [
    {
     "name": "stdout",
     "output_type": "stream",
     "text": [
      "Lowest-spending customer's most-rented genre:\n",
      " genre  rental_count\n",
      "Sci-Fi             4\n"
     ]
    }
   ],
   "execution_count": 182
  },
  {
   "metadata": {},
   "cell_type": "markdown",
   "source": [
    "-----------------------------------\n",
    "43. EN ÇOK KİRALANAN FİLM HANGİ ÇALIŞAN TARAFINDAN KİRALANMIŞ?\n",
    "-----------------------------------"
   ],
   "id": "3b23a29f7ce73ee3"
  },
  {
   "metadata": {
    "ExecuteTime": {
     "end_time": "2025-09-24T16:14:09.013550Z",
     "start_time": "2025-09-24T16:14:08.953024Z"
    }
   },
   "cell_type": "code",
   "source": [
    "df = {}\n",
    "\n",
    "for table_name in [\"customer\", \"rental\", \"inventory\", \"film\", \"film_category\", \"category\", \"payment\", \"staff\"]:\n",
    "    cur = conn.execute(f\"SELECT * FROM {table_name}\")\n",
    "    cols = [c[0] for c in cur.description]\n",
    "    df[table_name] = pd.DataFrame(cur.fetchall(), columns=cols)\n",
    "\n",
    "rentals_per_film = (\n",
    "    df[\"film\"]\n",
    "      .merge(df[\"inventory\"], on=\"film_id\", how=\"inner\", suffixes=(\"\", \"_inv\"))\n",
    "      .merge(df[\"rental\"],   on=\"inventory_id\", how=\"inner\", suffixes=(\"\", \"_rent\"))\n",
    "      .groupby([\"film_id\", \"title\"], as_index=False)\n",
    "      .agg(rental_count=(\"rental_id\", \"count\"))\n",
    ")\n",
    "\n",
    "max_count = rentals_per_film[\"rental_count\"].max()\n",
    "top_films = rentals_per_film[rentals_per_film[\"rental_count\"] == max_count][[\"film_id\", \"title\"]]\n",
    "\n",
    "renting_staff = (\n",
    "    top_films\n",
    "      .merge(df[\"inventory\"], on=\"film_id\", how=\"inner\", suffixes=(\"\", \"_inv\"))\n",
    "      .merge(df[\"rental\"],   on=\"inventory_id\", how=\"inner\", suffixes=(\"\", \"_rent\"))\n",
    "      .merge(df[\"staff\"],    on=\"staff_id\",     how=\"inner\", suffixes=(\"\", \"_staff\"))\n",
    "      .groupby([\"first_name\", \"last_name\", \"title\"], as_index=False)\n",
    "      .agg(rental_count=(\"rental_id\", \"count\"))\n",
    "      .sort_values([\"title\", \"rental_count\"], ascending=[True, False])\n",
    "      .reset_index(drop=True)\n",
    ")\n",
    "\n",
    "print(renting_staff.to_string(index=False))"
   ],
   "id": "7c3a10273fc4b8a6",
   "outputs": [
    {
     "name": "stdout",
     "output_type": "stream",
     "text": [
      "first_name last_name              title  rental_count\n",
      "       Jon  Stephens BUCKET BROTHERHOOD            18\n",
      "      Mike   Hillyer BUCKET BROTHERHOOD            16\n"
     ]
    }
   ],
   "execution_count": 184
  },
  {
   "metadata": {},
   "cell_type": "markdown",
   "source": [
    "-----------------------------------\n",
    "44. EN AZ KİRALANAN FİLM HANGİ ÇALIŞAN TARAFINDAN KİRALANMIŞ\n",
    "-----------------------------------"
   ],
   "id": "5e24f3193c8786ae"
  },
  {
   "metadata": {
    "ExecuteTime": {
     "end_time": "2025-09-24T16:18:26.929160Z",
     "start_time": "2025-09-24T16:18:26.844215Z"
    }
   },
   "cell_type": "code",
   "source": [
    "df = {}\n",
    "\n",
    "for table_name in [\"staff\", \"rental\", \"inventory\", \"film\", \"payment\"]:\n",
    "    cur = conn.execute(f\"SELECT * FROM {table_name}\")\n",
    "    cols = [c[0] for c in cur.description]\n",
    "    df[table_name] = pd.DataFrame(cur.fetchall(), columns=cols)\n",
    "\n",
    "least_revenue_film_id = (\n",
    "    df[\"film\"].merge(df[\"inventory\"], on=\"film_id\", how=\"inner\", suffixes=(\"\", \"_inv\"))\n",
    "              .merge(df[\"rental\"],   on=\"inventory_id\", how=\"inner\", suffixes=(\"\", \"_rent\"))\n",
    "              .merge(df[\"payment\"],  on=\"rental_id\",    how=\"inner\", suffixes=(\"\", \"_pay\"))\n",
    "              .groupby(\"film_id\", as_index=False)[\"amount\"].sum()\n",
    "              .sort_values(\"amount\")\n",
    "              .iloc[0, 0]\n",
    ")\n",
    "\n",
    "renting_staff = (\n",
    "    df[\"staff\"].merge(df[\"rental\"],    on=\"staff_id\",     how=\"inner\", suffixes=(\"\", \"_rent\"))\n",
    "               .merge(df[\"inventory\"], on=\"inventory_id\", how=\"inner\", suffixes=(\"\", \"_inv\"))\n",
    "               .merge(df[\"payment\"],   on=\"rental_id\",    how=\"inner\", suffixes=(\"\", \"_pay\"))\n",
    "               .query(\"film_id == @least_revenue_film_id\")\n",
    "               .groupby([\"first_name\", \"last_name\"], as_index=False)\n",
    "               .agg(total_revenue=(\"amount\", \"sum\"), rental_count=(\"rental_id\", \"count\"))\n",
    "               .sort_values([\"total_revenue\"], ascending=False)\n",
    ")\n",
    "\n",
    "title_map = df[\"film\"][[\"film_id\", \"title\"]].drop_duplicates()\n",
    "renting_staff = renting_staff.assign(film_id=least_revenue_film_id) \\\n",
    "                             .merge(title_map, on=\"film_id\", how=\"left\") \\\n",
    "                             .drop(columns=\"film_id\")\n",
    "\n",
    "print(renting_staff.to_string(index=False))"
   ],
   "id": "559b62635dff298",
   "outputs": [
    {
     "name": "stdout",
     "output_type": "stream",
     "text": [
      "first_name last_name  total_revenue  rental_count       title\n",
      "       Jon  Stephens           2.97             3 TEXAS WATCH\n",
      "      Mike   Hillyer           2.97             3 TEXAS WATCH\n"
     ]
    }
   ],
   "execution_count": 189
  },
  {
   "metadata": {},
   "cell_type": "markdown",
   "source": [
    "-----------------------------------\n",
    "45. EN ÇOK KAZANÇ SAĞLAYAN FİLM HANGİ ÇALIŞAN TARAFINDAN KİRALANMIŞ?\n",
    "-----------------------------------"
   ],
   "id": "cdba31f08f72c004"
  },
  {
   "metadata": {
    "ExecuteTime": {
     "end_time": "2025-09-24T16:20:50.202536Z",
     "start_time": "2025-09-24T16:20:50.120546Z"
    }
   },
   "cell_type": "code",
   "source": [
    "df = {}\n",
    "for table_name in [\"staff\", \"rental\", \"inventory\", \"film\", \"payment\", \"store\"]:\n",
    "    cur = conn.execute(f\"SELECT * FROM {table_name}\")\n",
    "    cols = [c[0] for c in cur.description]\n",
    "    df[table_name] = pd.DataFrame(cur.fetchall(), columns=cols)\n",
    "\n",
    "film_revenue = (\n",
    "    df[\"film\"]\n",
    "      .merge(df[\"inventory\"], on=\"film_id\", how=\"inner\", suffixes=(\"\", \"_inv\"))\n",
    "      .merge(df[\"rental\"],   on=\"inventory_id\", how=\"inner\", suffixes=(\"\", \"_rent\"))\n",
    "      .merge(df[\"payment\"],  on=\"rental_id\",    how=\"inner\", suffixes=(\"\", \"_pay\"))\n",
    "      .groupby(\"film_id\", as_index=False)\n",
    "      .agg(total_revenue=(\"amount\", \"sum\"))\n",
    ")\n",
    "top_grossing_film_id = film_revenue.loc[film_revenue[\"total_revenue\"].idxmax(), \"film_id\"]\n",
    "\n",
    "renting_staff = (\n",
    "    df[\"staff\"]\n",
    "      .merge(df[\"rental\"],    on=\"staff_id\",     how=\"inner\", suffixes=(\"\", \"_rent\"))\n",
    "      .merge(df[\"inventory\"], on=\"inventory_id\", how=\"inner\", suffixes=(\"\", \"_inv\"))\n",
    "      .merge(df[\"film\"],      on=\"film_id\",      how=\"inner\", suffixes=(\"\", \"_film\"))\n",
    "      .merge(df[\"payment\"],   on=\"rental_id\",    how=\"inner\", suffixes=(\"\", \"_pay\"))\n",
    "      .query(\"film_id == @top_grossing_film_id\")\n",
    "      .groupby([\"first_name\", \"last_name\", \"title\"], as_index=False)\n",
    "      .agg(total_revenue=(\"amount\", \"sum\"), rental_count=(\"rental_id\", \"count\"))\n",
    "      .sort_values([\"total_revenue\", \"rental_count\"], ascending=[False, False])\n",
    "      .reset_index(drop=True)\n",
    ")\n",
    "\n",
    "print(\"Staff who processed the top-grossing film:\")\n",
    "print(renting_staff.to_string(index=False))"
   ],
   "id": "455d8750e7acd9e1",
   "outputs": [
    {
     "name": "stdout",
     "output_type": "stream",
     "text": [
      "first_name last_name            title  total_revenue  rental_count\n",
      "       Jon  Stephens TELEGRAPH VOYAGE         147.83            17\n",
      "      Mike   Hillyer TELEGRAPH VOYAGE          83.90            10\n"
     ]
    }
   ],
   "execution_count": 191
  },
  {
   "metadata": {},
   "cell_type": "markdown",
   "source": [
    "-----------------------------------\n",
    "46. EN AZ KAZANÇ SAĞLAYAN FİLM HANGİ ÇALIŞAN TARAFINDAN KİRALANMIŞ?\n",
    "-----------------------------------"
   ],
   "id": "9ececb854085ea92"
  },
  {
   "metadata": {
    "ExecuteTime": {
     "end_time": "2025-09-24T16:21:09.198560Z",
     "start_time": "2025-09-24T16:21:09.126873Z"
    }
   },
   "cell_type": "code",
   "source": [
    "df = {}\n",
    "\n",
    "for table_name in ['staff', 'rental', 'inventory', 'film', 'payment', 'store']:\n",
    "    cur = conn.execute(f\"SELECT * FROM {table_name}\")\n",
    "    cols = [c[0] for c in cur.description]\n",
    "    df[table_name] = pd.DataFrame(cur.fetchall(), columns=cols)\n",
    "                                                                           for column in conn.execute(query).description])\n",
    "\n",
    "least_grossing_film_id = (\n",
    "    df[\"film\"]\n",
    "      .merge(df[\"inventory\"], on=\"film_id\",      how=\"inner\", suffixes=(\"\", \"_inv\"))\n",
    "      .merge(df[\"rental\"],   on=\"inventory_id\",  how=\"inner\", suffixes=(\"\", \"_rent\"))\n",
    "      .merge(df[\"payment\"],  on=\"rental_id\",     how=\"inner\", suffixes=(\"\", \"_pay\"))\n",
    "      .groupby(\"film_id\", as_index=False)[\"amount\"].sum()\n",
    "      .sort_values(\"amount\", ascending=True)\n",
    "      .iloc[0, 0]\n",
    ")\n",
    "\n",
    "staff_for_least = (\n",
    "    df[\"staff\"]\n",
    "      .merge(df[\"rental\"],    on=\"staff_id\",     how=\"inner\", suffixes=(\"\", \"_rent\"))\n",
    "      .merge(df[\"inventory\"], on=\"inventory_id\", how=\"inner\", suffixes=(\"\", \"_inv\"))\n",
    "      .merge(df[\"payment\"],   on=\"rental_id\",    how=\"inner\", suffixes=(\"\", \"_pay\"))\n",
    "      .query(\"film_id == @least_grossing_film_id\")\n",
    "      .merge(df[\"film\"][[\"film_id\", \"title\"]], on=\"film_id\", how=\"left\")\n",
    "      .groupby([\"first_name\", \"last_name\", \"title\"], as_index=False)\n",
    "      .agg(total_revenue=(\"amount\", \"sum\"), rental_count=(\"rental_id\", \"count\"))\n",
    "      .sort_values([\"total_revenue\", \"rental_count\"], ascending=[False, False])\n",
    ")\n",
    "\n",
    "print(\"Staff who processed the least-grossing film:\")\n",
    "print(staff_for_least.to_string(index=False))"
   ],
   "id": "daa7edec9ad4ec09",
   "outputs": [
    {
     "name": "stdout",
     "output_type": "stream",
     "text": [
      "Staff who processed the least-grossing film:\n",
      "first_name last_name       title  total_revenue  rental_count\n",
      "       Jon  Stephens TEXAS WATCH           2.97             3\n",
      "      Mike   Hillyer TEXAS WATCH           2.97             3\n"
     ]
    }
   ],
   "execution_count": 192
  },
  {
   "metadata": {},
   "cell_type": "markdown",
   "source": [
    "-----------------------------------\n",
    "47. EN ÇOK KİRALANAN FİLM HANGİ MAĞAZADA KİRALANMIŞ?\n",
    "-----------------------------------"
   ],
   "id": "2c13fc7a5e9ad9b3"
  },
  {
   "metadata": {
    "ExecuteTime": {
     "end_time": "2025-09-24T16:28:44.690007Z",
     "start_time": "2025-09-24T16:28:44.605195Z"
    }
   },
   "cell_type": "code",
   "source": [
    "df = {}\n",
    "\n",
    "for table_name in [\"staff\", \"rental\", \"inventory\", \"film\", \"payment\", \"store\"]:\n",
    "    cur = conn.execute(f\"SELECT * FROM {table_name}\")\n",
    "    cols = [c[0] for c in cur.description]\n",
    "    df[table_name] = pd.DataFrame(cur.fetchall(), columns=cols)\n",
    "\n",
    "most_rented_film_id = (\n",
    "    df[\"film\"]\n",
    "      .merge(df[\"inventory\"], on=\"film_id\", suffixes=(\"\", \"_inv\"))\n",
    "      .merge(df[\"rental\"],    on=\"inventory_id\", suffixes=(\"\", \"_rent\"))\n",
    "      .groupby(\"film_id\")[\"rental_id\"]\n",
    "      .count()\n",
    "      .idxmax()\n",
    ")\n",
    "\n",
    "film_store = (\n",
    "    df[\"store\"]\n",
    "      .merge(df[\"staff\"],     on=\"store_id\", suffixes=(\"\", \"_staff\"))\n",
    "      .merge(df[\"rental\"],    on=\"staff_id\", suffixes=(\"\", \"_rent\"))\n",
    "      .merge(df[\"inventory\"], on=\"inventory_id\", suffixes=(\"\", \"_inv\"))\n",
    "      .merge(df[\"film\"],      on=\"film_id\", suffixes=(\"\", \"_film\"))\n",
    "      .loc[lambda x: x[\"film_id\"] == most_rented_film_id]\n",
    "      .groupby([\"store_id\", \"title\"])\n",
    "      .agg(rental_count=(\"rental_id\", \"count\"))\n",
    "      .reset_index()\n",
    "      .rename(columns={\"store_id\": \"store_id\", \"title\": \"film_title\", \"rental_count\": \"rental_count\"})\n",
    ")\n",
    "\n",
    "print(film_store)"
   ],
   "id": "57471e11a4804768",
   "outputs": [
    {
     "name": "stdout",
     "output_type": "stream",
     "text": [
      "   store_id          film_title  rental_count\n",
      "0         1  BUCKET BROTHERHOOD            16\n",
      "1         2  BUCKET BROTHERHOOD            18\n"
     ]
    }
   ],
   "execution_count": 196
  },
  {
   "metadata": {},
   "cell_type": "markdown",
   "source": [
    "-----------------------------------\n",
    "48. EN AZ KİRALANAN FİLM HANGİ MAĞAZADA KİRALANMIŞ?\n",
    "-----------------------------------"
   ],
   "id": "852c104fe276d25f"
  },
  {
   "metadata": {
    "ExecuteTime": {
     "end_time": "2025-09-24T16:28:47.195203Z",
     "start_time": "2025-09-24T16:28:47.130167Z"
    }
   },
   "cell_type": "code",
   "source": [
    "df = {}\n",
    "\n",
    "for table_name in [\"staff\", \"rental\", \"inventory\", \"film\", \"payment\", \"store\"]:\n",
    "    cur = conn.execute(f\"SELECT * FROM {table_name}\")\n",
    "    cols = [c[0] for c in cur.description]\n",
    "    df[table_name] = pd.DataFrame(cur.fetchall(), columns=cols)\n",
    "\n",
    "least_rented_film_id = (\n",
    "    df[\"film\"]\n",
    "      .merge(df[\"inventory\"], on=\"film_id\", suffixes=(\"\", \"_inv\"))\n",
    "      .merge(df[\"rental\"],    on=\"inventory_id\", suffixes=(\"\", \"_rent\"))\n",
    "      .groupby(\"film_id\")[\"rental_id\"]\n",
    "      .count()\n",
    "      .idxmin()\n",
    ")\n",
    "\n",
    "film_store = (\n",
    "    df[\"store\"]\n",
    "      .merge(df[\"staff\"],     on=\"store_id\", suffixes=(\"\", \"_staff\"))\n",
    "      .merge(df[\"rental\"],    on=\"staff_id\", suffixes=(\"\", \"_rent\"))\n",
    "      .merge(df[\"inventory\"], on=\"inventory_id\", suffixes=(\"\", \"_inv\"))\n",
    "      .merge(df[\"film\"],      on=\"film_id\", suffixes=(\"\", \"_film\"))\n",
    "      .loc[lambda x: x[\"film_id\"] == least_rented_film_id]\n",
    "      .groupby([\"store_id\", \"title\"])\n",
    "      .agg(rental_count=(\"rental_id\", \"count\"))\n",
    "      .reset_index()\n",
    "      .rename(columns={\"store_id\": \"store_id\", \"title\": \"film_title\", \"rental_count\": \"rental_count\"})\n",
    ")\n",
    "\n",
    "print(film_store)"
   ],
   "id": "710b446ea8b7eb13",
   "outputs": [
    {
     "name": "stdout",
     "output_type": "stream",
     "text": [
      "   store_id      film_title  rental_count\n",
      "0         1  HARDLY ROBBERS             1\n",
      "1         2  HARDLY ROBBERS             3\n"
     ]
    }
   ],
   "execution_count": 197
  },
  {
   "metadata": {},
   "cell_type": "markdown",
   "source": [
    "-----------------------------------\n",
    "49. EN ÇOK KAZANÇ SAĞLAYAN FİLM HANGİ MAĞAZADA KİRALANMIŞ?\n",
    "-----------------------------------"
   ],
   "id": "809f473b45e1198c"
  },
  {
   "metadata": {
    "ExecuteTime": {
     "end_time": "2025-09-24T16:29:28.132090Z",
     "start_time": "2025-09-24T16:29:28.036544Z"
    }
   },
   "cell_type": "code",
   "source": [
    "df = {}\n",
    "\n",
    "for table_name in [\"staff\", \"rental\", \"inventory\", \"film\", \"payment\", \"store\"]:\n",
    "    cur = conn.execute(f\"SELECT * FROM {table_name}\")\n",
    "    cols = [c[0] for c in cur.description]\n",
    "    df[table_name] = pd.DataFrame(cur.fetchall(), columns=cols)\n",
    "\n",
    "most_profitable_film_id = (\n",
    "    df[\"film\"]\n",
    "      .merge(df[\"inventory\"], on=\"film_id\", suffixes=(\"\", \"_inv\"))\n",
    "      .merge(df[\"rental\"],    on=\"inventory_id\", suffixes=(\"\", \"_rent\"))\n",
    "      .merge(df[\"payment\"],   on=\"rental_id\",    suffixes=(\"\", \"_pay\"))\n",
    "      .groupby(\"film_id\")[\"amount\"].sum()\n",
    "      .idxmax()\n",
    ")\n",
    "\n",
    "film_store = (\n",
    "    df[\"store\"]\n",
    "      .merge(df[\"staff\"],     on=\"store_id\", suffixes=(\"\", \"_staff\"))\n",
    "      .merge(df[\"rental\"],    on=\"staff_id\", suffixes=(\"\", \"_rent\"))\n",
    "      .merge(df[\"inventory\"], on=\"inventory_id\", suffixes=(\"\", \"_inv\"))\n",
    "      .merge(df[\"film\"],      on=\"film_id\", suffixes=(\"\", \"_film\"))\n",
    "      .merge(df[\"payment\"],   on=\"rental_id\", suffixes=(\"\", \"_pay\"))\n",
    "      .loc[lambda x: x[\"film_id\"] == most_profitable_film_id]\n",
    "      .groupby([\"store_id\", \"title\"], as_index=False)\n",
    "      .agg(total_revenue=(\"amount\", \"sum\"))\n",
    "      .rename(columns={\"store_id\": \"store_id\", \"title\": \"film_title\"})\n",
    ")\n",
    "\n",
    "print(film_store)"
   ],
   "id": "fe32f1ac9dfca781",
   "outputs": [
    {
     "name": "stdout",
     "output_type": "stream",
     "text": [
      "   store_id        film_title  total_revenue\n",
      "0         1  TELEGRAPH VOYAGE          83.90\n",
      "1         2  TELEGRAPH VOYAGE         147.83\n"
     ]
    }
   ],
   "execution_count": 198
  },
  {
   "metadata": {},
   "cell_type": "markdown",
   "source": [
    "-----------------------------------\n",
    "50. EN AZ KAZANÇ SAĞLAYAN FİLM HANGİ MAĞAZADA KİRALANMIŞ?\n",
    "-----------------------------------"
   ],
   "id": "8901f32ee137cab3"
  },
  {
   "metadata": {
    "ExecuteTime": {
     "end_time": "2025-09-24T16:29:59.913515Z",
     "start_time": "2025-09-24T16:29:59.833463Z"
    }
   },
   "cell_type": "code",
   "source": [
    "df = {}\n",
    "\n",
    "for table_name in [\"staff\", \"rental\", \"inventory\", \"film\", \"payment\", \"store\"]:\n",
    "    cur = conn.execute(f\"SELECT * FROM {table_name}\")\n",
    "    cols = [c[0] for c in cur.description]\n",
    "    df[table_name] = pd.DataFrame(cur.fetchall(), columns=cols)\n",
    "\n",
    "least_profitable_film_id = (\n",
    "    df[\"film\"]\n",
    "      .merge(df[\"inventory\"], on=\"film_id\", suffixes=(\"\", \"_inv\"))\n",
    "      .merge(df[\"rental\"],    on=\"inventory_id\", suffixes=(\"\", \"_rent\"))\n",
    "      .merge(df[\"payment\"],   on=\"rental_id\",    suffixes=(\"\", \"_pay\"))\n",
    "      .groupby(\"film_id\")[\"amount\"].sum()\n",
    "      .idxmin()\n",
    ")\n",
    "\n",
    "film_store = (\n",
    "    df[\"store\"]\n",
    "      .merge(df[\"staff\"],     on=\"store_id\", suffixes=(\"\", \"_staff\"))\n",
    "      .merge(df[\"rental\"],    on=\"staff_id\", suffixes=(\"\", \"_rent\"))\n",
    "      .merge(df[\"inventory\"], on=\"inventory_id\", suffixes=(\"\", \"_inv\"))\n",
    "      .merge(df[\"film\"],      on=\"film_id\", suffixes=(\"\", \"_film\"))\n",
    "      .merge(df[\"payment\"],   on=\"rental_id\", suffixes=(\"\", \"_pay\"))\n",
    "      .loc[lambda x: x[\"film_id\"] == least_profitable_film_id]\n",
    "      .groupby([\"store_id\", \"title\"], as_index=False)\n",
    "      .agg(total_revenue=(\"amount\", \"sum\"))\n",
    "      .rename(columns={\"title\": \"film_title\"})\n",
    ")\n",
    "\n",
    "print(film_store)"
   ],
   "id": "3b06f23bf21c0e33",
   "outputs": [
    {
     "name": "stdout",
     "output_type": "stream",
     "text": [
      "   store_id        film_title  total_revenue\n",
      "0         1  OKLAHOMA JUMANJI           3.96\n",
      "1         2  OKLAHOMA JUMANJI           1.98\n"
     ]
    }
   ],
   "execution_count": 200
  },
  {
   "metadata": {},
   "cell_type": "markdown",
   "source": [
    "-----------------------------------\n",
    "51. MÜŞTERİLERİN KİRALADIKLARI FİLMLERİN TOPLAM KİRALAMA SÜRESİ NE KADAR?\n",
    "-----------------------------------"
   ],
   "id": "8c1c34a2ccc8a487"
  },
  {
   "metadata": {
    "ExecuteTime": {
     "end_time": "2025-09-24T16:37:45.798279Z",
     "start_time": "2025-09-24T16:37:45.754974Z"
    }
   },
   "cell_type": "code",
   "source": [
    "df = {}\n",
    "\n",
    "for table_name in [\"staff\", \"customer\", \"rental\"]:\n",
    "    cur = conn.execute(f\"SELECT * FROM {table_name}\")\n",
    "    df[table_name] = pd.DataFrame(cur.fetchall(), columns=[c[0] for c in cur.description])\n",
    "\n",
    "df['rental']['rental_date'] = pd.to_datetime(df['rental']['rental_date'])\n",
    "df['rental']['return_date'] = pd.to_datetime(df['rental']['return_date'])\n",
    "\n",
    "\n",
    "total_rental_duration = (\n",
    "    df[\"customer\"]\n",
    "      .merge(r[[\"customer_id\", \"rental_duration_days\"]], on=\"customer_id\", how=\"inner\")\n",
    "      .groupby([\"first_name\", \"last_name\"], as_index=False)\n",
    "      .agg(total_rental_duration=(\"rental_duration_days\", \"sum\"))\n",
    "      .sort_values(\"total_rental_duration\", ascending=False)\n",
    "      .reset_index(drop=True)\n",
    ")\n",
    "\n",
    "print(total_rental_duration.to_string(index=False))"
   ],
   "id": "5c953a92b3ed2dd3",
   "outputs": [
    {
     "name": "stdout",
     "output_type": "stream",
     "text": [
      " first_name    last_name  total_rental_duration\n",
      "       KARL         SEAL                  241.0\n",
      "    ELEANOR         HUNT                  218.0\n",
      "      CLARA         SHAW                  211.0\n",
      "     RHONDA      KENNEDY                  209.0\n",
      "     WESLEY         BULL                  203.0\n",
      "      DAISY        BATES                  200.0\n",
      "        TIM         CARY                  200.0\n",
      "       JUNE      CARROLL                  195.0\n",
      "     MARION       SNYDER                  195.0\n",
      "     MARCIA         DEAN                  187.0\n",
      "        ANA      BRADLEY                  184.0\n",
      "       NEIL       RENNER                  182.0\n",
      "     ARNOLD       HAVENS                  181.0\n",
      "     CURTIS         IRBY                  181.0\n",
      "   GERTRUDE     CASTILLO                  180.0\n",
      "    BRANDON         HUEY                  179.0\n",
      "      LOUIS        LEONE                  177.0\n",
      "        SUE       PETERS                  176.0\n",
      "       LENA       JENSEN                  174.0\n",
      "       TROY      QUIGLEY                  173.0\n",
      "      TOMMY      COLLAZO                  173.0\n",
      "   MICHELLE        CLARK                  172.0\n",
      "      TAMMY      SANDERS                  171.0\n",
      "      MARIA       MILLER                  170.0\n",
      "  ELIZABETH        BROWN                  170.0\n",
      "    RUSSELL      BRINSON                  170.0\n",
      "      DIANE      COLLINS                  169.0\n",
      "     REGINA        BERRY                  169.0\n",
      "      ROGER  QUINTANILLA                  168.0\n",
      "   BRITTANY        RILEY                  167.0\n",
      "  PRISCILLA         LOWE                  167.0\n",
      "     LESLIE       SEWARD                  166.0\n",
      "      TANYA      GILBERT                  165.0\n",
      "    JESSICA         HALL                  165.0\n",
      "    CRYSTAL         FORD                  165.0\n",
      "     PHILIP       CAUSEY                  164.0\n",
      "    BERNICE       WILLIS                  164.0\n",
      "     MARSHA      DOUGLAS                  163.0\n",
      "     STACEY   MONTGOMERY                  163.0\n",
      "       LORI         WOOD                  163.0\n",
      "       LOIS       BUTLER                  163.0\n",
      "      RALPH     MADRIGAL                  162.0\n",
      "     GLENDA      FRAZIER                  162.0\n",
      "    MELISSA         KING                  161.0\n",
      "     JANICE         WARD                  160.0\n",
      "     SHERRY     MARSHALL                  159.0\n",
      "      JULIA       FLORES                  159.0\n",
      "   MITCHELL WESTMORELAND                  159.0\n",
      "     WARREN      SHERROD                  159.0\n",
      "        MAE     FLETCHER                  158.0\n",
      "      NAOMI     JENNINGS                  158.0\n",
      "      VIOLA       HANSON                  158.0\n",
      "      CASEY         MENA                  157.0\n",
      "    ZACHARY         HITE                  157.0\n",
      "     MARGIE         WADE                  157.0\n",
      "  ALEXANDER      FENNELL                  157.0\n",
      "      TONYA      CHAPMAN                  157.0\n",
      "    LEONARD    SCHOFIELD                  156.0\n",
      "      DUANE        TUBBS                  154.0\n",
      "      JERRY       JORDON                  153.0\n",
      "     JIMMIE    EGGLESTON                  153.0\n",
      "     JOANNE    ROBERTSON                  153.0\n",
      "     CARRIE       PORTER                  153.0\n",
      "     JUSTIN          NGO                  153.0\n",
      "     JESSIE        MILAM                  153.0\n",
      "      BILLY       POULIN                  153.0\n",
      "      ALICE      STEWART                  152.0\n",
      "     MARTHA     GONZALEZ                  152.0\n",
      "   COURTNEY          DAY                  152.0\n",
      "     MIGUEL   BETANCOURT                  151.0\n",
      "      ELSIE       KELLEY                  151.0\n",
      "     RONALD       WEINER                  151.0\n",
      "      HARRY         ARCE                  151.0\n",
      "   SALVADOR         TEEL                  151.0\n",
      "  NATHANIEL         ADAM                  151.0\n",
      "      STEVE    MACKENZIE                  151.0\n",
      "    STEPHEN       QUALLS                  150.0\n",
      "     SYLVIA        ORTIZ                  150.0\n",
      "      DEBRA       NELSON                  150.0\n",
      "   VIRGINIA        GREEN                  150.0\n",
      "      BRETT     CORNWELL                  149.0\n",
      "      ETHEL         WEBB                  149.0\n",
      "    SHIRLEY        ALLEN                  149.0\n",
      "     VIOLET    RODRIQUEZ                  149.0\n",
      "     GORDON       ALLARD                  149.0\n",
      "      RAMON       CHOATE                  148.0\n",
      "    CHARLES     KOWALSKI                  148.0\n",
      "       ALMA       AUSTIN                  148.0\n",
      "       ALEX      GRESHAM                  148.0\n",
      "    MARILYN         ROSS                  148.0\n",
      "    JUANITA        MASON                  148.0\n",
      "    STANLEY    SCROGGINS                  148.0\n",
      "     ANGELA    HERNANDEZ                  148.0\n",
      "   NICHOLAS     BARFIELD                  148.0\n",
      "     WALTER     PERRYMAN                  148.0\n",
      "       ELLA       OLIVER                  147.0\n",
      "        JOY       GEORGE                  147.0\n",
      "      HEIDI       LARSON                  147.0\n",
      "     GLORIA         COOK                  147.0\n",
      "     JAVIER        ELROD                  147.0\n",
      "      CLYDE       TOBIAS                  146.0\n",
      "     GLADYS     HAMILTON                  146.0\n",
      "      FRANK     WAGGONER                  146.0\n",
      "     ARTHUR     SIMPKINS                  146.0\n",
      "       GREG       ROBINS                  146.0\n",
      "CHRISTOPHER        GRECO                  145.0\n",
      "     SHERRI       RHODES                  145.0\n",
      "     BESSIE     MORRISON                  144.0\n",
      "        JIM          REA                  144.0\n",
      "       ERIK      GUILLEN                  143.0\n",
      "      BARRY     LOVELACE                  143.0\n",
      "       JOHN   FARNSWORTH                  143.0\n",
      "      SHAWN       HEATON                  143.0\n",
      "     JOSEPH          JOY                  143.0\n",
      "    EVERETT        BANDA                  142.0\n",
      "   JENNIFER        DAVIS                  142.0\n",
      "      TERRY      CARLSON                  142.0\n",
      "     GEORGE       LINTON                  142.0\n",
      "   MARJORIE       TUCKER                  142.0\n",
      "     DIANNE      SHELTON                  142.0\n",
      "      CRAIG      MORRELL                  142.0\n",
      "      LINDA     WILLIAMS                  141.0\n",
      "   THEODORE         CULP                  141.0\n",
      "    KATHRYN      COLEMAN                  141.0\n",
      "       EARL       SHANKS                  141.0\n",
      "      MISTY      LAMBERT                  141.0\n",
      "     JORDAN    ARCHULETA                  141.0\n",
      "     AMANDA       CARTER                  141.0\n",
      "       MIKE          WAY                  140.0\n",
      "     MARCUS      HIDALGO                  139.0\n",
      "        GUY     BROWNLEE                  139.0\n",
      "     MORRIS     MCCARTER                  139.0\n",
      "     JEANNE       LAWSON                  139.0\n",
      "       KENT    ARSENAULT                  139.0\n",
      "    DOROTHY       TAYLOR                  139.0\n",
      "     STEVEN       CURLEY                  139.0\n",
      "       RYAN    SALISBURY                  139.0\n",
      "     CHERYL       MURPHY                  139.0\n",
      "      BYRON          BOX                  139.0\n",
      "      JAMIE         RICE                  138.0\n",
      "      VELMA        LUCAS                  138.0\n",
      "     DENISE        KELLY                  138.0\n",
      "       TODD          TAN                  138.0\n",
      "    JEFFERY       PINSON                  138.0\n",
      "      SONIA      GREGORY                  138.0\n",
      "    VALERIE        BLACK                  138.0\n",
      "    ROBERTO           VU                  138.0\n",
      "    MICHAEL    SILVERMAN                  138.0\n",
      "      BOBBY     BOUDREAU                  138.0\n",
      "     SHARON     ROBINSON                  137.0\n",
      "   PATRICIA      JOHNSON                  137.0\n",
      "      DAVID        ROYAL                  137.0\n",
      "      JESUS    MCCARTNEY                  137.0\n",
      "      JULIE      SANCHEZ                  137.0\n",
      "      JAMES       GANNON                  136.0\n",
      "        KEN      PREWITT                  136.0\n",
      "      BRYAN     HARDISON                  136.0\n",
      "      JORGE     OLIVARES                  136.0\n",
      "    CHRISTY       VARGAS                  136.0\n",
      "   VERONICA        STONE                  136.0\n",
      "       JANE      BENNETT                  136.0\n",
      "   ROSEMARY      SCHMIDT                  135.0\n",
      "       NINA         SOTO                  135.0\n",
      "     GERALD        FULTZ                  135.0\n",
      "      HELEN       HARRIS                  135.0\n",
      "    MATTHEW        MAHAN                  135.0\n",
      "       OLGA      JIMENEZ                  135.0\n",
      "     JENNIE        TERRY                  134.0\n",
      "    CLIFTON      MALCOLM                  134.0\n",
      "       DAVE     GARDINER                  134.0\n",
      "     MINNIE       ROMERO                  134.0\n",
      "       DAWN     SULLIVAN                  134.0\n",
      "     JUDITH          COX                  133.0\n",
      "   BEATRICE       ARNOLD                  133.0\n",
      "   FLORENCE        WOODS                  133.0\n",
      "      ANDRE         RAPP                  133.0\n",
      "     THELMA       MURRAY                  133.0\n",
      "    DOLORES       WAGNER                  133.0\n",
      "       MARC       OUTLAW                  133.0\n",
      "     ALFRED     CASILLAS                  133.0\n",
      "      LARRY     THRASHER                  132.0\n",
      "   TERRENCE    GUNDERSON                  132.0\n",
      "      CINDY       FISHER                  132.0\n",
      "     MILTON      HOWLAND                  132.0\n",
      "      DARYL        LARUE                  132.0\n",
      "      BECKY        MILES                  132.0\n",
      "        JOE    GILLILAND                  132.0\n",
      "       ROSA     REYNOLDS                  132.0\n",
      "        ROY      WHITING                  132.0\n",
      "       DANA         HART                  131.0\n",
      "     MELVIN    ELLINGTON                  131.0\n",
      "    GEORGIA       JACOBS                  131.0\n",
      "       ALAN         KAHN                  131.0\n",
      "      NANCY       THOMAS                  131.0\n",
      "      LEROY   BUSTAMANTE                  131.0\n",
      "       TINA      SIMMONS                  131.0\n",
      "       MARY        SMITH                  131.0\n",
      "        LEE        HAWKS                  131.0\n",
      "        TOM       MILNER                  131.0\n",
      "      KEVIN      SCHULER                  131.0\n",
      "   KRISTINA     CHAMBERS                  131.0\n",
      "     SHELLY        WATTS                  130.0\n",
      "      WANDA    PATTERSON                  130.0\n",
      "      JANET     PHILLIPS                  130.0\n",
      "       RUBY   WASHINGTON                  130.0\n",
      "     HECTOR   POINDEXTER                  130.0\n",
      " JACQUELINE         LONG                  130.0\n",
      "    PATRICK       NEWSOM                  130.0\n",
      "    DOUGLAS         GRAF                  129.0\n",
      "        AMY        LOPEZ                  129.0\n",
      "     MIRIAM     MCKINNEY                  129.0\n",
      "       EDNA         WEST                  129.0\n",
      "     CAROLE      BARNETT                  129.0\n",
      "    BRADLEY       MOTLEY                  129.0\n",
      "    RAYMOND    MCWHORTER                  128.0\n",
      "     NATHAN       RUNYON                  128.0\n",
      "       SARA        PERRY                  128.0\n",
      "     HAROLD      MARTINO                  128.0\n",
      "       GLEN      TALBERT                  127.0\n",
      "      SARAH        LEWIS                  127.0\n",
      "     EDWARD        BAUGH                  127.0\n",
      "   DANIELLE      DANIELS                  127.0\n",
      "      ALVIN      DELOACH                  127.0\n",
      "     ASHLEY   RICHARDSON                  127.0\n",
      "     EVELYN       MORGAN                  127.0\n",
      "       BILL        GAVIN                  127.0\n",
      "     CLAUDE       HERZOG                  127.0\n",
      "    MICHELE        GRANT                  127.0\n",
      "      EDDIE       TOMLIN                  127.0\n",
      "     VIRGIL      WOFFORD                  126.0\n",
      "     MATHEW        BOLIN                  126.0\n",
      "       DEAN        SAUER                  126.0\n",
      "      CATHY      SPENCER                  126.0\n",
      "     DEBBIE        REYES                  126.0\n",
      "   CLARENCE        GAMEZ                  126.0\n",
      "    JOHNNIE     CHISHOLM                  126.0\n",
      "       NORA      HERRERA                  126.0\n",
      "        LEO        EBERT                  126.0\n",
      "   LAWRENCE       LAWTON                  126.0\n",
      "   CLIFFORD       BOWENS                  126.0\n",
      "     CALVIN       MARTEL                  126.0\n",
      "       RENE    MCALISTER                  126.0\n",
      "       RUTH     MARTINEZ                  126.0\n",
      "     MAXINE        SILVA                  125.0\n",
      "      AMBER        DIXON                  125.0\n",
      "     JULIAN         VEST                  125.0\n",
      "      PERRY     SWAFFORD                  125.0\n",
      "       ERIC       ROBERT                  125.0\n",
      "      MABEL      HOLLAND                  125.0\n",
      "     MANUEL      MURRELL                  125.0\n",
      "     WILLIE       HOWELL                  125.0\n",
      "   REGINALD       KINDER                  124.0\n",
      "     ARLENE       HARVEY                  124.0\n",
      "    RANDALL      NEUMANN                  124.0\n",
      "       LEAH       CURTIS                  124.0\n",
      "        BEN       EASTER                  124.0\n",
      "    KRISTIN     JOHNSTON                  124.0\n",
      "      JASON    MORRISSEY                  124.0\n",
      "      ELLEN      SIMPSON                  124.0\n",
      "   TERRANCE        ROUSH                  124.0\n",
      "      TERRI      VASQUEZ                  124.0\n",
      "      WENDY     HARRISON                  124.0\n",
      "       DORA       MEDINA                  124.0\n",
      "       JEFF         EAST                  123.0\n",
      "    CAROLYN        PEREZ                  123.0\n",
      "      JOYCE      EDWARDS                  123.0\n",
      "      KATHY        JAMES                  123.0\n",
      "      TRACY     HERRMANN                  123.0\n",
      "        IAN        STILL                  123.0\n",
      "      JAIME      NETTLES                  123.0\n",
      "    EDUARDO        HIATT                  123.0\n",
      "    SHANNON      FREEMAN                  123.0\n",
      "    YOLANDA       WEAVER                  123.0\n",
      "     BRANDY       GRAVES                  122.0\n",
      "     RAMONA         HALE                  122.0\n",
      "     MARION       OCAMPO                  122.0\n",
      "      KAREN      JACKSON                  122.0\n",
      "      BETTY        WHITE                  122.0\n",
      "        TED       BREAUX                  122.0\n",
      "      RENEE         LANE                  122.0\n",
      "       ROSS         GREY                  122.0\n",
      "  CATHERINE     CAMPBELL                  121.0\n",
      "       WADE     DELVALLE                  121.0\n",
      "    CYNTHIA        YOUNG                  121.0\n",
      "      HAZEL       WARREN                  121.0\n",
      "   FERNANDO    CHURCHILL                  121.0\n",
      "       DALE     RATCLIFF                  120.0\n",
      "     DENNIS       GILMAN                  120.0\n",
      "    CLAUDIA       FULLER                  120.0\n",
      "      COREY       HAUSER                  120.0\n",
      "       MARK     RINEHART                  120.0\n",
      "      JENNY       CASTRO                  120.0\n",
      "    FRANCIS        SIKES                  120.0\n",
      "     AUDREY          RAY                  120.0\n",
      "      PETER       MENARD                  120.0\n",
      "       PAUL        TROUT                  120.0\n",
      "      PEDRO     CHESTNUT                  119.0\n",
      "     HOWARD      FORTNER                  118.0\n",
      "       JUDY         GRAY                  118.0\n",
      "     TYRONE        ASHER                  118.0\n",
      "     ELAINE      STEVENS                  118.0\n",
      "     VICKIE       BREWER                  118.0\n",
      "       SEAN     DOUGLASS                  118.0\n",
      "       GENE      SANBORN                  118.0\n",
      "      TRACY         COLE                  118.0\n",
      "  JOSEPHINE        GOMEZ                  118.0\n",
      "     RODNEY      MOELLER                  118.0\n",
      "        RON       DELUCA                  117.0\n",
      "    DARLENE         ROSE                  117.0\n",
      "      HOLLY          FOX                  117.0\n",
      "    WALLACE        SLONE                  117.0\n",
      "        DON         BONE                  117.0\n",
      "       LYNN        PAYNE                  117.0\n",
      "     ANDREW        PURDY                  117.0\n",
      "     MONICA        HICKS                  117.0\n",
      "       LUCY      WHEELER                  117.0\n",
      "     DARREN      WINDHAM                  117.0\n",
      "  CASSANDRA      WALTERS                  117.0\n",
      "    THERESA       WATSON                  116.0\n",
      "      PATSY     DAVIDSON                  116.0\n",
      "       ERIN         DUNN                  116.0\n",
      "    DEBORAH       WALKER                  116.0\n",
      "     ESTHER     CRAWFORD                  116.0\n",
      "      JIMMY     SCHRADER                  116.0\n",
      "    WILLIAM  SATTERFIELD                  116.0\n",
      "       SETH       HANNON                  116.0\n",
      "      EDWIN         BURK                  116.0\n",
      "      ANGEL      BARCLAY                  115.0\n",
      "     SIDNEY     BURLESON                  115.0\n",
      "    HEATHER       MORRIS                  115.0\n",
      "    PAULINE        HENRY                  115.0\n",
      "    COLLEEN       BURTON                  115.0\n",
      "     DUSTIN     GILLETTE                  115.0\n",
      "      CECIL        VINES                  115.0\n",
      "       LISA     ANDERSON                  115.0\n",
      "      APRIL        BURNS                  115.0\n",
      "      HILDA      HOPKINS                  115.0\n",
      "       TONI         HOLT                  114.0\n",
      "       RICK       MATTOX                  114.0\n",
      "    MAURICE      CRAWLEY                  114.0\n",
      "      CARLA    GUTIERREZ                  114.0\n",
      "      JESSE    SCHILLING                  114.0\n",
      "     SANDRA       MARTIN                  114.0\n",
      "      RANDY      GAITHER                  114.0\n",
      "    CHARLIE         BESS                  114.0\n",
      "     WILLIE      MARKHAM                  114.0\n",
      "     MYRTLE      FLEMING                  114.0\n",
      "     MARTIN        BALES                  114.0\n",
      "    MICHEAL       FORMAN                  114.0\n",
      "    FRANCES       PARKER                  114.0\n",
      "      OSCAR       AQUINO                  114.0\n",
      "     DEANNA         BYRD                  113.0\n",
      "    ENRIQUE     FORSYTHE                  113.0\n",
      "     BERTHA     FERGUSON                  113.0\n",
      "        JAY         ROBB                  113.0\n",
      "     ERNEST        STEPP                  113.0\n",
      "       KYLE     SPURLOCK                  113.0\n",
      "  GWENDOLYN          MAY                  113.0\n",
      "  STEPHANIE     MITCHELL                  113.0\n",
      "    DELORES       HANSEN                  112.0\n",
      "      GRACE        ELLIS                  112.0\n",
      "    LILLIAN      GRIFFIN                  112.0\n",
      "     TERESA       ROGERS                  112.0\n",
      "      ELMER          NOE                  112.0\n",
      "   VICTORIA       GIBSON                  111.0\n",
      "    DARRELL        POWER                  111.0\n",
      "     CARMEN        OWENS                  111.0\n",
      "       ANDY      VANHORN                  111.0\n",
      "   CHARLENE      ALVAREZ                  111.0\n",
      "    RICHARD      MCCRARY                  111.0\n",
      "      ISAAC      OGLESBY                  111.0\n",
      "       JACK        FOUST                  111.0\n",
      "      JAMIE        WAUGH                  111.0\n",
      "    LORETTA    CARPENTER                  111.0\n",
      "       RITA       GRAHAM                  110.0\n",
      "      VICKI       FIELDS                  110.0\n",
      "     DONALD        MAHON                  110.0\n",
      "      STACY   CUNNINGHAM                  110.0\n",
      "     SERGIO    STANFIELD                  110.0\n",
      "      DIANA    ALEXANDER                  110.0\n",
      "     BRENDA       WRIGHT                  110.0\n",
      "  GERALDINE      PERKINS                  110.0\n",
      "     BONNIE       HUGHES                  110.0\n",
      "       ROSE       HOWARD                  110.0\n",
      "     LAURIE     LAWRENCE                  110.0\n",
      "       BETH     FRANKLIN                  109.0\n",
      "      AARON        SELBY                  109.0\n",
      "     MARIAN      MENDOZA                  109.0\n",
      "  CHARLOTTE       HUNTER                  109.0\n",
      "    CLAYTON       BARBEE                  109.0\n",
      "      KELLY        KNOTT                  109.0\n",
      "     JOSHUA         MARK                  109.0\n",
      "     HARVEY     GUAJARDO                  109.0\n",
      "        BOB     PFEIFFER                  108.0\n",
      "    LUCILLE       HOLMES                  108.0\n",
      "    VINCENT      RALSTON                  108.0\n",
      "      IRENE        PRICE                  108.0\n",
      "     CONNIE      WALLACE                  108.0\n",
      "      KEITH         RICO                  108.0\n",
      "    GABRIEL       HARDER                  108.0\n",
      "     STELLA       MORENO                  108.0\n",
      "     RAFAEL        ABNEY                  107.0\n",
      "      BRENT      HARKINS                  107.0\n",
      "       JEAN         BELL                  107.0\n",
      "      ERIKA         PENA                  107.0\n",
      "   MARSHALL        THORN                  107.0\n",
      "     THOMAS      GRIGSBY                  106.0\n",
      "     HERMAN       DEVORE                  106.0\n",
      "     PAMELA        BAKER                  106.0\n",
      "       ADAM        GOOCH                  106.0\n",
      "    RICARDO       MEADOR                  106.0\n",
      "   KATHLEEN        ADAMS                  106.0\n",
      "    SUZANNE      NICHOLS                  106.0\n",
      "    JEFFREY        SPEAR                  106.0\n",
      "     TRAVIS        ESTEP                  106.0\n",
      "       CODY        NOLEN                  106.0\n",
      "      PEGGY        MYERS                  106.0\n",
      "      DEREK      BLAKELY                  106.0\n",
      "      WILMA     RICHARDS                  106.0\n",
      "    PHILLIP         HOLM                  106.0\n",
      "     RONNIE     RICKETTS                  105.0\n",
      "      LAURA    RODRIGUEZ                  105.0\n",
      "      SHANE      MILLARD                  105.0\n",
      "      MARIE       TURNER                  105.0\n",
      "        MAX         PITT                  104.0\n",
      "       GINA   WILLIAMSON                  104.0\n",
      "  FRANCISCO     SKIDMORE                  104.0\n",
      "    PHYLLIS       FOSTER                  104.0\n",
      "     TRACEY      BARRETT                  104.0\n",
      "     VIVIAN         RUIZ                  104.0\n",
      "    ANNETTE        OLSON                  104.0\n",
      "        DAN        PAINE                  104.0\n",
      "      MARIO     CHEATHAM                  104.0\n",
      "       JOAN       COOPER                  103.0\n",
      "      DANNY         ISOM                  103.0\n",
      "       BRAD      MCCURDY                  103.0\n",
      "      ALLAN      CORNISH                  103.0\n",
      "       LEON       BOSTIC                  102.0\n",
      "    FREDDIE       DUGGAN                  102.0\n",
      "       CHAD      CARBONE                  102.0\n",
      "        RAY        HOULE                  102.0\n",
      "       JOSE       ANDREW                  102.0\n",
      "  CHRISTIAN         JUNG                  102.0\n",
      "     TAMARA       NGUYEN                  102.0\n",
      "      SCOTT      SHELLEY                  101.0\n",
      "    MILDRED       BAILEY                  101.0\n",
      "    GILBERT       SLEDGE                  101.0\n",
      "        IDA      ANDREWS                  101.0\n",
      "       JOEL    FRANCISCO                  100.0\n",
      "       TARA         RYAN                  100.0\n",
      "      LANCE    PEMBERTON                  100.0\n",
      "     CARLOS     COUGHLIN                  100.0\n",
      "    FELICIA       SUTTON                  100.0\n",
      "       IVAN     CROMWELL                  100.0\n",
      "    ARMANDO       GRUBER                   99.0\n",
      "     ROLAND        SOUTH                   99.0\n",
      "      FELIX      GAFFNEY                   99.0\n",
      "      EDGAR       RHOADS                   99.0\n",
      "   KIMBERLY          LEE                   99.0\n",
      "      RUBEN        GEARY                   99.0\n",
      "      BRUCE      SCHWARZ                   99.0\n",
      "       GAIL       KNIGHT                   98.0\n",
      "        SAM     MCDUFFIE                   98.0\n",
      "      SUSAN       WILSON                   98.0\n",
      "    CLINTON       BUFORD                   98.0\n",
      "      SALLY       PIERCE                   98.0\n",
      "    MAUREEN       LITTLE                   98.0\n",
      "      NORMA     GONZALES                   98.0\n",
      "    KENNETH       GOODEN                   98.0\n",
      "     AUSTIN      CINTRON                   97.0\n",
      "     LONNIE       TIRADO                   97.0\n",
      "      AGNES       BISHOP                   97.0\n",
      "    WILLARD      LUMPKIN                   97.0\n",
      "       GARY          COY                   97.0\n",
      "    MARLENE        WELCH                   96.0\n",
      "      KELLY       TORRES                   95.0\n",
      "      LLOYD         DOWD                   95.0\n",
      "      ALLEN  BUTTERFIELD                   95.0\n",
      "     NORMAN      CURRIER                   95.0\n",
      "        KIM         CRUZ                   95.0\n",
      "      PEARL        GARZA                   94.0\n",
      "      ROBIN        HAYES                   94.0\n",
      "     BOBBIE        CRAIG                   94.0\n",
      "     LOUISE      JENKINS                   94.0\n",
      "     DWIGHT     LOMBARDI                   94.0\n",
      "    CHESTER       BENNER                   94.0\n",
      "        ANN        EVANS                   94.0\n",
      "     DWAYNE       OLVERA                   93.0\n",
      "     JEREMY      HURTADO                   93.0\n",
      "      LEWIS        LYMAN                   93.0\n",
      "     LESLIE       GORDON                   93.0\n",
      "  FREDERICK       ISBELL                   93.0\n",
      "       RAUL      FORTIER                   93.0\n",
      "      DONNA     THOMPSON                   93.0\n",
      "     ALBERT       CROUSE                   93.0\n",
      "      KATIE      ELLIOTT                   93.0\n",
      "        JON        WILES                   93.0\n",
      "      RICKY       SHELBY                   93.0\n",
      "       CORY       MEEHAN                   92.0\n",
      "     VERNON        CHAPA                   92.0\n",
      "       LUIS        YANEZ                   91.0\n",
      "       IRMA      PEARSON                   91.0\n",
      "     LILLIE          KIM                   91.0\n",
      "      MEGAN       PALMER                   91.0\n",
      "      GLENN       PULLEN                   91.0\n",
      "       JILL      HAWKINS                   90.0\n",
      "  CONSTANCE         REID                   90.0\n",
      "    GREGORY      MAULDIN                   90.0\n",
      "    HERBERT       KRUGER                   90.0\n",
      "     ADRIAN        CLARY                   90.0\n",
      "    DERRICK      BOURQUE                   90.0\n",
      "     RACHEL       BARNES                   90.0\n",
      "       EMMA         BOYD                   89.0\n",
      "      EMILY         DIAZ                   89.0\n",
      "     EILEEN         CARR                   89.0\n",
      "     JACKIE        LYNCH                   89.0\n",
      "      WAYNE       TRUONG                   89.0\n",
      "      HENRY  BILLINGSLEY                   89.0\n",
      "      ERICA     MATTHEWS                   88.0\n",
      "     ANDREA    HENDERSON                   88.0\n",
      "     VICTOR      BARKLEY                   88.0\n",
      "     DANIEL       CABRAL                   88.0\n",
      "   MARGARET        MOORE                   88.0\n",
      "     NELLIE      GARRETT                   88.0\n",
      "        KAY     CALDWELL                   88.0\n",
      "       JUAN       FRALEY                   88.0\n",
      "   LORRAINE     STEPHENS                   87.0\n",
      "     NICOLE     PETERSON                   87.0\n",
      "    REBECCA        SCOTT                   87.0\n",
      "       HUGH      WALDROP                   86.0\n",
      "      CHRIS     BROTHERS                   86.0\n",
      "     DARRYL     ASHCRAFT                   86.0\n",
      "    ROBERTA       HARPER                   86.0\n",
      "      JARED          ELY                   86.0\n",
      "     BILLIE       HORTON                   86.0\n",
      "    ANTONIO         MEEK                   85.0\n",
      "        EVA        RAMOS                   85.0\n",
      "     JEROME       KENYON                   85.0\n",
      "      JULIO       NOLAND                   85.0\n",
      "       KURT       EMMONS                   85.0\n",
      "       CARL        ARTIS                   84.0\n",
      "    BEVERLY       BROOKS                   84.0\n",
      "       FRED        WHEAT                   84.0\n",
      "      PENNY         NEAL                   83.0\n",
      "     YVONNE      WATKINS                   83.0\n",
      "    ALLISON      STANLEY                   83.0\n",
      "    VANESSA         SIMS                   82.0\n",
      "    ALFREDO      MCADAMS                   82.0\n",
      "       ANNE       POWELL                   82.0\n",
      "      LYDIA        BURKE                   82.0\n",
      "     SHEILA        WELLS                   82.0\n",
      "    BERNARD        COLBY                   81.0\n",
      "   FRANKLIN     TROUTMAN                   81.0\n",
      "    KRISTEN       CHAVEZ                   81.0\n",
      "    NATALIE        MEYER                   81.0\n",
      "   SAMANTHA       DUNCAN                   81.0\n",
      "    TIMOTHY         BUNN                   81.0\n",
      "       ANNA         HILL                   80.0\n",
      "      TYLER         WREN                   80.0\n",
      "      PAULA       BRYANT                   80.0\n",
      "     JESSIE        BANKS                   79.0\n",
      "     ALICIA        MILLS                   77.0\n",
      "      DORIS         REED                   77.0\n",
      "  KATHERINE       RIVERA                   77.0\n",
      "    MELINDA    FERNANDEZ                   77.0\n",
      "     SAMUEL       MARLOW                   77.0\n",
      "      FLOYD        GANDY                   76.0\n",
      "     ROBERT     BAUGHMAN                   76.0\n",
      "   BENJAMIN       VARNEY                   76.0\n",
      "   JONATHAN  SCARBOROUGH                   75.0\n",
      "      TERRY      GRISSOM                   75.0\n",
      "    MELANIE    ARMSTRONG                   75.0\n",
      "      CAROL       GARCIA                   75.0\n",
      "       VERA        MCCOY                   75.0\n",
      "    BARBARA        JONES                   75.0\n",
      "     LESTER        KRAUS                   74.0\n",
      "     NELSON  CHRISTENSON                   74.0\n",
      "       KIRK      STCLAIR                   74.0\n",
      "         JO       FOWLER                   74.0\n",
      "  CHRISTINE      ROBERTS                   73.0\n",
      "    ALBERTO      HENNING                   73.0\n",
      "      JACOB        LANCE                   73.0\n",
      "   JEANETTE       GREENE                   72.0\n",
      "     MARVIN          YEE                   71.0\n",
      "  CHRISTINA      RAMIREZ                   70.0\n",
      "      LEONA       OBRIEN                   70.0\n",
      "      EDITH     MCDONALD                   69.0\n",
      "     MATTIE      HOFFMAN                   69.0\n",
      "       TONY     CARRANZA                   69.0\n",
      "      JOANN      GARDNER                   68.0\n",
      "      ANITA      MORALES                   68.0\n",
      "     LAUREN       HUDSON                   67.0\n",
      "    ANTHONY       SCHWAB                   67.0\n",
      "     EUGENE    CULPEPPER                   66.0\n",
      "   CAROLINE       BOWMAN                   65.0\n",
      "      ANNIE      RUSSELL                   58.0\n",
      "     JOHNNY       TURPIN                   56.0\n",
      "      BRIAN        WYMAN                   53.0\n",
      "    TIFFANY       JORDAN                   52.0\n"
     ]
    }
   ],
   "execution_count": 204
  },
  {
   "metadata": {},
   "cell_type": "markdown",
   "source": [
    "-----------------------------------\n",
    "52. EN ÇOK KİRALANAN TÜRDEKİ FİLMLER HANGİLERİ?\n",
    "-----------------------------------"
   ],
   "id": "4d134c8c99161220"
  },
  {
   "metadata": {
    "ExecuteTime": {
     "end_time": "2025-09-24T16:38:38.419563Z",
     "start_time": "2025-09-24T16:38:38.346860Z"
    }
   },
   "cell_type": "code",
   "source": [
    "df = {}\n",
    "\n",
    "for table_name in [\"staff\", \"rental\", \"inventory\", \"film\", \"payment\", \"store\", \"customer\", \"category\", \"film_category\"]:\n",
    "    cur = conn.execute(f\"SELECT * FROM {table_name}\")\n",
    "    df[table_name] = pd.DataFrame(cur.fetchall(), columns=[c[0] for c in cur.description])\n",
    "\n",
    "most_rented_categories = (\n",
    "    df[\"film\"]\n",
    "      .merge(df[\"film_category\"], on=\"film_id\", suffixes=(\"\", \"_fc\"))\n",
    "      .merge(df[\"category\"],      on=\"category_id\", suffixes=(\"\", \"_cat\"))\n",
    "      .merge(df[\"inventory\"],     on=\"film_id\", suffixes=(\"\", \"_inv\"))\n",
    "      .merge(df[\"rental\"],        on=\"inventory_id\", suffixes=(\"\", \"_rent\"))\n",
    "      .groupby([\"name\", \"title\"])\n",
    "      .agg(rental_count=(\"rental_id\", \"count\"))\n",
    "      .reset_index()\n",
    "      .sort_values(\"rental_count\", ascending=False)\n",
    "      .head(3)\n",
    "      .rename(columns={\"name\": \"category\"})\n",
    ")\n",
    "\n",
    "print(most_rented_categories)"
   ],
   "id": "270100839a2239b2",
   "outputs": [
    {
     "name": "stdout",
     "output_type": "stream",
     "text": [
      "    category                title  rental_count\n",
      "909   Travel   BUCKET BROTHERHOOD            34\n",
      "536  Foreign     ROCKETEER MOTHER            33\n",
      "757      New  RIDGEMONT SUBMARINE            32\n"
     ]
    }
   ],
   "execution_count": 205
  },
  {
   "metadata": {},
   "cell_type": "markdown",
   "source": [
    "-----------------------------------\n",
    "53. EN AZ KİRALANAN TÜRDEKİ FİLMLER HANGİLERİ?\n",
    "-----------------------------------"
   ],
   "id": "b1ec32d071677a53"
  },
  {
   "metadata": {
    "ExecuteTime": {
     "end_time": "2025-09-24T16:43:55.356125Z",
     "start_time": "2025-09-24T16:43:55.254821Z"
    }
   },
   "cell_type": "code",
   "source": [
    "df = {}\n",
    "\n",
    "for table_name in [\"staff\", \"rental\", \"inventory\", \"film\", \"payment\", \"store\", \"customer\", \"category\", \"film_category\"]:\n",
    "    cur = conn.execute(f\"SELECT * FROM {table_name}\")\n",
    "    cols = [c[0] for c in cur.description]\n",
    "    df[table_name] = pd.DataFrame(cur.fetchall(), columns=cols)\n",
    "\n",
    "least_rented_categories = (\n",
    "    df[\"film\"]\n",
    "      .merge(df[\"film_category\"], on=\"film_id\", suffixes=(\"\", \"_fc\"))\n",
    "      .merge(df[\"category\"],      on=\"category_id\", suffixes=(\"\", \"_cat\"))\n",
    "      .merge(df[\"inventory\"],     on=\"film_id\", suffixes=(\"\", \"_inv\"))\n",
    "      .merge(df[\"rental\"],        on=\"inventory_id\", suffixes=(\"\", \"_rent\"))\n",
    "      .groupby([\"name\", \"title\"])\n",
    "      .agg(rental_count=(\"rental_id\", \"count\"))\n",
    "      .reset_index()\n",
    "      .rename(columns={\"name\": \"genre\"})\n",
    "      .sort_values(\"rental_count\", ascending=True)\n",
    "      .head(3)\n",
    ")\n",
    "\n",
    "print(\"Least rented film categories:\")\n",
    "print(least_rented_categories)"
   ],
   "id": "ebb675e90e645956",
   "outputs": [
    {
     "name": "stdout",
     "output_type": "stream",
     "text": [
      "Least rented film categories:\n",
      "           genre           title  rental_count\n",
      "315  Documentary  HARDLY ROBBERS             4\n",
      "525      Foreign     MIXED DOORS             4\n",
      "656       Horror     TRAIN BUNCH             4\n"
     ]
    }
   ],
   "execution_count": 208
  },
  {
   "metadata": {},
   "cell_type": "markdown",
   "source": [
    "-----------------------------------\n",
    "54. HER MÜŞTERİ İÇİN TOPLAM ÖDEME MİKTARINI BULUN\n",
    "-----------------------------------"
   ],
   "id": "107228ab79852f58"
  },
  {
   "metadata": {
    "ExecuteTime": {
     "end_time": "2025-09-24T16:43:23.006761Z",
     "start_time": "2025-09-24T16:43:22.923343Z"
    }
   },
   "cell_type": "code",
   "source": [
    "df = {}\n",
    "\n",
    "for table_name in [\"staff\", \"rental\", \"inventory\", \"film\", \"payment\", \"store\", \"customer\", \"category\", \"film_category\"]:\n",
    "    cur = conn.execute(f\"SELECT * FROM {table_name}\")\n",
    "    cols = [c[0] for c in cur.description]\n",
    "    df[table_name] = pd.DataFrame(cur.fetchall(), columns=cols)\n",
    "\n",
    "total_payment = (\n",
    "    df[\"customer\"]\n",
    "      .merge(df[\"rental\"],  on=\"customer_id\")\n",
    "      .merge(df[\"payment\"], on=\"rental_id\")\n",
    "      .groupby([\"first_name\", \"last_name\"], as_index=False)\n",
    "      .agg(total_payment=(\"amount\", \"sum\"))\n",
    ")\n",
    "\n",
    "print(total_payment)"
   ],
   "id": "c1993ca2d24c97dd",
   "outputs": [
    {
     "name": "stdout",
     "output_type": "stream",
     "text": [
      "    first_name last_name  total_payment\n",
      "0        AARON     SELBY         110.76\n",
      "1         ADAM     GOOCH         101.78\n",
      "2       ADRIAN     CLARY          74.81\n",
      "3        AGNES    BISHOP          98.77\n",
      "4         ALAN      KAHN         124.74\n",
      "..         ...       ...            ...\n",
      "594     WILLIE   MARKHAM         101.75\n",
      "595      WILMA  RICHARDS          91.80\n",
      "596    YOLANDA    WEAVER         110.73\n",
      "597     YVONNE   WATKINS          92.79\n",
      "598    ZACHARY      HITE         146.69\n",
      "\n",
      "[599 rows x 3 columns]\n"
     ]
    }
   ],
   "execution_count": 207
  },
  {
   "metadata": {},
   "cell_type": "markdown",
   "source": [
    "-----------------------------------\n",
    "55. HANGİ FİLMLER EN UZUN SÜRE KİRALANMIŞ?\n",
    "-----------------------------------"
   ],
   "id": "cd337154639d2761"
  },
  {
   "metadata": {
    "ExecuteTime": {
     "end_time": "2025-09-24T16:44:29.388367Z",
     "start_time": "2025-09-24T16:44:29.313750Z"
    }
   },
   "cell_type": "code",
   "source": [
    "df = {}\n",
    "\n",
    "for table_name in [\"staff\", \"rental\", \"inventory\", \"film\", \"payment\", \"store\", \"customer\", \"category\", \"film_category\"]:\n",
    "    cur = conn.execute(f\"SELECT * FROM {table_name}\")\n",
    "    cols = [c[0] for c in cur.description]\n",
    "    df[table_name] = pd.DataFrame(cur.fetchall(), columns=cols)\n",
    "\n",
    "df[\"rental\"][\"rental_date\"] = pd.to_datetime(df[\"rental\"][\"rental_date\"])\n",
    "df[\"rental\"][\"return_date\"] = pd.to_datetime(df[\"rental\"][\"return_date\"])\n",
    "\n",
    "df[\"rental\"][\"rental_days\"] = (df[\"rental\"][\"return_date\"] - df[\"rental\"][\"rental_date\"]).dt.days\n",
    "\n",
    "longest_rented_films = (\n",
    "    df[\"film\"]\n",
    "      .merge(df[\"inventory\"], on=\"film_id\")\n",
    "      .merge(df[\"rental\"],   on=\"inventory_id\")\n",
    "      .groupby(\"title\", as_index=False)\n",
    "      .agg(max_rental_days=(\"rental_days\", \"max\"))\n",
    "      .sort_values(\"max_rental_days\", ascending=False)\n",
    ")\n",
    "\n",
    "print(longest_rented_films)"
   ],
   "id": "cfe18ed07dbbae4b",
   "outputs": [
    {
     "name": "stdout",
     "output_type": "stream",
     "text": [
      "                 title  max_rental_days\n",
      "0     ACADEMY DINOSAUR              9.0\n",
      "653         PITY BOUND              9.0\n",
      "551         MILE MULAN              9.0\n",
      "552        MILLION ACE              9.0\n",
      "553       MINDS TRUMAN              9.0\n",
      "..                 ...              ...\n",
      "800         SQUAD FISH              5.0\n",
      "448    ITALIAN AFRICAN              5.0\n",
      "341        GLORY TRACY              5.0\n",
      "865     TRAFFIC HOBBIT              4.0\n",
      "244  DUFFEL APOCALYPSE              4.0\n",
      "\n",
      "[958 rows x 2 columns]\n"
     ]
    }
   ],
   "execution_count": 209
  },
  {
   "metadata": {},
   "cell_type": "markdown",
   "source": [
    "-----------------------------------\n",
    "56. HANGİ FİLMLER EN KISA SÜRE KİRALANMIŞ?\n",
    "-----------------------------------"
   ],
   "id": "5954451fa100f996"
  },
  {
   "metadata": {
    "ExecuteTime": {
     "end_time": "2025-09-24T16:45:46.162360Z",
     "start_time": "2025-09-24T16:45:46.085266Z"
    }
   },
   "cell_type": "code",
   "source": [
    "df = {}\n",
    "\n",
    "for table_name in [\"staff\", \"rental\", \"inventory\", \"film\", \"payment\", \"store\", \"customer\", \"category\", \"film_category\"]:\n",
    "    cur = conn.execute(f\"SELECT * FROM {table_name}\")\n",
    "    cols = [c[0] for c in cur.description]\n",
    "    df[table_name] = pd.DataFrame(cur.fetchall(), columns=cols)\n",
    "\n",
    "df[\"rental\"][\"rental_date\"] = pd.to_datetime(df[\"rental\"][\"rental_date\"])\n",
    "df[\"rental\"][\"return_date\"] = pd.to_datetime(df[\"rental\"][\"return_date\"])\n",
    "\n",
    "df[\"rental\"][\"rental_days\"] = (df[\"rental\"][\"return_date\"] - df[\"rental\"][\"rental_date\"]).dt.days\n",
    "\n",
    "shortest_rented_films = (\n",
    "    df[\"film\"]\n",
    "      .merge(df[\"inventory\"], on=\"film_id\")\n",
    "      .merge(df[\"rental\"],   on=\"inventory_id\")\n",
    "      .groupby(\"title\", as_index=False)\n",
    "      .agg(min_rental_days=(\"rental_days\", \"min\"))\n",
    "      .sort_values(\"min_rental_days\", ascending=True)\n",
    ")\n",
    "\n",
    "print(shortest_rented_films)"
   ],
   "id": "2536ea9f2e83b701",
   "outputs": [
    {
     "name": "stdout",
     "output_type": "stream",
     "text": [
      "                    title  min_rental_days\n",
      "0        ACADEMY DINOSAUR              0.0\n",
      "544       MERMAID INSECTS              0.0\n",
      "546       METROPOLIS COMA              0.0\n",
      "547  MICROCOSMOS PARADISE              0.0\n",
      "548     MIDNIGHT WESTWARD              0.0\n",
      "..                    ...              ...\n",
      "337       GILBERT PELICAN              3.0\n",
      "896       VANISHED GARDEN              3.0\n",
      "223            DOLLS RAGE              3.0\n",
      "764  SILVERADO GOLDFINGER              3.0\n",
      "716           RUN PACIFIC              3.0\n",
      "\n",
      "[958 rows x 2 columns]\n"
     ]
    }
   ],
   "execution_count": 210
  },
  {
   "metadata": {},
   "cell_type": "markdown",
   "source": [
    "-----------------------------------\n",
    "57. MÜŞTERİLERİN KİRALADIĞI FİLMLER İÇİN ORTALAMA ÖDEME MİKTARINI BULUN\n",
    "-----------------------------------"
   ],
   "id": "ff656d934c38868f"
  },
  {
   "metadata": {
    "ExecuteTime": {
     "end_time": "2025-09-24T16:47:00.002117Z",
     "start_time": "2025-09-24T16:46:59.942302Z"
    }
   },
   "cell_type": "code",
   "source": [
    "df = {}\n",
    "\n",
    "for table_name in [\"staff\", \"rental\", \"inventory\", \"film\", \"payment\", \"store\", \"customer\", \"category\", \"film_category\"]:\n",
    "    cur = conn.execute(f\"SELECT * FROM {table_name}\")\n",
    "    cols = [c[0] for c in cur.description]\n",
    "    df[table_name] = pd.DataFrame(cur.fetchall(), columns=cols)\n",
    "\n",
    "avg_payment = (\n",
    "    df[\"customer\"]\n",
    "      .merge(df[\"rental\"],  on=\"customer_id\")\n",
    "      .merge(df[\"payment\"], on=\"rental_id\")\n",
    "      .groupby([\"first_name\", \"last_name\"], as_index=False)\n",
    "      .agg(avg_payment=(\"amount\", \"mean\"))\n",
    ")\n",
    "\n",
    "avg_payment[\"avg_payment\"] = avg_payment[\"avg_payment\"].round(5)\n",
    "\n",
    "print(avg_payment)"
   ],
   "id": "40b1311023511033",
   "outputs": [
    {
     "name": "stdout",
     "output_type": "stream",
     "text": [
      "    first_name last_name  avg_payment\n",
      "0        AARON     SELBY      4.61500\n",
      "1         ADAM     GOOCH      4.62636\n",
      "2       ADRIAN     CLARY      3.93737\n",
      "3        AGNES    BISHOP      4.29435\n",
      "4         ALAN      KAHN      4.79769\n",
      "..         ...       ...          ...\n",
      "594     WILLIE   MARKHAM      4.07000\n",
      "595      WILMA  RICHARDS      4.59000\n",
      "596    YOLANDA    WEAVER      4.10111\n",
      "597     YVONNE   WATKINS      4.41857\n",
      "598    ZACHARY      HITE      4.73194\n",
      "\n",
      "[599 rows x 3 columns]\n"
     ]
    }
   ],
   "execution_count": 212
  },
  {
   "metadata": {},
   "cell_type": "markdown",
   "source": [
    "-----------------------------------\n",
    "58. EN ÇOK KİRALANAN FİLMLERİN ORTALAMA KİRALAMA SÜRESİ NEDİR?\n",
    "-----------------------------------"
   ],
   "id": "1b8eba9cf847508e"
  },
  {
   "metadata": {
    "ExecuteTime": {
     "end_time": "2025-09-24T16:47:46.581627Z",
     "start_time": "2025-09-24T16:47:46.513430Z"
    }
   },
   "cell_type": "code",
   "source": [
    "df = {}\n",
    "\n",
    "for table_name in [\"staff\", \"rental\", \"inventory\", \"film\", \"payment\", \"store\", \"customer\", \"category\", \"film_category\"]:\n",
    "    cur = conn.execute(f\"SELECT * FROM {table_name}\")\n",
    "    cols = [c[0] for c in cur.description]\n",
    "    df[table_name] = pd.DataFrame(cur.fetchall(), columns=cols)\n",
    "\n",
    "df[\"rental\"][\"rental_date\"] = pd.to_datetime(df[\"rental\"][\"rental_date\"])\n",
    "df[\"rental\"][\"return_date\"] = pd.to_datetime(df[\"rental\"][\"return_date\"])\n",
    "\n",
    "df[\"rental\"][\"rental_days\"] = (df[\"rental\"][\"return_date\"] - df[\"rental\"][\"rental_date\"]).dt.days\n",
    "\n",
    "top_rented_films = (\n",
    "    df[\"film\"]\n",
    "      .merge(df[\"inventory\"], on=\"film_id\", suffixes=(\"\", \"_inv\"))\n",
    "      .merge(df[\"rental\"], on=\"inventory_id\", suffixes=(\"\", \"_rent\"))\n",
    "      .assign(rental_days=lambda x: (x[\"return_date\"] - x[\"rental_date\"]).dt.days)\n",
    "      .groupby(\"title\", as_index=False)\n",
    "      .agg(avg_rental_days=(\"rental_days\", \"mean\"),\n",
    "           rental_count=(\"rental_id\", \"count\"))\n",
    "      .sort_values(by=\"rental_count\", ascending=False)\n",
    "      .head(17)\n",
    ")\n",
    "\n",
    "print(top_rented_films[[\"title\", \"avg_rental_days\", \"rental_count\"]])"
   ],
   "id": "bdbb49fd21bf408a",
   "outputs": [
    {
     "name": "stdout",
     "output_type": "stream",
     "text": [
      "                   title  avg_rental_days  rental_count\n",
      "96    BUCKET BROTHERHOOD         4.411765            34\n",
      "705     ROCKETEER MOTHER         4.939394            33\n",
      "697  RIDGEMONT SUBMARINE         5.580645            32\n",
      "361       GRIT CLOCKWORK         4.812500            32\n",
      "465       JUGGLER HARDLY         5.064516            32\n",
      "312       FORWARD TEMPLE         5.125000            32\n",
      "733        SCALAWAG DUCK         3.593750            32\n",
      "957            ZORRO ARK         4.096774            31\n",
      "853       TIMBERLAND SKY         5.290323            31\n",
      "29         APACHE DIVINE         3.709677            31\n",
      "395         HOBBIT ALIEN         5.161290            31\n",
      "348    GOODFELLAS SALUTE         4.838710            31\n",
      "594         NETWORK PEAK         5.000000            31\n",
      "930            WIFE TURN         4.161290            31\n",
      "719      RUSH GOODFELLAS         4.032258            31\n",
      "702         ROBBERS JOON         4.354839            31\n",
      "755          SHOCK CABIN         4.964286            30\n"
     ]
    }
   ],
   "execution_count": 214
  },
  {
   "metadata": {},
   "cell_type": "markdown",
   "source": [
    "-----------------------------------\n",
    "59. EN AZ KİRALANAN FİLMLERİN ORTALAMA KİRALAMA SÜRESİ NEDİR?\n",
    "-----------------------------------"
   ],
   "id": "7d3251fdb7367370"
  },
  {
   "metadata": {
    "ExecuteTime": {
     "end_time": "2025-09-24T16:48:50.283312Z",
     "start_time": "2025-09-24T16:48:50.209384Z"
    }
   },
   "cell_type": "code",
   "source": [
    "df = {}\n",
    "\n",
    "for table_name in [\"staff\", \"rental\", \"inventory\", \"film\", \"payment\", \"store\", \"customer\", \"category\", \"film_category\"]:\n",
    "    cur = conn.execute(f\"SELECT * FROM {table_name}\")\n",
    "    cols = [c[0] for c in cur.description]\n",
    "    df[table_name] = pd.DataFrame(cur.fetchall(), columns=cols)\n",
    "\n",
    "df[\"rental\"][\"rental_date\"] = pd.to_datetime(df[\"rental\"][\"rental_date\"])\n",
    "df[\"rental\"][\"return_date\"] = pd.to_datetime(df[\"rental\"][\"return_date\"])\n",
    "\n",
    "df[\"rental\"][\"rental_days\"] = (df[\"rental\"][\"return_date\"] - df[\"rental\"][\"rental_date\"]).dt.days\n",
    "\n",
    "least_rented_films = (\n",
    "    df[\"film\"]\n",
    "      .merge(df[\"inventory\"], on=\"film_id\", suffixes=(\"\", \"_inv\"))\n",
    "      .merge(df[\"rental\"], on=\"inventory_id\", suffixes=(\"\", \"_rent\"))\n",
    "      .assign(rental_days=lambda x: (x[\"return_date\"] - x[\"rental_date\"]).dt.days)\n",
    "      .groupby(\"title\", as_index=False)\n",
    "      .agg(avg_rental_days=(\"rental_days\", \"mean\"),\n",
    "           rental_count=(\"rental_id\", \"count\"))\n",
    "      .sort_values(by=\"rental_count\", ascending=True)\n",
    "      .head(17)\n",
    ")\n",
    "\n",
    "print(least_rented_films[[\"title\", \"avg_rental_days\", \"rental_count\"]])"
   ],
   "id": "c9ea36d60f5049f1",
   "outputs": [
    {
     "name": "stdout",
     "output_type": "stream",
     "text": [
      "                  title  avg_rental_days  rental_count\n",
      "558         MIXED DOORS             5.75             4\n",
      "866         TRAIN BUNCH             3.00             4\n",
      "378      HARDLY ROBBERS             6.50             4\n",
      "585  MUSSOLINI SPOILERS             3.60             5\n",
      "315   FREEDOM CLEOPATRA             2.40             5\n",
      "669        PRIVATE DROP             4.20             5\n",
      "293        FEVER EMPIRE             5.20             5\n",
      "168   CONSPIRACY SPIRIT             3.60             5\n",
      "532     MANNEQUIN WORST             4.00             5\n",
      "435     INFORMER DOUBLE             2.80             5\n",
      "417        HUNTER ALTER             6.20             5\n",
      "323     FULL FLATLINERS             3.40             5\n",
      "747         SEVEN SWARM             4.00             5\n",
      "865      TRAFFIC HOBBIT             2.80             5\n",
      "341         GLORY TRACY             3.40             5\n",
      "100         BUNCH MINDS             5.40             5\n",
      "87     BRAVEHEART HUMAN             3.40             5\n"
     ]
    }
   ],
   "execution_count": 215
  },
  {
   "metadata": {},
   "cell_type": "markdown",
   "source": [
    "-----------------------------------\n",
    "60. EN ÇOK KAZANÇ SAĞLAYAN MÜŞTERİLERİN ORTALAMA ÖDEME MİKTARI NEDİR?\n",
    "-----------------------------------"
   ],
   "id": "4c51c06454ef8fbb"
  },
  {
   "metadata": {
    "ExecuteTime": {
     "end_time": "2025-09-24T16:52:09.577700Z",
     "start_time": "2025-09-24T16:52:09.505241Z"
    }
   },
   "cell_type": "code",
   "source": [
    "df = {}\n",
    "\n",
    "for table_name in [\"staff\", \"rental\", \"inventory\", \"film\", \"payment\", \"store\", \"customer\", \"category\", \"film_category\"]:\n",
    "    cur = conn.execute(f\"SELECT * FROM {table_name}\")\n",
    "    cols = [c[0] for c in cur.description]\n",
    "    df[table_name] = pd.DataFrame(cur.fetchall(), columns=cols)\n",
    "\n",
    "avg_payment = (\n",
    "    df[\"customer\"]\n",
    "      .merge(df[\"rental\"], on=\"customer_id\", suffixes=(\"\", \"_r\"))\n",
    "      .merge(df[\"payment\"], on=\"rental_id\", suffixes=(\"\", \"_p\"))\n",
    "      .groupby([\"first_name\", \"last_name\"], as_index=False)\n",
    "      .agg(avg_payment=(\"amount\", \"mean\"), total_payment=(\"amount\", \"sum\"))\n",
    "      .sort_values(by=\"total_payment\", ascending=False)\n",
    "      .head(12)\n",
    ")\n",
    "\n",
    "print(avg_payment[[\"first_name\", \"last_name\", \"avg_payment\"]])"
   ],
   "id": "97b4d1cba3fc6fe6",
   "outputs": [
    {
     "name": "stdout",
     "output_type": "stream",
     "text": [
      "    first_name last_name  avg_payment\n",
      "318       KARL      SEAL     4.923333\n",
      "175    ELEANOR      HUNT     4.707391\n",
      "105      CLARA      SHAW     4.656667\n",
      "474     RHONDA   KENNEDY     4.990000\n",
      "389     MARION    SNYDER     4.990000\n",
      "556      TOMMY   COLLAZO     4.911053\n",
      "590     WESLEY      BULL     4.440000\n",
      "551        TIM      CARY     4.502821\n",
      "379     MARCIA      DEAN     4.180476\n",
      "21         ANA   BRADLEY     5.137059\n",
      "315       JUNE   CARROLL     4.692703\n",
      "151      DIANE   COLLINS     4.847143\n"
     ]
    }
   ],
   "execution_count": 216
  },
  {
   "metadata": {},
   "cell_type": "markdown",
   "source": [
    "-----------------------------------\n",
    "61. EN AZ KAZANÇ SAĞLAYAN MÜŞTERİLERİN ORTALAMA ÖDEME MİKTARI NEDİR?\n",
    "-----------------------------------"
   ],
   "id": "da7fd75c3e7b087f"
  },
  {
   "metadata": {
    "ExecuteTime": {
     "end_time": "2025-09-24T17:00:52.892850Z",
     "start_time": "2025-09-24T17:00:52.825440Z"
    }
   },
   "cell_type": "code",
   "source": [
    "df = {}\n",
    "\n",
    "for table_name in [\"staff\", \"rental\", \"inventory\", \"film\", \"payment\", \"store\", \"customer\", \"category\", \"film_category\"]:\n",
    "    cur = conn.execute(f\"SELECT * FROM {table_name}\")\n",
    "    cols = [c[0] for c in cur.description]\n",
    "    df[table_name] = pd.DataFrame(cur.fetchall(), columns=cols)\n",
    "\n",
    "least_profitable_customers = (\n",
    "    df[\"customer\"]\n",
    "      .merge(df[\"rental\"], on=\"customer_id\", suffixes=(\"\", \"_r\"))\n",
    "      .merge(df[\"payment\"], on=\"rental_id\", suffixes=(\"\", \"_p\"))\n",
    "      .groupby([\"first_name\", \"last_name\"], as_index=False)\n",
    "      .agg(avg_payment=(\"amount\", \"mean\"), total_payment=(\"amount\", \"sum\"))\n",
    "      .sort_values(by=\"total_payment\", ascending=True)\n",
    "      .head(12)\n",
    ")\n",
    "\n",
    "print(least_profitable_customers[[\"first_name\", \"last_name\", \"avg_payment\"]])"
   ],
   "id": "388e77148a6a18a7",
   "outputs": [
    {
     "name": "stdout",
     "output_type": "stream",
     "text": [
      "    first_name last_name  avg_payment\n",
      "83    CAROLINE    BOWMAN     3.390000\n",
      "351      LEONA    OBRIEN     3.632857\n",
      "71       BRIAN     WYMAN     4.406667\n",
      "296     JOHNNY    TURPIN     3.042632\n",
      "33       ANNIE   RUSSELL     3.267778\n",
      "319  KATHERINE    RIVERA     4.204286\n",
      "550    TIFFANY    JORDAN     4.275714\n",
      "28       ANITA   MORALES     4.190000\n",
      "401     MATTIE   HOFFMAN     2.944545\n",
      "334       KIRK   STCLAIR     3.411053\n",
      "356     LESTER     KRAUS     4.115000\n",
      "6      ALBERTO   HENNING     3.180476\n"
     ]
    }
   ],
   "execution_count": 229
  },
  {
   "metadata": {},
   "cell_type": "markdown",
   "source": [
    "-----------------------------------\n",
    "62. MAĞAZALARDAKİ TOPLAM KİRALAMA SÜRESİNİ BULUN\n",
    "-----------------------------------"
   ],
   "id": "dcb680b9a1d019e1"
  },
  {
   "metadata": {
    "ExecuteTime": {
     "end_time": "2025-09-24T16:54:17.450050Z",
     "start_time": "2025-09-24T16:54:17.392330Z"
    }
   },
   "cell_type": "code",
   "source": [
    "df = {}\n",
    "\n",
    "for table_name in [\"staff\", \"rental\", \"inventory\", \"film\", \"payment\", \"store\", \"customer\", \"category\", \"film_category\"]:\n",
    "    cur = conn.execute(f\"SELECT * FROM {table_name}\")\n",
    "    cols = [c[0] for c in cur.description]\n",
    "    df[table_name] = pd.DataFrame(cur.fetchall(), columns=cols)\n",
    "\n",
    "df[\"rental\"][\"rental_date\"] = pd.to_datetime(df[\"rental\"][\"rental_date\"])\n",
    "df[\"rental\"][\"return_date\"] = pd.to_datetime(df[\"rental\"][\"return_date\"])\n",
    "\n",
    "df[\"rental\"][\"rental_duration\"] = (df[\"rental\"][\"return_date\"] - df[\"rental\"][\"rental_date\"]).dt.days\n",
    "\n",
    "total_duration = (\n",
    "    df[\"store\"]\n",
    "      .merge(df[\"staff\"], on=\"store_id\", how=\"inner\")\n",
    "      .merge(df[\"rental\"], on=\"staff_id\", how=\"inner\")\n",
    "      .groupby(\"store_id\", as_index=False)\n",
    "      .agg(total_rental_days=(\"rental_duration\", \"sum\"))\n",
    ")\n",
    "\n",
    "print(total_duration)"
   ],
   "id": "bdc4eedeeb009d03",
   "outputs": [
    {
     "name": "stdout",
     "output_type": "stream",
     "text": [
      "   store_id  total_rental_days\n",
      "0         1            35897.0\n",
      "1         2            35889.0\n"
     ]
    }
   ],
   "execution_count": 219
  },
  {
   "metadata": {},
   "cell_type": "markdown",
   "source": [
    "-----------------------------------\n",
    "63. EN UZUN SÜRE KİRALANAN FİLM HANGİ MAĞAZADA KİRALANMIŞ?\n",
    "-----------------------------------"
   ],
   "id": "bb912d31690a294a"
  },
  {
   "metadata": {
    "ExecuteTime": {
     "end_time": "2025-09-24T16:54:51.728021Z",
     "start_time": "2025-09-24T16:54:51.663839Z"
    }
   },
   "cell_type": "code",
   "source": [
    "df = {}\n",
    "\n",
    "for table_name in [\"staff\", \"rental\", \"inventory\", \"film\", \"payment\", \"store\", \"customer\", \"category\", \"film_category\"]:\n",
    "    cur = conn.execute(f\"SELECT * FROM {table_name}\")\n",
    "    cols = [c[0] for c in cur.description]\n",
    "    df[table_name] = pd.DataFrame(cur.fetchall(), columns=cols)\n",
    "\n",
    "df[\"rental\"][\"rental_date\"] = pd.to_datetime(df[\"rental\"][\"rental_date\"])\n",
    "df[\"rental\"][\"return_date\"] = pd.to_datetime(df[\"rental\"][\"return_date\"])\n",
    "\n",
    "df[\"rental\"][\"rental_duration\"] = (df[\"rental\"][\"return_date\"] - df[\"rental\"][\"rental_date\"]).dt.days\n",
    "\n",
    "longest_rented_film = (\n",
    "    df[\"store\"]\n",
    "      .merge(df[\"staff\"], on=\"store_id\", suffixes=(\"\", \"_staff\"))\n",
    "      .merge(df[\"rental\"], on=\"staff_id\", suffixes=(\"\", \"_rental\"))\n",
    "      .merge(df[\"inventory\"], on=\"inventory_id\", suffixes=(\"\", \"_inv\"))\n",
    "      .merge(df[\"film\"], on=\"film_id\", suffixes=(\"\", \"_film\"))\n",
    "      .groupby([\"store_id\", \"title\"])\n",
    "      .agg(max_rental_days=(\"rental_duration\", \"max\"))\n",
    "      .reset_index()\n",
    "      .sort_values(by=\"max_rental_days\", ascending=False)\n",
    "      .head(1)\n",
    ")\n",
    "\n",
    "print(longest_rented_film)"
   ],
   "id": "23795caa73502d6a",
   "outputs": [
    {
     "name": "stdout",
     "output_type": "stream",
     "text": [
      "   store_id             title  max_rental_days\n",
      "0         1  ACADEMY DINOSAUR              9.0\n"
     ]
    }
   ],
   "execution_count": 221
  },
  {
   "metadata": {},
   "cell_type": "markdown",
   "source": [
    "-----------------------------------\n",
    "64. EN KISA SÜREDE KİRALANAN FİLM HANGİ MAĞAZADA KİRALANMIŞ?\n",
    "-----------------------------------"
   ],
   "id": "cfb72411ed206f6c"
  },
  {
   "metadata": {
    "ExecuteTime": {
     "end_time": "2025-09-24T16:55:28.449407Z",
     "start_time": "2025-09-24T16:55:28.374998Z"
    }
   },
   "cell_type": "code",
   "source": [
    "df = {}\n",
    "\n",
    "for table_name in [\"staff\", \"rental\", \"inventory\", \"film\", \"payment\", \"store\", \"customer\", \"category\", \"film_category\"]:\n",
    "    cur = conn.execute(f\"SELECT * FROM {table_name}\")\n",
    "    cols = [c[0] for c in cur.description]\n",
    "    df[table_name] = pd.DataFrame(cur.fetchall(), columns=cols)\n",
    "\n",
    "df[\"rental\"][\"rental_date\"] = pd.to_datetime(df[\"rental\"][\"rental_date\"])\n",
    "df[\"rental\"][\"return_date\"] = pd.to_datetime(df[\"rental\"][\"return_date\"])\n",
    "\n",
    "df[\"rental\"][\"rental_duration\"] = (df[\"rental\"][\"return_date\"] - df[\"rental\"][\"rental_date\"]).dt.days\n",
    "\n",
    "shortest_rented_film = (\n",
    "    df[\"store\"]\n",
    "      .merge(df[\"staff\"], on=\"store_id\", suffixes=(\"\", \"_staff\"))\n",
    "      .merge(df[\"rental\"], on=\"staff_id\", suffixes=(\"\", \"_rental\"))\n",
    "      .merge(df[\"inventory\"], on=\"inventory_id\", suffixes=(\"\", \"_inv\"))\n",
    "      .merge(df[\"film\"], on=\"film_id\", suffixes=(\"\", \"_film\"))\n",
    "      .groupby([\"store_id\", \"title\"])\n",
    "      .agg(min_rental_duration=(\"rental_duration\", \"min\"))\n",
    "      .reset_index()\n",
    "      .sort_values(by=\"min_rental_duration\", ascending=True)\n",
    "      .head(1)\n",
    ")\n",
    "\n",
    "print(shortest_rented_film[[\"store_id\", \"title\", \"min_rental_duration\"]])"
   ],
   "id": "f9e870fe26996a20",
   "outputs": [
    {
     "name": "stdout",
     "output_type": "stream",
     "text": [
      "   store_id             title  min_rental_duration\n",
      "0         1  ACADEMY DINOSAUR                  0.0\n"
     ]
    }
   ],
   "execution_count": 222
  },
  {
   "metadata": {},
   "cell_type": "markdown",
   "source": [
    "-----------------------------------\n",
    "65. HER FİLMİN ORTALAMA KİRALAMA SÜRESİ NEDİR?\n",
    "-----------------------------------"
   ],
   "id": "20fab05171ff4cf"
  },
  {
   "metadata": {
    "ExecuteTime": {
     "end_time": "2025-09-24T16:56:51.025558Z",
     "start_time": "2025-09-24T16:56:50.942038Z"
    }
   },
   "cell_type": "code",
   "source": [
    "df = {}\n",
    "\n",
    "for table_name in [\"staff\", \"rental\", \"inventory\", \"film\", \"payment\", \"store\", \"customer\", \"category\", \"film_category\"]:\n",
    "    cur = conn.execute(f\"SELECT * FROM {table_name}\")\n",
    "    cols = [c[0] for c in cur.description]\n",
    "    df[table_name] = pd.DataFrame(cur.fetchall(), columns=cols)\n",
    "\n",
    "df[\"rental\"][\"rental_date\"] = pd.to_datetime(df[\"rental\"][\"rental_date\"])\n",
    "df[\"rental\"][\"return_date\"] = pd.to_datetime(df[\"rental\"][\"return_date\"])\n",
    "\n",
    "df[\"rental\"][\"rental_duration\"] = (df[\"rental\"][\"return_date\"] - df[\"rental\"][\"rental_date\"]).dt.days\n",
    "\n",
    "avg_rental_duration = (\n",
    "    df[\"film\"]\n",
    "      .merge(df[\"inventory\"], on=\"film_id\")\n",
    "      .merge(df[\"rental\"], on=\"inventory_id\")\n",
    "      .assign(rental_days=lambda x: (pd.to_datetime(x[\"return_date\"]) - pd.to_datetime(x[\"rental_date\"])).dt.days)\n",
    "      .groupby(\"title\")\n",
    "      .agg(avg_rental_days=(\"rental_days\", \"mean\"))\n",
    "      .reset_index()\n",
    ")\n",
    "\n",
    "print(avg_rental_duration)"
   ],
   "id": "f86dfd5561caa8d6",
   "outputs": [
    {
     "name": "stdout",
     "output_type": "stream",
     "text": [
      "                 title  avg_rental_days\n",
      "0     ACADEMY DINOSAUR         4.545455\n",
      "1       ACE GOLDFINGER         5.333333\n",
      "2     ADAPTATION HOLES         2.833333\n",
      "3     AFFAIR PREJUDICE         4.363636\n",
      "4          AFRICAN EGG         6.727273\n",
      "..                 ...              ...\n",
      "953     YOUNG LANGUAGE         4.000000\n",
      "954         YOUTH KICK         4.666667\n",
      "955       ZHIVAGO CORE         5.250000\n",
      "956  ZOOLANDER FICTION         5.176471\n",
      "957          ZORRO ARK         4.096774\n",
      "\n",
      "[958 rows x 2 columns]\n"
     ]
    }
   ],
   "execution_count": 223
  },
  {
   "metadata": {},
   "cell_type": "markdown",
   "source": [
    "-----------------------------------\n",
    "66. HANGİ FİLMLER EN ÇOK KİRALANAN KATEGORİDE?\n",
    "-----------------------------------"
   ],
   "id": "3a83d012e4ef8525"
  },
  {
   "metadata": {
    "ExecuteTime": {
     "end_time": "2025-09-24T16:57:25.908400Z",
     "start_time": "2025-09-24T16:57:25.823902Z"
    }
   },
   "cell_type": "code",
   "source": [
    "df = {}\n",
    "\n",
    "for table_name in [\"staff\", \"rental\", \"inventory\", \"film\", \"payment\", \"store\", \"customer\", \"category\", \"film_category\"]:\n",
    "    cur = conn.execute(f\"SELECT * FROM {table_name}\")\n",
    "    cols = [c[0] for c in cur.description]\n",
    "    df[table_name] = pd.DataFrame(cur.fetchall(), columns=cols)\n",
    "\n",
    "popular_film_categories = (\n",
    "    df[\"category\"]\n",
    "      .merge(df[\"film_category\"], on=\"category_id\", how=\"inner\", suffixes=(\"\", \"_fc\"))\n",
    "      .merge(df[\"film\"], on=\"film_id\", how=\"inner\", suffixes=(\"\", \"_film\"))\n",
    "      .merge(df[\"inventory\"], on=\"film_id\", how=\"inner\", suffixes=(\"\", \"_inv\"))\n",
    "      .merge(df[\"rental\"], on=\"inventory_id\", how=\"inner\", suffixes=(\"\", \"_r\"))\n",
    "      .groupby([\"name\", \"title\"])\n",
    "      .agg(rental_count=(\"rental_id\", \"count\"))\n",
    "      .reset_index()\n",
    "      .rename(columns={\"name\": \"genre\"})\n",
    "      .sort_values(by=\"rental_count\", ascending=False)\n",
    ")\n",
    "\n",
    "print(popular_film_categories)"
   ],
   "id": "5a44d811e977a919",
   "outputs": [
    {
     "name": "stdout",
     "output_type": "stream",
     "text": [
      "           genre                title  rental_count\n",
      "909       Travel   BUCKET BROTHERHOOD            34\n",
      "536      Foreign     ROCKETEER MOTHER            33\n",
      "757          New  RIDGEMONT SUBMARINE            32\n",
      "572        Games       GRIT CLOCKWORK            32\n",
      "93     Animation       JUGGLER HARDLY            32\n",
      "..           ...                  ...           ...\n",
      "513      Foreign      INFORMER DOUBLE             5\n",
      "570        Games          GLORY TRACY             5\n",
      "656       Horror          TRAIN BUNCH             4\n",
      "525      Foreign          MIXED DOORS             4\n",
      "315  Documentary       HARDLY ROBBERS             4\n",
      "\n",
      "[958 rows x 3 columns]\n"
     ]
    }
   ],
   "execution_count": 224
  },
  {
   "metadata": {},
   "cell_type": "markdown",
   "source": [
    "-----------------------------------\n",
    "67. HANGİ FİLMLER EN AZ KİRALANAN KATEGORİDE?\n",
    "-----------------------------------"
   ],
   "id": "70b159ef55feed24"
  },
  {
   "metadata": {
    "ExecuteTime": {
     "end_time": "2025-09-24T17:00:34.505954Z",
     "start_time": "2025-09-24T17:00:34.447029Z"
    }
   },
   "cell_type": "code",
   "source": [
    "df = {}\n",
    "\n",
    "for table_name in [\"staff\", \"rental\", \"inventory\", \"film\", \"payment\", \"store\", \"customer\", \"category\", \"film_category\"]:\n",
    "    cur = conn.execute(f\"SELECT * FROM {table_name}\")\n",
    "    cols = [c[0] for c in cur.description]\n",
    "    df[table_name] = pd.DataFrame(cur.fetchall(), columns=cols)\n",
    "\n",
    "least_film_categories = (\n",
    "    df[\"category\"]\n",
    "      .merge(df[\"film_category\"], on=\"category_id\", how=\"inner\", suffixes=(\"\", \"_fc\"))\n",
    "      .merge(df[\"film\"], on=\"film_id\", how=\"inner\", suffixes=(\"\", \"_film\"))\n",
    "      .merge(df[\"inventory\"], on=\"film_id\", how=\"inner\", suffixes=(\"\", \"_inv\"))\n",
    "      .merge(df[\"rental\"], on=\"inventory_id\", how=\"inner\", suffixes=(\"\", \"_r\"))\n",
    "      .groupby([\"name\", \"title\"])\n",
    "      .agg(rental_count=(\"rental_id\", \"count\"))\n",
    "      .reset_index()\n",
    "      .rename(columns={\"name\": \"genre\"})\n",
    "      .sort_values(by=\"rental_count\", ascending=True)\n",
    ")\n",
    "\n",
    "print(least_film_categories)"
   ],
   "id": "b545f69eac3af54c",
   "outputs": [
    {
     "name": "stdout",
     "output_type": "stream",
     "text": [
      "           genre                title  rental_count\n",
      "315  Documentary       HARDLY ROBBERS             4\n",
      "525      Foreign          MIXED DOORS             4\n",
      "656       Horror          TRAIN BUNCH             4\n",
      "746          New      MANNEQUIN WORST             5\n",
      "566        Games         FEVER EMPIRE             5\n",
      "..           ...                  ...           ...\n",
      "572        Games       GRIT CLOCKWORK            32\n",
      "568        Games       FORWARD TEMPLE            32\n",
      "757          New  RIDGEMONT SUBMARINE            32\n",
      "536      Foreign     ROCKETEER MOTHER            33\n",
      "909       Travel   BUCKET BROTHERHOOD            34\n",
      "\n",
      "[958 rows x 3 columns]\n"
     ]
    }
   ],
   "execution_count": 228
  },
  {
   "metadata": {},
   "cell_type": "markdown",
   "source": [
    "-----------------------------------\n",
    "68. HANGİ MAĞAZALARDA EN ÇOK FİLM KİRALANMIŞ?\n",
    "-----------------------------------"
   ],
   "id": "9b4f36921700cd36"
  },
  {
   "metadata": {
    "ExecuteTime": {
     "end_time": "2025-09-24T17:02:32.536121Z",
     "start_time": "2025-09-24T17:02:32.461955Z"
    }
   },
   "cell_type": "code",
   "source": [
    "df = {}\n",
    "\n",
    "for table_name in [\"staff\", \"rental\", \"inventory\", \"film\", \"payment\", \"store\", \"customer\", \"category\", \"film_category\"]:\n",
    "    cur = conn.execute(f\"SELECT * FROM {table_name}\")\n",
    "    cols = [c[0] for c in cur.description]\n",
    "    df[table_name] = pd.DataFrame(cur.fetchall(), columns=cols)\n",
    "\n",
    "most_rented_genres = (\n",
    "    df[\"category\"]\n",
    "      .merge(df[\"film_category\"], on=\"category_id\", suffixes=(\"\", \"_fc\"))\n",
    "      .merge(df[\"film\"], on=\"film_id\", suffixes=(\"\", \"_film\"))\n",
    "      .merge(df[\"inventory\"], on=\"film_id\", suffixes=(\"\", \"_inv\"))\n",
    "      .merge(df[\"rental\"], on=\"inventory_id\", suffixes=(\"\", \"_r\"))\n",
    "      .groupby(\"name\")\n",
    "      .agg(total_rentals=(\"rental_id\", \"count\"))\n",
    "      .reset_index()\n",
    "      .rename(columns={\"name\": \"genre\"})\n",
    "      .sort_values(by=\"total_rentals\", ascending=False)\n",
    ")\n",
    "\n",
    "print(most_rented_genres)"
   ],
   "id": "9d42cd51245c7f23",
   "outputs": [
    {
     "name": "stdout",
     "output_type": "stream",
     "text": [
      "          genre  total_rentals\n",
      "14       Sports           1179\n",
      "1     Animation           1166\n",
      "0        Action           1112\n",
      "13       Sci-Fi           1101\n",
      "7        Family           1096\n",
      "6         Drama           1060\n",
      "5   Documentary           1050\n",
      "8       Foreign           1033\n",
      "9         Games            969\n",
      "2      Children            945\n",
      "4        Comedy            941\n",
      "12          New            940\n",
      "3      Classics            939\n",
      "10       Horror            846\n",
      "15       Travel            837\n",
      "11        Music            830\n"
     ]
    }
   ],
   "execution_count": 230
  },
  {
   "metadata": {},
   "cell_type": "markdown",
   "source": [
    "-----------------------------------\n",
    "69. HANGİ MAĞAZALARDA EN AZ FİLM KİRALANMIŞ?\n",
    "-----------------------------------"
   ],
   "id": "ff76e7d7a25e9505"
  },
  {
   "metadata": {
    "ExecuteTime": {
     "end_time": "2025-09-24T17:12:51.374574Z",
     "start_time": "2025-09-24T17:12:51.293606Z"
    }
   },
   "cell_type": "code",
   "source": [
    "df = {}\n",
    "\n",
    "for table_name in [\"staff\", \"rental\", \"inventory\", \"film\", \"payment\", \"store\", \"customer\", \"category\", \"film_category\"]:\n",
    "    cur = conn.execute(f\"SELECT * FROM {table_name}\")\n",
    "    cols = [c[0] for c in cur.description]\n",
    "    df[table_name] = pd.DataFrame(cur.fetchall(), columns=cols)\n",
    "\n",
    "least_rented_films = (\n",
    "    df[\"film\"]\n",
    "      .merge(df[\"inventory\"], on=\"film_id\")\n",
    "      .merge(df[\"rental\"], on=\"inventory_id\")\n",
    "      .groupby(\"title\")\n",
    "      .agg(total_rentals=(\"rental_id\", \"count\"))\n",
    "      .reset_index()\n",
    "      .sort_values(by=\"total_rentals\", ascending=True)\n",
    ")\n",
    "\n",
    "print(least_rented_films)"
   ],
   "id": "efa488c2a2079232",
   "outputs": [
    {
     "name": "stdout",
     "output_type": "stream",
     "text": [
      "                  title  total_rentals\n",
      "558         MIXED DOORS              4\n",
      "866         TRAIN BUNCH              4\n",
      "378      HARDLY ROBBERS              4\n",
      "585  MUSSOLINI SPOILERS              5\n",
      "315   FREEDOM CLEOPATRA              5\n",
      "..                  ...            ...\n",
      "361      GRIT CLOCKWORK             32\n",
      "733       SCALAWAG DUCK             32\n",
      "312      FORWARD TEMPLE             32\n",
      "705    ROCKETEER MOTHER             33\n",
      "96   BUCKET BROTHERHOOD             34\n",
      "\n",
      "[958 rows x 2 columns]\n"
     ]
    }
   ],
   "execution_count": 233
  },
  {
   "metadata": {},
   "cell_type": "markdown",
   "source": [
    "-----------------------------------\n",
    "70. HANGİ AKTÖRLER EN ÇOK FİLMDE ROL ALMIŞ?\n",
    "-----------------------------------"
   ],
   "id": "22f08685b3bc9875"
  },
  {
   "metadata": {
    "ExecuteTime": {
     "end_time": "2025-09-24T17:13:31.823977Z",
     "start_time": "2025-09-24T17:13:31.747417Z"
    }
   },
   "cell_type": "code",
   "source": [
    "df = {}\n",
    "for table_name in [\n",
    "    \"staff\", \"rental\", \"inventory\", \"film\", \"payment\", \"store\",\n",
    "    \"customer\", \"category\", \"film_category\", \"actor\", \"film_actor\"\n",
    "]:\n",
    "    cur = conn.execute(f\"SELECT * FROM {table_name}\")\n",
    "    cols = [c[0] for c in cur.description]\n",
    "    df[table_name] = pd.DataFrame(cur.fetchall(), columns=cols)\n",
    "\n",
    "top_actors = (\n",
    "    df[\"actor\"]\n",
    "      .merge(df[\"film_actor\"], on=\"actor_id\", how=\"inner\")\n",
    "      .groupby([\"first_name\", \"last_name\"])\n",
    "      .agg(film_count=(\"film_id\", \"count\"))\n",
    "      .reset_index()\n",
    "      .sort_values(by=\"film_count\", ascending=False)\n",
    ")\n",
    "\n",
    "print(top_actors)"
   ],
   "id": "9b1995f72479d3f5",
   "outputs": [
    {
     "name": "stdout",
     "output_type": "stream",
     "text": [
      "    first_name  last_name  film_count\n",
      "180      SUSAN      DAVIS          54\n",
      "65        GINA  DEGENERES          42\n",
      "190     WALTER       TORN          41\n",
      "123       MARY     KEITEL          40\n",
      "125    MATTHEW     CARREY          39\n",
      "..         ...        ...         ...\n",
      "177      SISSY   SOBIESKI          18\n",
      "103      JULIA  ZELLWEGER          16\n",
      "101      JULIA    FAWCETT          15\n",
      "99        JUDY       DEAN          15\n",
      "51       EMILY        DEE          14\n",
      "\n",
      "[199 rows x 3 columns]\n"
     ]
    }
   ],
   "execution_count": 234
  },
  {
   "metadata": {},
   "cell_type": "markdown",
   "source": [
    "-----------------------------------\n",
    "71. HANGİ AKTÖRLER EN AZ FİLMDE ROL ALMIŞ?\n",
    "-----------------------------------"
   ],
   "id": "6c1013c714994c1d"
  },
  {
   "metadata": {
    "ExecuteTime": {
     "end_time": "2025-09-24T17:13:51.725520Z",
     "start_time": "2025-09-24T17:13:51.665125Z"
    }
   },
   "cell_type": "code",
   "source": [
    "df = {}\n",
    "\n",
    "for table_name in [\n",
    "    \"staff\", \"rental\", \"inventory\", \"film\", \"payment\", \"store\",\n",
    "    \"customer\", \"category\", \"film_category\", \"actor\", \"film_actor\"\n",
    "]:\n",
    "    cur = conn.execute(f\"SELECT * FROM {table_name}\")\n",
    "    cols = [c[0] for c in cur.description]\n",
    "    df[table_name] = pd.DataFrame(cur.fetchall(), columns=cols)\n",
    "\n",
    "least_actors = (\n",
    "    df[\"actor\"]\n",
    "      .merge(df[\"film_actor\"], on=\"actor_id\", how=\"inner\")\n",
    "      .groupby([\"first_name\", \"last_name\"])\n",
    "      .agg(film_count=(\"film_id\", \"count\"))\n",
    "      .reset_index()\n",
    "      .sort_values(by=\"film_count\", ascending=True)\n",
    ")\n",
    "\n",
    "print(least_actors)"
   ],
   "id": "467a5542edbd57ae",
   "outputs": [
    {
     "name": "stdout",
     "output_type": "stream",
     "text": [
      "    first_name  last_name  film_count\n",
      "51       EMILY        DEE          14\n",
      "99        JUDY       DEAN          15\n",
      "101      JULIA    FAWCETT          15\n",
      "103      JULIA  ZELLWEGER          16\n",
      "177      SISSY   SOBIESKI          18\n",
      "..         ...        ...         ...\n",
      "125    MATTHEW     CARREY          39\n",
      "123       MARY     KEITEL          40\n",
      "190     WALTER       TORN          41\n",
      "65        GINA  DEGENERES          42\n",
      "180      SUSAN      DAVIS          54\n",
      "\n",
      "[199 rows x 3 columns]\n"
     ]
    }
   ],
   "execution_count": 235
  },
  {
   "metadata": {},
   "cell_type": "markdown",
   "source": [
    "-----------------------------------\n",
    "72. HANGİ AKTÖRLERİN OYNADIĞI FİLMLER EN ÇOK KİRALANMIŞ?\n",
    "-----------------------------------"
   ],
   "id": "341ada9fc5f87989"
  },
  {
   "metadata": {
    "ExecuteTime": {
     "end_time": "2025-09-24T17:15:23.589709Z",
     "start_time": "2025-09-24T17:15:23.484344Z"
    }
   },
   "cell_type": "code",
   "source": [
    "df = {}\n",
    "for table_name in [\n",
    "    \"staff\", \"rental\", \"inventory\", \"film\", \"payment\", \"store\",\n",
    "    \"customer\", \"category\", \"film_category\", \"actor\", \"film_actor\"\n",
    "]:\n",
    "    cur = conn.execute(f\"SELECT * FROM {table_name}\")\n",
    "    cols = [c[0] for c in cur.description]\n",
    "    df[table_name] = pd.DataFrame(cur.fetchall(), columns=cols)\n",
    "\n",
    "for t in [\"actor\", \"film_actor\", \"film\", \"inventory\", \"rental\"]:\n",
    "    if \"last_update\" in df[t].columns:\n",
    "        df[t] = df[t].drop(columns=[\"last_update\"])\n",
    "\n",
    "actors_rentals = (\n",
    "    df[\"actor\"]\n",
    "      .merge(df[\"film_actor\"], on=\"actor_id\", how=\"inner\")\n",
    "      .merge(df[\"film\"], on=\"film_id\", how=\"inner\")\n",
    "      .merge(df[\"inventory\"], on=\"film_id\", how=\"inner\")\n",
    "      .merge(df[\"rental\"], on=\"inventory_id\", how=\"inner\")\n",
    "      .groupby([\"actor_id\", \"first_name\", \"last_name\", \"title\"])\n",
    "      .agg(total_rentals=(\"rental_id\", \"count\"))\n",
    "      .reset_index()\n",
    "      .sort_values(by=\"total_rentals\", ascending=False)\n",
    "      .head(10)\n",
    ")\n",
    "\n",
    "print(\"Most rented films and their actors:\")\n",
    "print(actors_rentals[[\"first_name\", \"last_name\", \"title\", \"total_rentals\"]])"
   ],
   "id": "f6c77e7fa9c82a5",
   "outputs": [
    {
     "name": "stdout",
     "output_type": "stream",
     "text": [
      "Most rented films and their actors:\n",
      "     first_name    last_name               title  total_rentals\n",
      "1283       GARY      PHOENIX  BUCKET BROTHERHOOD             34\n",
      "784         TIM      HACKMAN  BUCKET BROTHERHOOD             34\n",
      "2274   CHARLIZE        DENCH  BUCKET BROTHERHOOD             34\n",
      "2352    KIRSTEN       AKROYD  BUCKET BROTHERHOOD             34\n",
      "5042       BURT       TEMPLE  BUCKET BROTHERHOOD             34\n",
      "629         RIP     CRAWFORD  BUCKET BROTHERHOOD             34\n",
      "862        JUDY         DEAN    ROCKETEER MOTHER             33\n",
      "3125     WARREN      JACKMAN    ROCKETEER MOTHER             33\n",
      "5102      JAYNE  SILVERSTONE    ROCKETEER MOTHER             33\n",
      "1055        TOM      MIRANDA    ROCKETEER MOTHER             33\n"
     ]
    }
   ],
   "execution_count": 238
  },
  {
   "metadata": {},
   "cell_type": "markdown",
   "source": [
    "-----------------------------------\n",
    "73. HANGİ AKTÖRLERİN OYNADIĞI FİLMLER EN AZ KİRALANMIŞ?\n",
    "-----------------------------------"
   ],
   "id": "51bda9e6a7892e36"
  },
  {
   "metadata": {
    "ExecuteTime": {
     "end_time": "2025-09-24T17:16:26.975092Z",
     "start_time": "2025-09-24T17:16:26.858781Z"
    }
   },
   "cell_type": "code",
   "source": [
    "df = {}\n",
    "\n",
    "for table_name in [\"staff\", \"rental\", \"inventory\", \"film\", \"payment\", \"store\", \"customer\", \"category\", \"film_category\", \"actor\", \"film_actor\"]:\n",
    "    cur = conn.execute(f\"SELECT * FROM {table_name}\")\n",
    "    df[table_name] = pd.DataFrame(cur.fetchall(), columns=[c[0] for c in cur.description])\n",
    "\n",
    "for t in [\"actor\", \"film_actor\", \"film\", \"inventory\", \"rental\"]:\n",
    "    if \"last_update\" in df[t].columns:\n",
    "        df[t] = df[t].drop(columns=[\"last_update\"])\n",
    "\n",
    "least_rented_actor_films = (\n",
    "    df[\"actor\"]\n",
    "      .merge(df[\"film_actor\"], on=\"actor_id\", how=\"inner\")\n",
    "      .merge(df[\"film\"],       on=\"film_id\",  how=\"inner\")\n",
    "      .merge(df[\"inventory\"],  on=\"film_id\",  how=\"inner\")\n",
    "      .merge(df[\"rental\"],     on=\"inventory_id\", how=\"inner\")\n",
    "      .groupby([\"actor_id\", \"first_name\", \"last_name\", \"title\"], as_index=False)\n",
    "      .agg(total_rentals=(\"rental_id\", \"count\"))\n",
    "      .sort_values(\"total_rentals\", ascending=True)\n",
    "      .head(10)\n",
    ")\n",
    "\n",
    "print(least_rented_actor_films[[\"first_name\", \"last_name\", \"title\", \"total_rentals\"]].to_string(index=False))"
   ],
   "id": "8781583935ce21a7",
   "outputs": [
    {
     "name": "stdout",
     "output_type": "stream",
     "text": [
      "first_name   last_name          title  total_rentals\n",
      "     GRETA      MALDEN HARDLY ROBBERS              4\n",
      "      ADAM      HOPPER    TRAIN BUNCH              4\n",
      "  PENELOPE      CRONYN    TRAIN BUNCH              4\n",
      "  MICHELLE MCCONAUGHEY    MIXED DOORS              4\n",
      "   MICHAEL      BOLGER    MIXED DOORS              4\n",
      "    ALBERT       NOLTE    MIXED DOORS              4\n",
      "     JULIA     MCQUEEN    TRAIN BUNCH              4\n",
      "       IAN       TANDY    MIXED DOORS              4\n",
      "      KARL       BERRY HARDLY ROBBERS              4\n",
      "       DAN      STREEP    MIXED DOORS              4\n"
     ]
    }
   ],
   "execution_count": 239
  },
  {
   "metadata": {},
   "cell_type": "markdown",
   "source": [
    "-----------------------------------\n",
    "74. HANGİ KATEGORİLERDE EN FAZLA AKTÖR OYNAMIŞ?\n",
    "-----------------------------------"
   ],
   "id": "c3fe9aea082ac948"
  },
  {
   "metadata": {
    "ExecuteTime": {
     "end_time": "2025-09-24T17:17:10.304646Z",
     "start_time": "2025-09-24T17:17:10.224002Z"
    }
   },
   "cell_type": "code",
   "source": [
    "df = {}\n",
    "\n",
    "for table_name in [\"staff\", \"rental\", \"inventory\", \"film\", \"payment\", \"store\", \"customer\", \"category\", \"film_category\", \"actor\", \"film_actor\"]:\n",
    "    cur = conn.execute(f\"SELECT * FROM {table_name}\")\n",
    "    df[table_name] = pd.DataFrame(cur.fetchall(), columns=[c[0] for c in cur.description])\n",
    "\n",
    "actors_per_category = (\n",
    "    df[\"category\"]\n",
    "      .merge(df[\"film_category\"], on=\"category_id\", how=\"inner\", suffixes=(\"\", \"_fc\"))\n",
    "      .merge(df[\"film\"],         on=\"film_id\",     how=\"inner\", suffixes=(\"\", \"_film\"))\n",
    "      .merge(df[\"film_actor\"],   on=\"film_id\",     how=\"inner\", suffixes=(\"\", \"_fa\"))\n",
    "      .groupby(\"name\", as_index=False)\n",
    "      .agg(actor_count=(\"actor_id\", \"nunique\"))\n",
    "      .rename(columns={\"name\": \"genre\"})\n",
    "      .sort_values(\"actor_count\", ascending=False)\n",
    ")\n",
    "\n",
    "print(actors_per_category)"
   ],
   "id": "ab70ba2d78c4c9aa",
   "outputs": [
    {
     "name": "stdout",
     "output_type": "stream",
     "text": [
      "          genre  actor_count\n",
      "14       Sports          182\n",
      "8       Foreign          175\n",
      "12          New          169\n",
      "5   Documentary          168\n",
      "13       Sci-Fi          167\n",
      "0        Action          166\n",
      "1     Animation          166\n",
      "15       Travel          166\n",
      "7        Family          164\n",
      "2      Children          163\n",
      "3      Classics          162\n",
      "6         Drama          162\n",
      "10       Horror          156\n",
      "9         Games          150\n",
      "4        Comedy          147\n",
      "11        Music          144\n"
     ]
    }
   ],
   "execution_count": 240
  },
  {
   "metadata": {},
   "cell_type": "markdown",
   "source": [
    "-----------------------------------\n",
    "75. HANGİ KATEGORİLERDE EN AZ AKTÖR OYNAMIŞ?\n",
    "-----------------------------------"
   ],
   "id": "4f900ed5c637a2f1"
  },
  {
   "metadata": {
    "ExecuteTime": {
     "end_time": "2025-09-24T17:17:43.268509Z",
     "start_time": "2025-09-24T17:17:43.197543Z"
    }
   },
   "cell_type": "code",
   "source": [
    "df = {}\n",
    "\n",
    "for table_name in [\n",
    "    \"staff\", \"rental\", \"inventory\", \"film\", \"payment\", \"store\",\n",
    "    \"customer\", \"category\", \"film_category\", \"actor\", \"film_actor\"\n",
    "]:\n",
    "    cur = conn.execute(f\"SELECT * FROM {table_name}\")\n",
    "    df[table_name] = pd.DataFrame(cur.fetchall(), columns=[c[0] for c in cur.description])\n",
    "\n",
    "actors_per_category = (\n",
    "    df[\"category\"]\n",
    "      .merge(df[\"film_category\"], on=\"category_id\", how=\"inner\", suffixes=(\"\", \"_fc\"))\n",
    "      .merge(df[\"film\"],         on=\"film_id\",     how=\"inner\", suffixes=(\"\", \"_film\"))\n",
    "      .merge(df[\"film_actor\"],   on=\"film_id\",     how=\"inner\", suffixes=(\"\", \"_fa\"))\n",
    "      .groupby(\"name\", as_index=False)\n",
    "      .agg(actor_count=(\"actor_id\", \"nunique\"))\n",
    "      .rename(columns={\"name\": \"genre\"})\n",
    "      .sort_values(\"actor_count\", ascending=True)\n",
    ")\n",
    "\n",
    "print(actors_per_category)"
   ],
   "id": "e45f263833ce7b6c",
   "outputs": [
    {
     "name": "stdout",
     "output_type": "stream",
     "text": [
      "          genre  actor_count\n",
      "11        Music          144\n",
      "4        Comedy          147\n",
      "9         Games          150\n",
      "10       Horror          156\n",
      "3      Classics          162\n",
      "6         Drama          162\n",
      "2      Children          163\n",
      "7        Family          164\n",
      "0        Action          166\n",
      "1     Animation          166\n",
      "15       Travel          166\n",
      "13       Sci-Fi          167\n",
      "5   Documentary          168\n",
      "12          New          169\n",
      "8       Foreign          175\n",
      "14       Sports          182\n"
     ]
    }
   ],
   "execution_count": 241
  },
  {
   "metadata": {},
   "cell_type": "markdown",
   "source": [
    "-----------------------------------\n",
    "76. HANGİ KATEGORİLERDE OYNAYAN FİLMLER EN ÇOK KİRALANMIŞ?\n",
    "-----------------------------------"
   ],
   "id": "90f8873367210514"
  },
  {
   "metadata": {
    "ExecuteTime": {
     "end_time": "2025-09-24T17:18:18.019061Z",
     "start_time": "2025-09-24T17:18:17.975460Z"
    }
   },
   "cell_type": "code",
   "source": [
    "df = {}\n",
    "\n",
    "for table_name in [\"category\", \"film_category\", \"film\", \"inventory\", \"rental\"]:\n",
    "    cur = conn.execute(f\"SELECT * FROM {table_name}\")\n",
    "    df[table_name] = pd.DataFrame(cur.fetchall(), columns=[c[0] for c in cur.description])\n",
    "\n",
    "popular_categories = (\n",
    "    df[\"category\"]\n",
    "      .merge(df[\"film_category\"], on=\"category_id\", suffixes=(\"\", \"_fc\"))\n",
    "      .merge(df[\"film\"], on=\"film_id\", suffixes=(\"\", \"_film\"))\n",
    "      .merge(df[\"inventory\"], on=\"film_id\", suffixes=(\"\", \"_inv\"))\n",
    "      .merge(df[\"rental\"], on=\"inventory_id\", suffixes=(\"\", \"_r\"))\n",
    "      .groupby(\"name\", as_index=False)\n",
    "      .agg(rental_count=(\"rental_id\", \"count\"))\n",
    "      .rename(columns={\"name\": \"genre\"})\n",
    "      .sort_values(by=\"rental_count\", ascending=False)\n",
    ")\n",
    "\n",
    "print(popular_categories)"
   ],
   "id": "3f302f7dbcdafe1d",
   "outputs": [
    {
     "name": "stdout",
     "output_type": "stream",
     "text": [
      "          genre  rental_count\n",
      "14       Sports          1179\n",
      "1     Animation          1166\n",
      "0        Action          1112\n",
      "13       Sci-Fi          1101\n",
      "7        Family          1096\n",
      "6         Drama          1060\n",
      "5   Documentary          1050\n",
      "8       Foreign          1033\n",
      "9         Games           969\n",
      "2      Children           945\n",
      "4        Comedy           941\n",
      "12          New           940\n",
      "3      Classics           939\n",
      "10       Horror           846\n",
      "15       Travel           837\n",
      "11        Music           830\n"
     ]
    }
   ],
   "execution_count": 243
  },
  {
   "metadata": {},
   "cell_type": "markdown",
   "source": [
    "-----------------------------------\n",
    "77. HANGİ KATEGORİLERDE OYNAYAN FİLMLER EN AZ KİRALANMIŞ?\n",
    "-----------------------------------"
   ],
   "id": "c0a3db6616f37d51"
  },
  {
   "metadata": {
    "ExecuteTime": {
     "end_time": "2025-09-24T17:18:43.839987Z",
     "start_time": "2025-09-24T17:18:43.785313Z"
    }
   },
   "cell_type": "code",
   "source": [
    "df = {}\n",
    "\n",
    "for table_name in [\"category\", \"film_category\", \"film\", \"inventory\", \"rental\"]:\n",
    "    cur = conn.execute(f\"SELECT * FROM {table_name}\")\n",
    "    df[table_name] = pd.DataFrame(cur.fetchall(), columns=[c[0] for c in cur.description])\n",
    "\n",
    "least_rented_categories = (\n",
    "    df[\"category\"]\n",
    "      .merge(df[\"film_category\"], on=\"category_id\", suffixes=(\"\", \"_fc\"))\n",
    "      .merge(df[\"film\"], on=\"film_id\", suffixes=(\"\", \"_film\"))\n",
    "      .merge(df[\"inventory\"], on=\"film_id\", suffixes=(\"\", \"_inv\"))\n",
    "      .merge(df[\"rental\"], on=\"inventory_id\", suffixes=(\"\", \"_r\"))\n",
    "      .groupby(\"name\", as_index=False)\n",
    "      .agg(rental_count=(\"rental_id\", \"count\"))\n",
    "      .rename(columns={\"name\": \"genre\"})\n",
    "      .sort_values(by=\"rental_count\", ascending=True)\n",
    ")\n",
    "\n",
    "print(least_rented_categories)"
   ],
   "id": "9efcdcd08aaf845",
   "outputs": [
    {
     "name": "stdout",
     "output_type": "stream",
     "text": [
      "          genre  rental_count\n",
      "11        Music           830\n",
      "15       Travel           837\n",
      "10       Horror           846\n",
      "3      Classics           939\n",
      "12          New           940\n",
      "4        Comedy           941\n",
      "2      Children           945\n",
      "9         Games           969\n",
      "8       Foreign          1033\n",
      "5   Documentary          1050\n",
      "6         Drama          1060\n",
      "7        Family          1096\n",
      "13       Sci-Fi          1101\n",
      "0        Action          1112\n",
      "1     Animation          1166\n",
      "14       Sports          1179\n"
     ]
    }
   ],
   "execution_count": 244
  },
  {
   "metadata": {},
   "cell_type": "markdown",
   "source": [
    "-----------------------------------\n",
    "78. EN FAZLA KAZANÇ SAĞLAYAN KATEGORİLER HANGİLERİ?\n",
    "-----------------------------------"
   ],
   "id": "12b361f1943b544d"
  },
  {
   "metadata": {
    "ExecuteTime": {
     "end_time": "2025-09-24T17:19:13.065747Z",
     "start_time": "2025-09-24T17:19:13.005127Z"
    }
   },
   "cell_type": "code",
   "source": [
    "df = {}\n",
    "\n",
    "for table_name in [\"category\", \"film_category\", \"film\", \"inventory\", \"rental\"]:\n",
    "    cur = conn.execute(f\"SELECT * FROM {table_name}\")\n",
    "    df[table_name] = pd.DataFrame(cur.fetchall(), columns=[c[0] for c in cur.description])\n",
    "\n",
    "max_revenue_categories = (\n",
    "    df[\"category\"]\n",
    "      .merge(df[\"film_category\"], on=\"category_id\", how=\"inner\", suffixes=(\"\", \"_fc\"))\n",
    "      .merge(df[\"film\"], on=\"film_id\", how=\"inner\", suffixes=(\"\", \"_film\"))\n",
    "      .merge(df[\"inventory\"], on=\"film_id\", how=\"inner\", suffixes=(\"\", \"_inv\"))\n",
    "      .merge(df[\"rental\"], on=\"inventory_id\", how=\"inner\", suffixes=(\"\", \"_r\"))\n",
    "      .groupby(\"name\", as_index=False)\n",
    "      .agg(total_revenue=(\"rental_rate\", lambda x: x.sum() * len(x)))\n",
    "      .rename(columns={\"name\": \"genre\"})\n",
    "      .sort_values(by=\"total_revenue\", ascending=False)\n",
    ")\n",
    "\n",
    "print(max_revenue_categories)"
   ],
   "id": "da45f32637facbe0",
   "outputs": [
    {
     "name": "stdout",
     "output_type": "stream",
     "text": [
      "          genre  total_revenue\n",
      "14       Sports     4264690.59\n",
      "1     Animation     3752584.44\n",
      "13       Sci-Fi     3622278.99\n",
      "6         Drama     3575804.00\n",
      "0        Action     3299170.56\n",
      "7        Family     3243107.84\n",
      "8       Foreign     3151342.11\n",
      "9         Games     2939277.39\n",
      "4        Comedy     2907304.19\n",
      "5   Documentary     2884875.00\n",
      "12          New     2730324.00\n",
      "2      Children     2401764.75\n",
      "3      Classics     2326475.79\n",
      "15       Travel     2324039.31\n",
      "10       Horror     2219514.84\n",
      "11        Music     2109611.00\n"
     ]
    }
   ],
   "execution_count": 245
  },
  {
   "metadata": {},
   "cell_type": "markdown",
   "source": [
    "-----------------------------------\n",
    "79. EN AZ KAZANÇ SAĞLAYAN KATEGORİLER HANGİLERİ?\n",
    "-----------------------------------"
   ],
   "id": "251bb8671a05bfbf"
  },
  {
   "metadata": {
    "ExecuteTime": {
     "end_time": "2025-09-24T17:19:37.511112Z",
     "start_time": "2025-09-24T17:19:37.459657Z"
    }
   },
   "cell_type": "code",
   "source": [
    "df = {}\n",
    "\n",
    "for table_name in [\"category\", \"film_category\", \"film\", \"inventory\", \"rental\"]:\n",
    "    cur = conn.execute(f\"SELECT * FROM {table_name}\")\n",
    "    df[table_name] = pd.DataFrame(cur.fetchall(), columns=[c[0] for c in cur.description])\n",
    "\n",
    "max_revenue_categories = (\n",
    "    df[\"category\"]\n",
    "      .merge(df[\"film_category\"], on=\"category_id\", how=\"inner\", suffixes=(\"\", \"_fc\"))\n",
    "      .merge(df[\"film\"], on=\"film_id\", how=\"inner\", suffixes=(\"\", \"_film\"))\n",
    "      .merge(df[\"inventory\"], on=\"film_id\", how=\"inner\", suffixes=(\"\", \"_inv\"))\n",
    "      .merge(df[\"rental\"], on=\"inventory_id\", how=\"inner\", suffixes=(\"\", \"_r\"))\n",
    "      .groupby(\"name\", as_index=False)\n",
    "      .agg(total_revenue=(\"rental_rate\", lambda x: x.sum() * len(x)))\n",
    "      .rename(columns={\"name\": \"genre\"})\n",
    "      .sort_values(by=\"total_revenue\", ascending=True)\n",
    ")\n",
    "\n",
    "print(max_revenue_categories)"
   ],
   "id": "e4cfd3ee6f989f5b",
   "outputs": [
    {
     "name": "stdout",
     "output_type": "stream",
     "text": [
      "          genre  total_revenue\n",
      "11        Music     2109611.00\n",
      "10       Horror     2219514.84\n",
      "15       Travel     2324039.31\n",
      "3      Classics     2326475.79\n",
      "2      Children     2401764.75\n",
      "12          New     2730324.00\n",
      "5   Documentary     2884875.00\n",
      "4        Comedy     2907304.19\n",
      "9         Games     2939277.39\n",
      "8       Foreign     3151342.11\n",
      "7        Family     3243107.84\n",
      "0        Action     3299170.56\n",
      "6         Drama     3575804.00\n",
      "13       Sci-Fi     3622278.99\n",
      "1     Animation     3752584.44\n",
      "14       Sports     4264690.59\n"
     ]
    }
   ],
   "execution_count": 246
  },
  {
   "metadata": {},
   "cell_type": "markdown",
   "source": [
    "-----------------------------------\n",
    "80. EN ÇOK FİLM KİRALAYAN MÜŞTERİLERİN ORTALAMA ÖDEME MİKTARI NEDİR?\n",
    "-----------------------------------"
   ],
   "id": "379c9ca3122f478e"
  },
  {
   "metadata": {
    "ExecuteTime": {
     "end_time": "2025-09-24T17:20:06.611958Z",
     "start_time": "2025-09-24T17:20:06.544954Z"
    }
   },
   "cell_type": "code",
   "source": [
    "df = {}\n",
    "for table_name in [\"customer\", \"rental\", \"payment\"]:\n",
    "    cur = conn.execute(f\"SELECT * FROM {table_name}\")\n",
    "    cols = [c[0] for c in cur.description]\n",
    "    df[table_name] = pd.DataFrame(cur.fetchall(), columns=cols)\n",
    "\n",
    "top_customers_avg_payment = (\n",
    "    df[\"customer\"]\n",
    "      .merge(df[\"rental\"], on=\"customer_id\", how=\"inner\")\n",
    "      .merge(df[\"payment\"], on=\"rental_id\", how=\"inner\")\n",
    "      .groupby([\"first_name\", \"last_name\"], as_index=False)\n",
    "      .agg(\n",
    "          avg_payment=(\"amount\", \"mean\"),\n",
    "          rental_count=(\"rental_id\", \"count\")\n",
    "      )\n",
    "      .sort_values(by=\"rental_count\", ascending=False)\n",
    "      .head(17)\n",
    ")\n",
    "\n",
    "print(top_customers_avg_payment)"
   ],
   "id": "888ba5faeed19e61",
   "outputs": [
    {
     "name": "stdout",
     "output_type": "stream",
     "text": [
      "    first_name last_name  avg_payment  rental_count\n",
      "175    ELEANOR      HUNT     4.707391            46\n",
      "318       KARL      SEAL     4.923333            45\n",
      "379     MARCIA      DEAN     4.180476            42\n",
      "105      CLARA      SHAW     4.656667            42\n",
      "536      TAMMY   SANDERS     3.794878            41\n",
      "590     WESLEY      BULL     4.440000            40\n",
      "531        SUE    PETERS     3.865000            40\n",
      "389     MARION    SNYDER     4.990000            39\n",
      "551        TIM      CARY     4.502821            39\n",
      "474     RHONDA   KENNEDY     4.990000            39\n",
      "176  ELIZABETH     BROWN     3.805789            38\n",
      "125      DAISY     BATES     4.279474            38\n",
      "123     CURTIS      IRBY     4.411053            38\n",
      "556      TOMMY   COLLAZO     4.911053            38\n",
      "315       JUNE   CARROLL     4.692703            37\n",
      "66     BRANDON      HUEY     4.125135            37\n",
      "180      ELSIE    KELLEY     3.827838            37\n"
     ]
    }
   ],
   "execution_count": 247
  },
  {
   "metadata": {},
   "cell_type": "markdown",
   "source": [
    "-----------------------------------\n",
    "81. EN AZ FİLM KİRALAYAN MÜŞTERİLERİN ORTALAMA ÖDEME MİKTARI NEDİR?\n",
    "-----------------------------------"
   ],
   "id": "3d0ab4ca7e721d68"
  },
  {
   "metadata": {
    "ExecuteTime": {
     "end_time": "2025-09-24T17:20:16.708567Z",
     "start_time": "2025-09-24T17:20:16.652926Z"
    }
   },
   "cell_type": "code",
   "source": [
    "df = {}\n",
    "for table_name in [\"customer\", \"rental\", \"payment\"]:\n",
    "    cur = conn.execute(f\"SELECT * FROM {table_name}\")\n",
    "    cols = [c[0] for c in cur.description]\n",
    "    df[table_name] = pd.DataFrame(cur.fetchall(), columns=cols)\n",
    "\n",
    "top_customers_avg_payment = (\n",
    "    df[\"customer\"]\n",
    "      .merge(df[\"rental\"], on=\"customer_id\", how=\"inner\")\n",
    "      .merge(df[\"payment\"], on=\"rental_id\", how=\"inner\")\n",
    "      .groupby([\"first_name\", \"last_name\"], as_index=False)\n",
    "      .agg(\n",
    "          avg_payment=(\"amount\", \"mean\"),\n",
    "          rental_count=(\"rental_id\", \"count\")\n",
    "      )\n",
    "      .sort_values(by=\"rental_count\", ascending=True)\n",
    "      .head(17)\n",
    ")\n",
    "\n",
    "print(top_customers_avg_payment)"
   ],
   "id": "81b25541fc4f7d6",
   "outputs": [
    {
     "name": "stdout",
     "output_type": "stream",
     "text": [
      "    first_name  last_name  avg_payment  rental_count\n",
      "71       BRIAN      WYMAN     4.406667            12\n",
      "550    TIFFANY     JORDAN     4.275714            14\n",
      "351      LEONA     OBRIEN     3.632857            14\n",
      "319  KATHERINE     RIVERA     4.204286            14\n",
      "83    CAROLINE     BOWMAN     3.390000            15\n",
      "28       ANITA    MORALES     4.190000            15\n",
      "277     JEROME     KENYON     4.615000            16\n",
      "356     LESTER      KRAUS     4.115000            16\n",
      "290      JOANN    GARDNER     4.177500            16\n",
      "35     ANTONIO       MEEK     4.927500            16\n",
      "29         ANN      EVANS     4.519412            17\n",
      "164     DWIGHT   LOMBARDI     4.401765            17\n",
      "408    MELINDA  FERNANDEZ     4.754706            17\n",
      "329    KENNETH     GOODEN     4.990000            17\n",
      "200      FLOYD      GANDY     4.107647            17\n",
      "571     VERNON      CHAPA     4.934444            18\n",
      "364     LONNIE     TIRADO     5.267778            18\n"
     ]
    }
   ],
   "execution_count": 248
  },
  {
   "metadata": {},
   "cell_type": "markdown",
   "source": [
    "-----------------------------------\n",
    "82. HANGİ MAĞAZALARDA HANGİ KATEGORİLER EN ÇOK KİRALANMIŞ?\n",
    "-----------------------------------"
   ],
   "id": "52db8a53b4b3bb8e"
  },
  {
   "metadata": {
    "ExecuteTime": {
     "end_time": "2025-09-24T17:21:00.091822Z",
     "start_time": "2025-09-24T17:21:00.022739Z"
    }
   },
   "cell_type": "code",
   "source": [
    "df = {}\n",
    "\n",
    "for table_name in [\"store\", \"staff\", \"rental\", \"inventory\", \"film\", \"film_category\", \"category\"]:\n",
    "    cur = conn.execute(f\"SELECT * FROM {table_name}\")\n",
    "    cols = [c[0] for c in cur.description]\n",
    "    df[table_name] = pd.DataFrame(cur.fetchall(), columns=cols)\n",
    "\n",
    "store_categories = (\n",
    "    df[\"store\"]\n",
    "      .merge(df[\"staff\"], on=\"store_id\", how=\"inner\", suffixes=(\"\", \"_staff\"))\n",
    "      .merge(df[\"rental\"], on=\"staff_id\", how=\"inner\", suffixes=(\"\", \"_rental\"))\n",
    "      .merge(df[\"inventory\"], on=\"inventory_id\", how=\"inner\", suffixes=(\"\", \"_inv\"))\n",
    "      .merge(df[\"film\"], on=\"film_id\", how=\"inner\", suffixes=(\"\", \"_film\"))\n",
    "      .merge(df[\"film_category\"], on=\"film_id\", how=\"inner\", suffixes=(\"\", \"_fc\"))\n",
    "      .merge(df[\"category\"], on=\"category_id\", how=\"inner\", suffixes=(\"\", \"_cat\"))\n",
    "      .groupby([\"store_id\", \"name\"], as_index=False)\n",
    "      .agg(rental_count=(\"rental_id\", \"count\"))\n",
    "      .rename(columns={\"name\": \"genre\"})\n",
    "      .sort_values(by=\"rental_count\", ascending=False)\n",
    ")\n",
    "\n",
    "print(store_categories)"
   ],
   "id": "bd17d898df06d4b3",
   "outputs": [
    {
     "name": "stdout",
     "output_type": "stream",
     "text": [
      "    store_id        genre  rental_count\n",
      "30         2       Sports           614\n",
      "17         2    Animation           584\n",
      "1          1    Animation           582\n",
      "7          1       Family           565\n",
      "14         1       Sports           565\n",
      "0          1       Action           562\n",
      "13         1       Sci-Fi           553\n",
      "16         2       Action           550\n",
      "29         2       Sci-Fi           548\n",
      "24         2      Foreign           543\n",
      "22         2        Drama           532\n",
      "23         2       Family           531\n",
      "6          1        Drama           528\n",
      "5          1  Documentary           525\n",
      "21         2  Documentary           525\n",
      "9          1        Games           494\n",
      "8          1      Foreign           490\n",
      "12         1          New           489\n",
      "2          1     Children           483\n",
      "25         2        Games           475\n",
      "4          1       Comedy           475\n",
      "3          1     Classics           475\n",
      "20         2       Comedy           466\n",
      "19         2     Classics           464\n",
      "18         2     Children           462\n",
      "28         2          New           451\n",
      "31         2       Travel           438\n",
      "11         1        Music           432\n",
      "26         2       Horror           423\n",
      "10         1       Horror           423\n",
      "15         1       Travel           399\n",
      "27         2        Music           398\n"
     ]
    }
   ],
   "execution_count": 249
  },
  {
   "metadata": {},
   "cell_type": "markdown",
   "source": [
    "-----------------------------------\n",
    "83. HANGİ MAĞAZALARDA HANGİ KATEGORİLER EN AZ KİRALANMIŞ?\n",
    "-----------------------------------"
   ],
   "id": "14d4e7adf8b0d8b8"
  },
  {
   "metadata": {
    "ExecuteTime": {
     "end_time": "2025-09-24T17:21:14.418887Z",
     "start_time": "2025-09-24T17:21:14.365083Z"
    }
   },
   "cell_type": "code",
   "source": [
    "df = {}\n",
    "\n",
    "for table_name in [\"store\", \"staff\", \"rental\", \"inventory\", \"film\", \"film_category\", \"category\"]:\n",
    "    cur = conn.execute(f\"SELECT * FROM {table_name}\")\n",
    "    cols = [c[0] for c in cur.description]\n",
    "    df[table_name] = pd.DataFrame(cur.fetchall(), columns=cols)\n",
    "\n",
    "store_categories = (\n",
    "    df[\"store\"]\n",
    "      .merge(df[\"staff\"], on=\"store_id\", how=\"inner\", suffixes=(\"\", \"_staff\"))\n",
    "      .merge(df[\"rental\"], on=\"staff_id\", how=\"inner\", suffixes=(\"\", \"_rental\"))\n",
    "      .merge(df[\"inventory\"], on=\"inventory_id\", how=\"inner\", suffixes=(\"\", \"_inv\"))\n",
    "      .merge(df[\"film\"], on=\"film_id\", how=\"inner\", suffixes=(\"\", \"_film\"))\n",
    "      .merge(df[\"film_category\"], on=\"film_id\", how=\"inner\", suffixes=(\"\", \"_fc\"))\n",
    "      .merge(df[\"category\"], on=\"category_id\", how=\"inner\", suffixes=(\"\", \"_cat\"))\n",
    "      .groupby([\"store_id\", \"name\"], as_index=False)\n",
    "      .agg(rental_count=(\"rental_id\", \"count\"))\n",
    "      .rename(columns={\"name\": \"genre\"})\n",
    "      .sort_values(by=\"rental_count\", ascending=True)\n",
    ")\n",
    "\n",
    "print(store_categories)"
   ],
   "id": "2338697da12b797c",
   "outputs": [
    {
     "name": "stdout",
     "output_type": "stream",
     "text": [
      "    store_id        genre  rental_count\n",
      "27         2        Music           398\n",
      "15         1       Travel           399\n",
      "26         2       Horror           423\n",
      "10         1       Horror           423\n",
      "11         1        Music           432\n",
      "31         2       Travel           438\n",
      "28         2          New           451\n",
      "18         2     Children           462\n",
      "19         2     Classics           464\n",
      "20         2       Comedy           466\n",
      "4          1       Comedy           475\n",
      "3          1     Classics           475\n",
      "25         2        Games           475\n",
      "2          1     Children           483\n",
      "12         1          New           489\n",
      "8          1      Foreign           490\n",
      "9          1        Games           494\n",
      "21         2  Documentary           525\n",
      "5          1  Documentary           525\n",
      "6          1        Drama           528\n",
      "23         2       Family           531\n",
      "22         2        Drama           532\n",
      "24         2      Foreign           543\n",
      "29         2       Sci-Fi           548\n",
      "16         2       Action           550\n",
      "13         1       Sci-Fi           553\n",
      "0          1       Action           562\n",
      "14         1       Sports           565\n",
      "7          1       Family           565\n",
      "1          1    Animation           582\n",
      "17         2    Animation           584\n",
      "30         2       Sports           614\n"
     ]
    }
   ],
   "execution_count": 250
  },
  {
   "metadata": {},
   "cell_type": "markdown",
   "source": [
    "-----------------------------------\n",
    "84. EN FAZLA SAYIDA FİLM KİRALAYAN MAĞAZA HANGİSİDİR VE TOPLAM KİRALAMA SAYISI NEDİR?\n",
    "-----------------------------------"
   ],
   "id": "6890fb2b98b976a8"
  },
  {
   "metadata": {
    "ExecuteTime": {
     "end_time": "2025-09-24T17:21:45.802455Z",
     "start_time": "2025-09-24T17:21:45.762952Z"
    }
   },
   "cell_type": "code",
   "source": [
    "df = {}\n",
    "\n",
    "for table_name in [\"store\", \"staff\", \"rental\"]:\n",
    "    cur = conn.execute(f\"SELECT * FROM {table_name}\")\n",
    "    cols = [c[0] for c in cur.description]\n",
    "    df[table_name] = pd.DataFrame(cur.fetchall(), columns=cols)\n",
    "\n",
    "top_rental_store = (\n",
    "    df[\"store\"]\n",
    "      .merge(df[\"staff\"], on=\"store_id\")\n",
    "      .merge(df[\"rental\"], on=\"staff_id\")\n",
    "      .groupby(\"store_id\", as_index=False)\n",
    "      .agg(total_rentals=(\"rental_id\", \"count\"))\n",
    "      .sort_values(by=\"total_rentals\", ascending=False)\n",
    "      .head(1)\n",
    ")\n",
    "\n",
    "print(top_rental_store)"
   ],
   "id": "2d17de21ebeaf0c2",
   "outputs": [
    {
     "name": "stdout",
     "output_type": "stream",
     "text": [
      "Store with the highest number of rentals:\n",
      "   store_id  total_rentals\n",
      "0         1           8040\n"
     ]
    }
   ],
   "execution_count": 251
  },
  {
   "metadata": {},
   "cell_type": "markdown",
   "source": [
    "-----------------------------------\n",
    "85. EN AZ SAYIDA FİLM KİRALAYAN MAĞAZA HANGİSİDİR VE TOPLAM KİRALAMA SAYISI NEDİR?\n",
    "-----------------------------------"
   ],
   "id": "f893186d889d9aa5"
  },
  {
   "metadata": {
    "ExecuteTime": {
     "end_time": "2025-09-24T17:22:37.869217Z",
     "start_time": "2025-09-24T17:22:37.823601Z"
    }
   },
   "cell_type": "code",
   "source": [
    "df = {}\n",
    "\n",
    "for table_name in [\"store\", \"staff\", \"rental\"]:\n",
    "    cur = conn.execute(f\"SELECT * FROM {table_name}\")\n",
    "    cols = [c[0] for c in cur.description]\n",
    "    df[table_name] = pd.DataFrame(cur.fetchall(), columns=cols)\n",
    "\n",
    "top_rental_store = (\n",
    "    df[\"store\"]\n",
    "      .merge(df[\"staff\"], on=\"store_id\")\n",
    "      .merge(df[\"rental\"], on=\"staff_id\")\n",
    "      .groupby(\"store_id\", as_index=False)\n",
    "      .agg(total_rentals=(\"rental_id\", \"count\"))\n",
    "      .sort_values(by=\"total_rentals\", ascending=False)\n",
    "      .head(1)\n",
    ")\n",
    "\n",
    "print(top_rental_store)"
   ],
   "id": "de44727a7f295219",
   "outputs": [
    {
     "name": "stdout",
     "output_type": "stream",
     "text": [
      "   store_id  total_rentals\n",
      "0         1           8040\n"
     ]
    }
   ],
   "execution_count": 253
  },
  {
   "metadata": {},
   "cell_type": "markdown",
   "source": [
    "-----------------------------------\n",
    "86. EN FAZLA SAYIDA KİRALAMA YAPAN MÜŞTERİ HANGİSİDİR VE TOPLAM KİRALAMA SAYISI NEDİR?\n",
    "-----------------------------------"
   ],
   "id": "702910636a055ecc"
  },
  {
   "metadata": {
    "ExecuteTime": {
     "end_time": "2025-09-24T17:22:59.949270Z",
     "start_time": "2025-09-24T17:22:59.894906Z"
    }
   },
   "cell_type": "code",
   "source": [
    "df = {}\n",
    "\n",
    "for table_name in [\"store\", \"staff\", \"rental\", \"customer\"]:\n",
    "    cur = conn.execute(f\"SELECT * FROM {table_name}\")\n",
    "    cols = [c[0] for c in cur.description]\n",
    "    df[table_name] = pd.DataFrame(cur.fetchall(), columns=cols)\n",
    "\n",
    "top_renter = (\n",
    "    df[\"customer\"]\n",
    "      .merge(df[\"rental\"], on=\"customer_id\")\n",
    "      .groupby([\"first_name\", \"last_name\"], as_index=False)\n",
    "      .agg(total_rentals=(\"rental_id\", \"count\"))\n",
    "      .sort_values(by=\"total_rentals\", ascending=False)\n",
    "      .head(1)\n",
    ")\n",
    "\n",
    "print(top_renter)"
   ],
   "id": "ddc0e945efbf9300",
   "outputs": [
    {
     "name": "stdout",
     "output_type": "stream",
     "text": [
      "    first_name last_name  total_rentals\n",
      "175    ELEANOR      HUNT             46\n"
     ]
    }
   ],
   "execution_count": 254
  },
  {
   "metadata": {},
   "cell_type": "markdown",
   "source": [
    "-----------------------------------\n",
    "87. EN AZ SAYIDA KİRALAMA YAPAN MÜŞTERİ HANGİSİDİR VE TOPLAM KİRALAMA SAYISI NEDİR?\n",
    "-----------------------------------"
   ],
   "id": "7e4cbe23ca117d98"
  },
  {
   "metadata": {
    "ExecuteTime": {
     "end_time": "2025-09-24T17:23:08.385483Z",
     "start_time": "2025-09-24T17:23:08.351513Z"
    }
   },
   "cell_type": "code",
   "source": [
    "df = {}\n",
    "for table_name in [\"store\", \"staff\", \"rental\", \"customer\"]:\n",
    "    cur = conn.execute(f\"SELECT * FROM {table_name}\")\n",
    "    cols = [c[0] for c in cur.description]\n",
    "    df[table_name] = pd.DataFrame(cur.fetchall(), columns=cols)\n",
    "\n",
    "# Customer with the highest rental count\n",
    "top_renter = (\n",
    "    df[\"customer\"]\n",
    "      .merge(df[\"rental\"], on=\"customer_id\")\n",
    "      .groupby([\"first_name\", \"last_name\"], as_index=False)\n",
    "      .agg(total_rentals=(\"rental_id\", \"count\"))\n",
    "      .sort_values(by=\"total_rentals\", ascending=True)\n",
    "      .head(1)\n",
    ")\n",
    "\n",
    "print(\"Customer with the highest number of rentals:\")\n",
    "print(top_renter)"
   ],
   "id": "f7de5fde209863f4",
   "outputs": [
    {
     "name": "stdout",
     "output_type": "stream",
     "text": [
      "Customer with the highest number of rentals:\n",
      "   first_name last_name  total_rentals\n",
      "71      BRIAN     WYMAN             12\n"
     ]
    }
   ],
   "execution_count": 255
  },
  {
   "metadata": {},
   "cell_type": "markdown",
   "source": [
    "-----------------------------------\n",
    "88. EN FAZLA SAYIDA KİRALANAN FİLM HANGİSİDİR VE TOPLAM KİRALANMA SAYISI NEDİR?\n",
    "-----------------------------------"
   ],
   "id": "152894dfcddb7487"
  },
  {
   "metadata": {
    "ExecuteTime": {
     "end_time": "2025-09-24T17:23:44.100682Z",
     "start_time": "2025-09-24T17:23:44.048009Z"
    }
   },
   "cell_type": "code",
   "source": [
    "df = {}\n",
    "\n",
    "for table_name in [\"rental\", \"film\", \"inventory\"]:\n",
    "    cur = conn.execute(f\"SELECT * FROM {table_name}\")\n",
    "    cols = [c[0] for c in cur.description]\n",
    "    df[table_name] = pd.DataFrame(cur.fetchall(), columns=cols)\n",
    "\n",
    "most_rented_film = (\n",
    "    df[\"film\"]\n",
    "      .merge(df[\"inventory\"], on=\"film_id\")\n",
    "      .merge(df[\"rental\"], on=\"inventory_id\")\n",
    "      .groupby(\"title\", as_index=False)\n",
    "      .agg(total_rentals=(\"rental_id\", \"count\"))\n",
    "      .sort_values(by=\"total_rentals\", ascending=False)\n",
    "      .head(1)\n",
    ")\n",
    "\n",
    "print(most_rented_film)"
   ],
   "id": "a721ad0cd35bbf52",
   "outputs": [
    {
     "name": "stdout",
     "output_type": "stream",
     "text": [
      "                 title  total_rentals\n",
      "96  BUCKET BROTHERHOOD             34\n"
     ]
    }
   ],
   "execution_count": 256
  },
  {
   "metadata": {},
   "cell_type": "markdown",
   "source": [
    "-----------------------------------\n",
    "89. EN AZ SAYIDA KİRALANAN FİLM HANGİSİDİR VE TOPLAM KİRALANMA SAYISI NEDİR?\n",
    "-----------------------------------"
   ],
   "id": "7f491629b3d5cde9"
  },
  {
   "metadata": {
    "ExecuteTime": {
     "end_time": "2025-09-24T17:23:59.011599Z",
     "start_time": "2025-09-24T17:23:58.976902Z"
    }
   },
   "cell_type": "code",
   "source": [
    "df = {}\n",
    "\n",
    "for table_name in [\"rental\", \"film\", \"inventory\"]:\n",
    "    cur = conn.execute(f\"SELECT * FROM {table_name}\")\n",
    "    cols = [c[0] for c in cur.description]\n",
    "    df[table_name] = pd.DataFrame(cur.fetchall(), columns=cols)\n",
    "\n",
    "most_rented_film = (\n",
    "    df[\"film\"]\n",
    "      .merge(df[\"inventory\"], on=\"film_id\")\n",
    "      .merge(df[\"rental\"], on=\"inventory_id\")\n",
    "      .groupby(\"title\", as_index=False)\n",
    "      .agg(total_rentals=(\"rental_id\", \"count\"))\n",
    "      .sort_values(by=\"total_rentals\", ascending=True)\n",
    "      .head(1)\n",
    ")\n",
    "\n",
    "print(most_rented_film)"
   ],
   "id": "b16416558827e104",
   "outputs": [
    {
     "name": "stdout",
     "output_type": "stream",
     "text": [
      "           title  total_rentals\n",
      "558  MIXED DOORS              4\n"
     ]
    }
   ],
   "execution_count": 257
  },
  {
   "metadata": {},
   "cell_type": "markdown",
   "source": [
    "-----------------------------------\n",
    "90. EN FAZLA KAZANÇ SAĞLAYAN MÜŞTERİ HANGİSİDİR VE TOPLAM KAZANCI NEDİR?\n",
    "-----------------------------------"
   ],
   "id": "c2ba7bdfc0503930"
  },
  {
   "metadata": {
    "ExecuteTime": {
     "end_time": "2025-09-24T17:24:23.993691Z",
     "start_time": "2025-09-24T17:24:23.926666Z"
    }
   },
   "cell_type": "code",
   "source": [
    "df = {}\n",
    "\n",
    "for table_name in [\"rental\", \"customer\", \"payment\"]:\n",
    "    cur = conn.execute(f\"SELECT * FROM {table_name}\")\n",
    "    cols = [c[0] for c in cur.description]\n",
    "    df[table_name] = pd.DataFrame(cur.fetchall(), columns=cols)\n",
    "\n",
    "max_revenue_customer = (\n",
    "    df[\"customer\"]\n",
    "      .merge(df[\"rental\"], on=\"customer_id\")\n",
    "      .merge(df[\"payment\"], on=\"rental_id\")\n",
    "      .groupby([\"first_name\", \"last_name\"], as_index=False)\n",
    "      .agg(total_revenue=(\"amount\", \"sum\"))\n",
    "      .sort_values(by=\"total_revenue\", ascending=False)\n",
    "      .head(1)\n",
    ")\n",
    "\n",
    "print(max_revenue_customer)"
   ],
   "id": "ff5de7cd004e1d25",
   "outputs": [
    {
     "name": "stdout",
     "output_type": "stream",
     "text": [
      "    first_name last_name  total_revenue\n",
      "318       KARL      SEAL         221.55\n"
     ]
    }
   ],
   "execution_count": 258
  },
  {
   "metadata": {},
   "cell_type": "markdown",
   "source": [
    "-----------------------------------\n",
    "91. EN AZ KAZANÇ SAĞLAYAN MÜŞTERİ HANGİSİDİR VE TOPLAM KAZANCI NEDİR?\n",
    "-----------------------------------"
   ],
   "id": "a3853c11e4c1a2cd"
  },
  {
   "metadata": {
    "ExecuteTime": {
     "end_time": "2025-09-24T17:24:43.771356Z",
     "start_time": "2025-09-24T17:24:42.861502Z"
    }
   },
   "cell_type": "code",
   "source": [
    "df = {}\n",
    "for table_name in [\"rental\", \"customer\", \"payment\"]:\n",
    "    cur = conn.execute(f\"SELECT * FROM {table_name}\")\n",
    "    cols = [c[0] for c in cur.description]\n",
    "    df[table_name] = pd.DataFrame(cur.fetchall(), columns=cols)\n",
    "\n",
    "# Customer with the highest total revenue\n",
    "max_revenue_customer = (\n",
    "    df[\"customer\"]\n",
    "      .merge(df[\"rental\"], on=\"customer_id\")\n",
    "      .merge(df[\"payment\"], on=\"rental_id\")\n",
    "      .groupby([\"first_name\", \"last_name\"], as_index=False)\n",
    "      .agg(total_revenue=(\"amount\", \"sum\"))\n",
    "      .sort_values(by=\"total_revenue\", ascending=True)\n",
    "      .head(1)\n",
    ")\n",
    "\n",
    "print(\"Customer with the highest revenue and their total amount:\")\n",
    "print(max_revenue_customer)"
   ],
   "id": "4b45e1e41b078af6",
   "outputs": [
    {
     "name": "stdout",
     "output_type": "stream",
     "text": [
      "Customer with the highest revenue and their total amount:\n",
      "   first_name last_name  total_revenue\n",
      "83   CAROLINE    BOWMAN          50.85\n"
     ]
    }
   ],
   "execution_count": 259
  },
  {
   "metadata": {},
   "cell_type": "markdown",
   "source": [
    "-----------------------------------\n",
    "92. HANGİ FİLM, HANGİ KATEGORİDE EN ÇOK KAZANÇ SAĞLAMIŞ?\n",
    "-----------------------------------"
   ],
   "id": "e3fd8e016d663738"
  },
  {
   "metadata": {
    "ExecuteTime": {
     "end_time": "2025-09-24T17:25:37.246322Z",
     "start_time": "2025-09-24T17:25:37.159542Z"
    }
   },
   "cell_type": "code",
   "source": [
    "df = {}\n",
    "\n",
    "for table_name in [\"film\", \"film_category\", \"category\", \"inventory\", \"rental\", \"payment\"]:\n",
    "    cur = conn.execute(f\"SELECT * FROM {table_name}\")\n",
    "    cols = [c[0] for c in cur.description]\n",
    "    df[table_name] = pd.DataFrame(cur.fetchall(), columns=cols)\n",
    "\n",
    "max_revenue_film_category = (\n",
    "    df[\"film\"]\n",
    "      .merge(df[\"film_category\"], on=\"film_id\", suffixes=(\"\", \"_fc\"))\n",
    "      .merge(df[\"category\"], on=\"category_id\", suffixes=(\"\", \"_cat\"))\n",
    "      .merge(df[\"inventory\"], on=\"film_id\")\n",
    "      .merge(df[\"rental\"], on=\"inventory_id\")\n",
    "      .merge(df[\"payment\"], on=\"rental_id\", suffixes=(\"\", \"_pay\"))\n",
    "      .groupby([\"title\", \"name\"])\n",
    "      .agg(total_revenue=(\"amount\", \"sum\"))\n",
    "      .reset_index()\n",
    "      .sort_values(by=\"total_revenue\", ascending=False)\n",
    "      .head(5)\n",
    ")\n",
    "\n",
    "print(max_revenue_film_category)"
   ],
   "id": "41d13ef2787d909",
   "outputs": [
    {
     "name": "stdout",
     "output_type": "stream",
     "text": [
      "                 title         name  total_revenue\n",
      "841   TELEGRAPH VOYAGE        Music         231.73\n",
      "930          WIFE TURN  Documentary         223.69\n",
      "957          ZORRO ARK       Comedy         214.69\n",
      "348  GOODFELLAS SALUTE       Sci-Fi         209.69\n",
      "730     SATURDAY LAMBS       Sports         204.72\n"
     ]
    }
   ],
   "execution_count": 260
  },
  {
   "metadata": {},
   "cell_type": "markdown",
   "source": [
    "-----------------------------------\n",
    "93. HANGİ FİLM, HANGİ KATEGORİDE EN AZ KAZANÇ SAĞLAMIŞ?\n",
    "-----------------------------------"
   ],
   "id": "5f24eb26c0e3ba77"
  },
  {
   "metadata": {
    "ExecuteTime": {
     "end_time": "2025-09-24T17:25:54.642453Z",
     "start_time": "2025-09-24T17:25:54.569134Z"
    }
   },
   "cell_type": "code",
   "source": [
    "df = {}\n",
    "for table_name in [\"film\", \"film_category\", \"category\", \"inventory\", \"rental\", \"payment\"]:\n",
    "    cur = conn.execute(f\"SELECT * FROM {table_name}\")\n",
    "    cols = [c[0] for c in cur.description]\n",
    "    df[table_name] = pd.DataFrame(cur.fetchall(), columns=cols)\n",
    "\n",
    "# Top 5 most profitable films and their categories\n",
    "max_revenue_film_category = (\n",
    "    df[\"film\"]\n",
    "      .merge(df[\"film_category\"], on=\"film_id\", suffixes=(\"\", \"_fc\"))\n",
    "      .merge(df[\"category\"], on=\"category_id\", suffixes=(\"\", \"_cat\"))\n",
    "      .merge(df[\"inventory\"], on=\"film_id\")\n",
    "      .merge(df[\"rental\"], on=\"inventory_id\")\n",
    "      .merge(df[\"payment\"], on=\"rental_id\", suffixes=(\"\", \"_pay\"))\n",
    "      .groupby([\"title\", \"name\"])\n",
    "      .agg(total_revenue=(\"amount\", \"sum\"))\n",
    "      .reset_index()\n",
    "      .sort_values(by=\"total_revenue\", ascending=True)\n",
    "      .head(5)\n",
    ")\n",
    "\n",
    "print(\"Top 5 most profitable films and their categories:\")\n",
    "print(max_revenue_film_category)"
   ],
   "id": "3f88b27939a806c6",
   "outputs": [
    {
     "name": "stdout",
     "output_type": "stream",
     "text": [
      "Top 5 most profitable films and their categories:\n",
      "                 title         name  total_revenue\n",
      "847        TEXAS WATCH       Horror           5.94\n",
      "608   OKLAHOMA JUMANJI          New           5.94\n",
      "315  FREEDOM CLEOPATRA       Comedy           5.95\n",
      "244  DUFFEL APOCALYPSE  Documentary           6.93\n",
      "953     YOUNG LANGUAGE  Documentary           6.93\n"
     ]
    }
   ],
   "execution_count": 261
  },
  {
   "metadata": {},
   "cell_type": "markdown",
   "source": [
    "-----------------------------------\n",
    "94. EN FAZLA KAZANÇ SAĞLAYAN MAĞAZA HANGİSİDİR VE TOPLAM KAZANCI NEDİR?\n",
    "-----------------------------------"
   ],
   "id": "fb2b846a3354df4e"
  },
  {
   "metadata": {
    "ExecuteTime": {
     "end_time": "2025-09-24T17:26:22.066785Z",
     "start_time": "2025-09-24T17:26:22.001808Z"
    }
   },
   "cell_type": "code",
   "source": [
    "df = {}\n",
    "\n",
    "for table_name in [\"store\", \"staff\", \"rental\", \"payment\"]:\n",
    "    cur = conn.execute(f\"SELECT * FROM {table_name}\")\n",
    "    cols = [c[0] for c in cur.description]\n",
    "    df[table_name] = pd.DataFrame(cur.fetchall(), columns=cols)\n",
    "\n",
    "max_revenue_store = (\n",
    "    df[\"store\"]\n",
    "      .merge(df[\"staff\"], on=\"store_id\", suffixes=(\"\", \"_staff\"))\n",
    "      .merge(df[\"rental\"], on=\"staff_id\", suffixes=(\"\", \"_rental\"))\n",
    "      .merge(df[\"payment\"], on=\"rental_id\", suffixes=(\"\", \"_payment\"))\n",
    "      .groupby(\"store_id\")\n",
    "      .agg(total_revenue=(\"amount\", \"sum\"))\n",
    "      .reset_index()\n",
    "      .sort_values(by=\"total_revenue\", ascending=False)\n",
    "      .head(1)\n",
    ")\n",
    "\n",
    "print(max_revenue_store)"
   ],
   "id": "3551bb8857aba945",
   "outputs": [
    {
     "name": "stdout",
     "output_type": "stream",
     "text": [
      "   store_id  total_revenue\n",
      "1         2       33881.94\n"
     ]
    }
   ],
   "execution_count": 262
  },
  {
   "metadata": {},
   "cell_type": "markdown",
   "source": [
    "-----------------------------------\n",
    "95. EN AZ KAZANÇ SAĞLAYAN MAĞAZA HANGİSİDİR VE TOPLAM KAZANCI NEDİR?\n",
    "-----------------------------------"
   ],
   "id": "4e69f1769907f377"
  },
  {
   "metadata": {
    "ExecuteTime": {
     "end_time": "2025-09-24T17:26:37.628953Z",
     "start_time": "2025-09-24T17:26:37.570528Z"
    }
   },
   "cell_type": "code",
   "source": [
    "df = {}\n",
    "\n",
    "for table_name in [\"store\", \"staff\", \"rental\", \"payment\"]:\n",
    "    cur = conn.execute(f\"SELECT * FROM {table_name}\")\n",
    "    cols = [c[0] for c in cur.description]\n",
    "    df[table_name] = pd.DataFrame(cur.fetchall(), columns=cols)\n",
    "\n",
    "max_revenue_store = (\n",
    "    df[\"store\"]\n",
    "      .merge(df[\"staff\"], on=\"store_id\", suffixes=(\"\", \"_staff\"))\n",
    "      .merge(df[\"rental\"], on=\"staff_id\", suffixes=(\"\", \"_rental\"))\n",
    "      .merge(df[\"payment\"], on=\"rental_id\", suffixes=(\"\", \"_payment\"))\n",
    "      .groupby(\"store_id\")\n",
    "      .agg(total_revenue=(\"amount\", \"sum\"))\n",
    "      .reset_index()\n",
    "      .sort_values(by=\"total_revenue\", ascending=True)\n",
    "      .head(1)\n",
    ")\n",
    "\n",
    "print(max_revenue_store)"
   ],
   "id": "e3a867b251801c2c",
   "outputs": [
    {
     "name": "stdout",
     "output_type": "stream",
     "text": [
      "   store_id  total_revenue\n",
      "0         1       33524.62\n"
     ]
    }
   ],
   "execution_count": 263
  },
  {
   "metadata": {},
   "cell_type": "markdown",
   "source": [
    "-----------------------------------\n",
    "96. EN FAZLA SAYIDA FARKLI FİLM KİRALAYAN MÜŞTERİ HANGİSİDİR?\n",
    "-----------------------------------"
   ],
   "id": "580225892b7592f9"
  },
  {
   "metadata": {
    "ExecuteTime": {
     "end_time": "2025-09-24T17:27:20.868773Z",
     "start_time": "2025-09-24T17:27:20.822049Z"
    }
   },
   "cell_type": "code",
   "source": [
    "df = {}\n",
    "\n",
    "for table_name in [\"rental\", \"customer\"]:\n",
    "    cur = conn.execute(f\"SELECT * FROM {table_name}\")\n",
    "    cols = [c[0] for c in cur.description]\n",
    "    df[table_name] = pd.DataFrame(cur.fetchall(), columns=cols)\n",
    "\n",
    "unique_rentals = (\n",
    "    df[\"customer\"]\n",
    "      .merge(df[\"rental\"], on=\"customer_id\")\n",
    "      .groupby([\"first_name\", \"last_name\"])\n",
    "      .agg(unique_rental_count=(\"inventory_id\", \"nunique\"))\n",
    "      .reset_index()\n",
    "      .sort_values(by=\"unique_rental_count\", ascending=False)\n",
    "      .head(1)\n",
    ")\n",
    "\n",
    "print(unique_rentals)"
   ],
   "id": "a24d82fff55a8e74",
   "outputs": [
    {
     "name": "stdout",
     "output_type": "stream",
     "text": [
      "    first_name last_name  unique_rental_count\n",
      "175    ELEANOR      HUNT                   46\n"
     ]
    }
   ],
   "execution_count": 264
  },
  {
   "metadata": {},
   "cell_type": "markdown",
   "source": [
    "-----------------------------------\n",
    "97. EN AZ SAYIDA FARKLI FİLM KİRALAYAN MÜŞTERİ HANGİSİDİR?\n",
    "-----------------------------------"
   ],
   "id": "be2d514fe70a5289"
  },
  {
   "metadata": {
    "ExecuteTime": {
     "end_time": "2025-09-24T17:27:33.299524Z",
     "start_time": "2025-09-24T17:27:33.268385Z"
    }
   },
   "cell_type": "code",
   "source": [
    "df = {}\n",
    "\n",
    "for table_name in [\"rental\", \"customer\"]:\n",
    "    cur = conn.execute(f\"SELECT * FROM {table_name}\")\n",
    "    cols = [c[0] for c in cur.description]\n",
    "    df[table_name] = pd.DataFrame(cur.fetchall(), columns=cols)\n",
    "\n",
    "unique_rentals = (\n",
    "    df[\"customer\"]\n",
    "      .merge(df[\"rental\"], on=\"customer_id\")\n",
    "      .groupby([\"first_name\", \"last_name\"])\n",
    "      .agg(unique_rental_count=(\"inventory_id\", \"nunique\"))\n",
    "      .reset_index()\n",
    "      .sort_values(by=\"unique_rental_count\", ascending=True)\n",
    "      .head(1)\n",
    ")\n",
    "\n",
    "print(unique_rentals)"
   ],
   "id": "40be9626ba12fcd6",
   "outputs": [
    {
     "name": "stdout",
     "output_type": "stream",
     "text": [
      "   first_name last_name  unique_rental_count\n",
      "71      BRIAN     WYMAN                   12\n"
     ]
    }
   ],
   "execution_count": 265
  },
  {
   "metadata": {},
   "cell_type": "markdown",
   "source": [
    "-----------------------------------\n",
    "98. EN FAZLA SAYIDA FARKLI MÜŞTERİ TARAFINDAN KİRALANAN FİLM HANGİSİDİR?\n",
    "-----------------------------------"
   ],
   "id": "c6835163625c8dc0"
  },
  {
   "metadata": {
    "ExecuteTime": {
     "end_time": "2025-09-24T17:28:03.962747Z",
     "start_time": "2025-09-24T17:28:03.914635Z"
    }
   },
   "cell_type": "code",
   "source": [
    "df = {}\n",
    "\n",
    "for table_name in [\"rental\", \"film\", \"inventory\"]:\n",
    "    cur = conn.execute(f\"SELECT * FROM {table_name}\")\n",
    "    cols = [c[0] for c in cur.description]\n",
    "    df[table_name] = pd.DataFrame(cur.fetchall(), columns=cols)\n",
    "\n",
    "unique_customer_film = (\n",
    "    df[\"film\"]\n",
    "      .merge(df[\"inventory\"], on=\"film_id\")\n",
    "      .merge(df[\"rental\"], on=\"inventory_id\")\n",
    "      .groupby(\"title\")\n",
    "      .agg(unique_customer_count=(\"customer_id\", \"nunique\"))\n",
    "      .reset_index()\n",
    "      .sort_values(by=\"unique_customer_count\", ascending=False)\n",
    "      .head(5)\n",
    ")\n",
    "\n",
    "print(unique_customer_film)"
   ],
   "id": "4344635656694bfc",
   "outputs": [
    {
     "name": "stdout",
     "output_type": "stream",
     "text": [
      "                   title  unique_customer_count\n",
      "96    BUCKET BROTHERHOOD                     33\n",
      "312       FORWARD TEMPLE                     32\n",
      "361       GRIT CLOCKWORK                     32\n",
      "697  RIDGEMONT SUBMARINE                     32\n",
      "733        SCALAWAG DUCK                     32\n"
     ]
    }
   ],
   "execution_count": 266
  },
  {
   "metadata": {},
   "cell_type": "markdown",
   "source": [
    "-----------------------------------\n",
    "99. EN AZ SAYIDA FARKLI MÜŞTERİ TARAFINDAN KİRALANAN FİLM HANGİSİDİR?\n",
    "-----------------------------------"
   ],
   "id": "3ae61ed5792d58fa"
  },
  {
   "metadata": {
    "ExecuteTime": {
     "end_time": "2025-09-24T17:28:17.094484Z",
     "start_time": "2025-09-24T17:28:17.058237Z"
    }
   },
   "cell_type": "code",
   "source": [
    "df = {}\n",
    "for table_name in [\"rental\", \"film\", \"inventory\"]:\n",
    "    cur = conn.execute(f\"SELECT * FROM {table_name}\")\n",
    "    cols = [c[0] for c in cur.description]\n",
    "    df[table_name] = pd.DataFrame(cur.fetchall(), columns=cols)\n",
    "\n",
    "# Films rented by the highest number of unique customers\n",
    "unique_customer_film = (\n",
    "    df[\"film\"]\n",
    "      .merge(df[\"inventory\"], on=\"film_id\")\n",
    "      .merge(df[\"rental\"], on=\"inventory_id\")\n",
    "      .groupby(\"title\")\n",
    "      .agg(unique_customer_count=(\"customer_id\", \"nunique\"))\n",
    "      .reset_index()\n",
    "      .sort_values(by=\"unique_customer_count\", ascending=True)\n",
    "      .head(5)\n",
    ")\n",
    "\n",
    "print(\"Films rented by the highest number of different customers:\")\n",
    "print(unique_customer_film)"
   ],
   "id": "4e8b0044ba8600dc",
   "outputs": [
    {
     "name": "stdout",
     "output_type": "stream",
     "text": [
      "Films rented by the highest number of different customers:\n",
      "              title  unique_customer_count\n",
      "866     TRAIN BUNCH                      4\n",
      "417    HUNTER ALTER                      4\n",
      "558     MIXED DOORS                      4\n",
      "378  HARDLY ROBBERS                      4\n",
      "747     SEVEN SWARM                      5\n"
     ]
    }
   ],
   "execution_count": 267
  },
  {
   "metadata": {},
   "cell_type": "markdown",
   "source": [
    "-----------------------------------\n",
    "100. HANGİ MAĞAZADA, HANGİ KATEGORİDE EN FAZLA KAZANÇ SAĞLANMIŞ?\n",
    "-----------------------------------"
   ],
   "id": "41d2e7a740943979"
  },
  {
   "metadata": {
    "ExecuteTime": {
     "end_time": "2025-09-24T17:32:40.978245Z",
     "start_time": "2025-09-24T17:32:40.890185Z"
    }
   },
   "cell_type": "code",
   "source": [
    "df = {}\n",
    "\n",
    "for t in [\"store\", \"staff\", \"rental\", \"payment\", \"inventory\", \"film\", \"film_category\", \"category\"]:\n",
    "    cur = conn.execute(f\"SELECT * FROM {t}\")\n",
    "    df[t] = pd.DataFrame(cur.fetchall(), columns=[c[0] for c in cur.description])\n",
    "\n",
    "rent_pay = (\n",
    "    df[\"rental\"][[\"rental_id\", \"staff_id\", \"inventory_id\"]]\n",
    "      .merge(df[\"payment\"][[\"rental_id\", \"amount\"]], on=\"rental_id\", how=\"inner\")\n",
    ")\n",
    "\n",
    "inv_genre = (\n",
    "    df[\"inventory\"][[\"inventory_id\", \"film_id\"]]\n",
    "      .merge(df[\"film\"][[\"film_id\"]], on=\"film_id\", how=\"inner\")\n",
    "      .merge(df[\"film_category\"][[\"film_id\", \"category_id\"]], on=\"film_id\", how=\"inner\")\n",
    "      .merge(df[\"category\"][[\"category_id\", \"name\"]], on=\"category_id\", how=\"inner\")\n",
    ")\n",
    "\n",
    "staff_store = (\n",
    "    df[\"staff\"][[\"staff_id\", \"store_id\"]]\n",
    "      .merge(df[\"store\"][[\"store_id\"]], on=\"store_id\", how=\"inner\")\n",
    ")\n",
    "\n",
    "# 4) Put all together and aggregate\n",
    "store_category_revenue = (\n",
    "    rent_pay\n",
    "      .merge(inv_genre,  on=\"inventory_id\", how=\"inner\")\n",
    "      .merge(staff_store, on=\"staff_id\",    how=\"inner\")\n",
    "      .groupby([\"store_id\", \"name\"], as_index=False)\n",
    "      .agg(total_revenue=(\"amount\", \"sum\"))\n",
    "      .sort_values(\"total_revenue\", ascending=False)\n",
    "      .head(1)\n",
    ")\n",
    "\n",
    "print(\"Store and category with the highest revenue:\")\n",
    "print(store_category_revenue)"
   ],
   "id": "20734115f92103a8",
   "outputs": [
    {
     "name": "stdout",
     "output_type": "stream",
     "text": [
      "Store and category with the highest revenue:\n",
      "    store_id    name  total_revenue\n",
      "30         2  Sports        2761.85\n"
     ]
    }
   ],
   "execution_count": 271
  }
 ],
 "metadata": {
  "kernelspec": {
   "display_name": "Python 3",
   "language": "python",
   "name": "python3"
  },
  "language_info": {
   "codemirror_mode": {
    "name": "ipython",
    "version": 2
   },
   "file_extension": ".py",
   "mimetype": "text/x-python",
   "name": "python",
   "nbconvert_exporter": "python",
   "pygments_lexer": "ipython2",
   "version": "2.7.6"
  }
 },
 "nbformat": 4,
 "nbformat_minor": 5
}
